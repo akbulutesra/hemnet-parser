{
 "cells": [
  {
   "cell_type": "code",
   "execution_count": 5,
   "metadata": {},
   "outputs": [],
   "source": [
    "import turicreate as tc"
   ]
  },
  {
   "cell_type": "code",
   "execution_count": 6,
   "metadata": {},
   "outputs": [],
   "source": [
    "from bs4 import BeautifulSoup"
   ]
  },
  {
   "cell_type": "code",
   "execution_count": 7,
   "metadata": {},
   "outputs": [],
   "source": [
    "import requests"
   ]
  },
  {
   "cell_type": "code",
   "execution_count": 8,
   "metadata": {},
   "outputs": [],
   "source": [
    "import cloudscraper"
   ]
  },
  {
   "cell_type": "code",
   "execution_count": 9,
   "metadata": {},
   "outputs": [],
   "source": [
    "scraper = cloudscraper.create_scraper()"
   ]
  },
  {
   "cell_type": "code",
   "execution_count": 10,
   "metadata": {},
   "outputs": [],
   "source": [
    "base_url = 'https://www.hemnet.se/salda/bostader?location_ids%5B%5D=473386'"
   ]
  },
  {
   "cell_type": "code",
   "execution_count": 11,
   "metadata": {},
   "outputs": [],
   "source": [
    "base_page = scraper.get(base_url)"
   ]
  },
  {
   "cell_type": "markdown",
   "metadata": {},
   "source": [
    "### get how many pages"
   ]
  },
  {
   "cell_type": "code",
   "execution_count": 12,
   "metadata": {},
   "outputs": [],
   "source": [
    "soup = BeautifulSoup(base_page.text, 'html.parser')"
   ]
  },
  {
   "cell_type": "code",
   "execution_count": 13,
   "metadata": {},
   "outputs": [
    {
     "data": {
      "text/plain": [
       "'Slutpriser bostäder - Lilla Essingen, Stockholms kommun - Hemnet'"
      ]
     },
     "execution_count": 13,
     "metadata": {},
     "output_type": "execute_result"
    }
   ],
   "source": [
    "soup.title.text"
   ]
  },
  {
   "cell_type": "code",
   "execution_count": 14,
   "metadata": {},
   "outputs": [],
   "source": [
    "container = soup.find('div', attrs={'class':'pagination'})"
   ]
  },
  {
   "cell_type": "code",
   "execution_count": 15,
   "metadata": {},
   "outputs": [
    {
     "data": {
      "text/plain": [
       "<div aria-label=\"Paginering\" class=\"pagination\" role=\"navigation\"> <em class=\"current button\">1</em> <a class=\"button\" href=\"/salda/bostader?location_ids%5B%5D=473386&amp;page=2\" rel=\"next\">2</a> <a class=\"button\" href=\"/salda/bostader?location_ids%5B%5D=473386&amp;page=3\">3</a> <a class=\"button\" href=\"/salda/bostader?location_ids%5B%5D=473386&amp;page=4\">4</a> <a class=\"button\" href=\"/salda/bostader?location_ids%5B%5D=473386&amp;page=5\">5</a> <a class=\"next_page button button--primary\" href=\"/salda/bostader?location_ids%5B%5D=473386&amp;page=2\" rel=\"next\">Nästa</a></div>"
      ]
     },
     "execution_count": 15,
     "metadata": {},
     "output_type": "execute_result"
    }
   ],
   "source": [
    "container"
   ]
  },
  {
   "cell_type": "code",
   "execution_count": 16,
   "metadata": {},
   "outputs": [],
   "source": [
    "buttons = container.find_all('a', attrs={'class':'button'})"
   ]
  },
  {
   "cell_type": "code",
   "execution_count": 17,
   "metadata": {},
   "outputs": [
    {
     "data": {
      "text/plain": [
       "[<a class=\"button\" href=\"/salda/bostader?location_ids%5B%5D=473386&amp;page=2\" rel=\"next\">2</a>,\n",
       " <a class=\"button\" href=\"/salda/bostader?location_ids%5B%5D=473386&amp;page=3\">3</a>,\n",
       " <a class=\"button\" href=\"/salda/bostader?location_ids%5B%5D=473386&amp;page=4\">4</a>,\n",
       " <a class=\"button\" href=\"/salda/bostader?location_ids%5B%5D=473386&amp;page=5\">5</a>,\n",
       " <a class=\"next_page button button--primary\" href=\"/salda/bostader?location_ids%5B%5D=473386&amp;page=2\" rel=\"next\">Nästa</a>]"
      ]
     },
     "execution_count": 17,
     "metadata": {},
     "output_type": "execute_result"
    }
   ],
   "source": [
    "buttons"
   ]
  },
  {
   "cell_type": "code",
   "execution_count": 18,
   "metadata": {},
   "outputs": [
    {
     "data": {
      "text/plain": [
       "<a class=\"button\" href=\"/salda/bostader?location_ids%5B%5D=473386&amp;page=5\">5</a>"
      ]
     },
     "execution_count": 18,
     "metadata": {},
     "output_type": "execute_result"
    }
   ],
   "source": [
    "buttons[-2]"
   ]
  },
  {
   "cell_type": "code",
   "execution_count": 19,
   "metadata": {},
   "outputs": [
    {
     "data": {
      "text/plain": [
       "5"
      ]
     },
     "execution_count": 19,
     "metadata": {},
     "output_type": "execute_result"
    }
   ],
   "source": [
    "int(buttons[-2].text)"
   ]
  },
  {
   "cell_type": "code",
   "execution_count": 20,
   "metadata": {},
   "outputs": [],
   "source": [
    "page_size = int(buttons[-2].text)"
   ]
  },
  {
   "cell_type": "code",
   "execution_count": 21,
   "metadata": {},
   "outputs": [],
   "source": [
    "titles = []\n",
    "addresses = []\n",
    "final_prices = []\n",
    "price_per_squaremeters = []\n",
    "demanded_prices = []\n",
    "room_numbers = []\n",
    "areas = []\n",
    "monthly_fees = []\n",
    "operating_costs = []\n",
    "year_of_constructions = []\n",
    "urls = []\n",
    "dates = []"
   ]
  },
  {
   "cell_type": "code",
   "execution_count": 22,
   "metadata": {},
   "outputs": [
    {
     "name": "stdout",
     "output_type": "stream",
     "text": [
      "https://www.hemnet.se/salda/bostader?location_ids%5B%5D=473386&page=1\n",
      "https://www.hemnet.se/salda/lagenhet-1rum-lilla-essingen-kungsholmen-stockholms-kommun-luxgatan-7-1313676\n",
      "https://www.hemnet.se/salda/lagenhet-4rum-kungsholmen-lilla-essingen-stockholms-kommun-primusgatan-108,-6-6-tr-1312380\n",
      "https://www.hemnet.se/salda/lagenhet-2rum-lilla-essingen-kungsholmen-stockholms-kommun-stralgatan-47,-3-tr-1312152\n",
      "https://www.hemnet.se/salda/lagenhet-2,5rum-lilla-essingen-stockholms-kommun-disponentgatan-1-1312061\n",
      "https://www.hemnet.se/salda/lagenhet-2rum-kungsholmen-lilla-essingen-stockholms-kommun-essinge-brogata-12-1311880\n",
      "https://www.hemnet.se/salda/lagenhet-1rum-lilla-essingen-kungsholmen-stockholms-kommun-essinge-brogata-39,-2-tr-1305647\n",
      "https://www.hemnet.se/salda/lagenhet-2rum-lilla-essingen-kungsholmen-stockholms-kommun-stralgatan-47-1302841\n",
      "https://www.hemnet.se/salda/lagenhet-3rum-lilla-essingen-stockholms-kommun-patentgatan-1,-3tr-1299622\n",
      "https://www.hemnet.se/salda/lagenhet-3rum-lilla-essingen-stockholms-kommun-primusgatan-82,-6tr-1299073\n",
      "https://www.hemnet.se/salda/lagenhet-4rum-lilla-essingen-kungsholmen-stockholms-kommun-primusgatan-81,-van-4-1298651\n",
      "https://www.hemnet.se/salda/lagenhet-2rum-lilla-essingen-kungsholmen-stockholms-kommun-stralgatan-23,-4-tr-1298222\n",
      "https://www.hemnet.se/salda/lagenhet-1,5rum-lilla-essingen-kungsholmen-stockholms-kommun-essinge-brogata-39,-1-tr-1298221\n",
      "https://www.hemnet.se/salda/lagenhet-1rum-lilla-essingen-kungsholmen-stockholms-kommun-essinge-brogata-22-1296724\n",
      "https://www.hemnet.se/salda/lagenhet-3rum-lilla-essingen-kungsholmen-stockholms-kommun-primusgatan-62-1295517\n",
      "https://www.hemnet.se/salda/lagenhet-2rum-kungsholmen-lilla-essingen-stockholms-kommun-disponentgatan-1-1294792\n",
      "https://www.hemnet.se/salda/lagenhet-1rum-lilla-essingen-kungsholmen-stockholms-kommun-stralgatan-21-1294244\n",
      "https://www.hemnet.se/salda/lagenhet-2rum-lilla-essingen-kungsholmen-stockholms-kommun-luxgatan-7,-van-2-1294198\n",
      "https://www.hemnet.se/salda/lagenhet-1rum-lilla-essingen-stockholms-kommun-stralgatan-19,-1tr-1294028\n",
      "https://www.hemnet.se/salda/lagenhet-3,5rum-lilla-essingen-stockholms-kommun-disponentgatan-1,-2tr-1294578\n",
      "https://www.hemnet.se/salda/lagenhet-2rum-lilla-essingen-stockholms-kommun-luxgatan-11-1292188\n",
      "https://www.hemnet.se/salda/lagenhet-2rum-lilla-essingen-kungsholmen-stockholms-kommun-essinge-brogata-20-1291983\n",
      "https://www.hemnet.se/salda/lagenhet-2rum-lilla-essingen-kungsholmen-stockholms-kommun-stralgatan-8,-5-tr-1291977\n",
      "https://www.hemnet.se/salda/lagenhet-1,5rum-kungsholmen-lilla-essingen-stockholms-kommun-stralgatan-19,-2tr-1287084\n",
      "https://www.hemnet.se/salda/lagenhet-2rum-lilla-essingen-stockholms-kommun-primusgatan-70,-1tr-1286259\n",
      "https://www.hemnet.se/salda/lagenhet-2rum-kungsholmen-lilla-essingen-stockholms-kommun-primusgatan-94,-7tr-1284179\n",
      "https://www.hemnet.se/salda/lagenhet-3,5rum-lilla-essingen-kungsholmen-stockholms-kommun-essinge-brogata-18,-van-4-1283705\n",
      "https://www.hemnet.se/salda/lagenhet-2rum-lilla-essingen-stockholms-kommun-primusgatan-70,-1tr-1282577\n",
      "https://www.hemnet.se/salda/lagenhet-2rum-kungsholmen-lilla-essingen-stockholms-kommun-essinge-brogata-12,-4tr-1282272\n",
      "https://www.hemnet.se/salda/lagenhet-2rum-lilla-essingen-kungsholmen-stockholms-kommun-primusgatan-88,-van-4-1282198\n",
      "https://www.hemnet.se/salda/lagenhet-1rum-lilla-essingen-kungsholmen-stockholms-kommun-stralgatan-8,-van-6-1279899\n",
      "https://www.hemnet.se/salda/lagenhet-1rum-kungsholmen-lilla-essingen-stockholms-kommun-stralgatan-19,-van-3-1279755\n",
      "https://www.hemnet.se/salda/lagenhet-2rum-kungsholmen-lilla-essingen-stockholms-kommun-luxgatan-11,-4-tr-1279620\n",
      "https://www.hemnet.se/salda/lagenhet-2rum-lilla-essingen-kungsholmen-stockholms-kommun-essinge-brogata-3-1279149\n",
      "https://www.hemnet.se/salda/lagenhet-2rum-lilla-essingen-kungsholmen-stockholms-kommun-luxgatan-6,-1,5-tr-1279177\n",
      "https://www.hemnet.se/salda/lagenhet-2rum-lilla-essingen-kungsholmen-stockholms-kommun-essinge-brogata-23-1277532\n",
      "https://www.hemnet.se/salda/lagenhet-1,5rum-lilla-essingen-kungsholmen-stockholms-kommun-stralgatan-33-1277486\n",
      "https://www.hemnet.se/salda/lagenhet-4rum-lilla-essingen-stockholms-kommun-luxgatan-19,-3tr-1277165\n",
      "https://www.hemnet.se/salda/lagenhet-2rum-lilla-essingen-stockholms-kommun-disponentgatan-4,-5-tr-1276882\n",
      "https://www.hemnet.se/salda/lagenhet-4rum-lilla-essingen-stockholms-kommun-essinge-brogata-3-1276171\n",
      "https://www.hemnet.se/salda/lagenhet-2rum-lilla-essingen-kungsholmen-stockholms-kommun-essinge-brogata-22-1274659\n",
      "https://www.hemnet.se/salda/lagenhet-2rum-lilla-essingen-stockholms-kommun-luxgatan-15,-4tr-1274332\n",
      "https://www.hemnet.se/salda/lagenhet-1rum-lilla-essingen-kungsholmen-stockholms-kommun-stralgatan-23-1273665\n",
      "https://www.hemnet.se/salda/lagenhet-2rum-lilla-essingen-kungsholmen-stockholms-kommun-essinge-brogata-27,-van-5-5-1273607\n",
      "https://www.hemnet.se/salda/lagenhet-2rum-kungsholmen-lilla-essingen-stockholms-kommun-essinge-brogata-39,-tr-1271828\n",
      "https://www.hemnet.se/salda/lagenhet-2rum-lilla-essingen-stockholms-kommun-essinge-brogata-12,-5-tr-1304177\n",
      "https://www.hemnet.se/salda/lagenhet-2rum-lilla-essingen-kungsholmen-stockholms-kommun-essinge-brogata-27,-van-3-1271028\n",
      "https://www.hemnet.se/salda/lagenhet-3rum-lilla-essingen-stockholms-kommun-primusgatan-86,-5tr-1270700\n",
      "https://www.hemnet.se/salda/lagenhet-2rum-lilla-essingen-kungsholmen-stockholms-kommun-disponentgatan-2-1270442\n",
      "https://www.hemnet.se/salda/lagenhet-3rum-lilla-essingen-stockholms-kommun-essinge-brogata-12,-5-tr-1270569\n",
      "https://www.hemnet.se/salda/lagenhet-2rum-kungsholmen-lilla-essingen-stockholms-kommun-essinge-brogata-5,-3-tr,-1270547\n",
      "https://www.hemnet.se/salda/bostader?location_ids%5B%5D=473386&page=2\n",
      "https://www.hemnet.se/salda/lagenhet-2rum-lilla-essingen-stockholms-kommun-essinge-brogata-3,-4tr-1270308\n",
      "https://www.hemnet.se/salda/lagenhet-2rum-lilla-essingen-stockholms-kommun-primusgatan-51,-10tr-1269838\n",
      "https://www.hemnet.se/salda/lagenhet-3rum-lilla-essingen-stockholms-kommun-primusgatan-87,-3tr-1269243\n",
      "https://www.hemnet.se/salda/lagenhet-3rum-lilla-essingen-kungsholmen-stockholms-kommun-essinge-brogata-5-1267597\n",
      "https://www.hemnet.se/salda/lagenhet-3rum-lilla-essingen-kungsholmen-stockholms-kommun-stralgatan-8-1265850\n",
      "https://www.hemnet.se/salda/lagenhet-2rum-lilla-essingen-stockholms-kommun-primusgatan-86-1265837\n",
      "https://www.hemnet.se/salda/lagenhet-2rum-lilla-essingen-kungsholmen-stockholms-kommun-primusgatan-91,-3-tr-1265312\n",
      "https://www.hemnet.se/salda/lagenhet-1,5rum-lilla-essingen-kungsholmen-stockholms-kommun-stralgatan-21,-2-tr-1265281\n",
      "https://www.hemnet.se/salda/lagenhet-2rum-lilla-essingen-kungsholmen-stockholms-kommun-essinge-brogata-23-1264014\n",
      "https://www.hemnet.se/salda/lagenhet-1rum-lilla-essingen-kungsholmen-stockholms-kommun-essinge-brogata-39,-van-4-4-1263537\n",
      "https://www.hemnet.se/salda/lagenhet-1,5rum-lilla-essingen-kungsholmen-stockholms-kommun-essinge-brogata-23-1263381\n",
      "https://www.hemnet.se/salda/lagenhet-2rum-lilla-essingen-kungsholmen-stockholms-kommun-luxgatan-21,-van-5-1263288\n",
      "https://www.hemnet.se/salda/lagenhet-4rum-lilla-essingen-stockholms-kommun-primusgatan-78,-6tr-1261329\n",
      "https://www.hemnet.se/salda/lagenhet-2rum-lilla-essingen-kungsholmen-stockholms-kommun-essinge-brogata-22-1260565\n",
      "https://www.hemnet.se/salda/lagenhet-1,5rum-stockholm-stockholms-kommun-luxgatan-7-1260498\n",
      "https://www.hemnet.se/salda/lagenhet-3rum-lilla-essingen-kungsholmen-stockholms-kommun-primusgatan-91-1260394\n",
      "https://www.hemnet.se/salda/lagenhet-2rum-lilla-essingen-kungsholmen-stockholms-kommun-primusgatan-96,-6tr-1260288\n",
      "https://www.hemnet.se/salda/lagenhet-3rum-lilla-essingen-stockholms-kommun-primusgatan-54,-4tr-1259632\n",
      "https://www.hemnet.se/salda/lagenhet-2rum-lilla-essingen-stockholms-kommun-primusgatan-77,-6tr-1258634\n",
      "https://www.hemnet.se/salda/lagenhet-3rum-lilla-essingen-kungsholmen-stockholms-kommun-primusgatan-64-1310422\n",
      "https://www.hemnet.se/salda/lagenhet-2rum-kungsholmen-lilla-essingen-stockholms-kommun-stralgatan-19,-4-tr-1257144\n",
      "https://www.hemnet.se/salda/lagenhet-2rum-kungsholmen-lilla-essingen-stockholms-kommun-disponentgatan-2,-4-tr-1256900\n",
      "https://www.hemnet.se/salda/lagenhet-2rum-lilla-essingen-stockholms-kommun-essinge-brogata-22,-1-tr-1256888\n",
      "https://www.hemnet.se/salda/lagenhet-1,5rum-lilla-essingen-kungsholmen-stockholms-kommun-stralgatan-47,-2-tr-1256327\n",
      "https://www.hemnet.se/salda/lagenhet-3rum-lilla-essingen-stockholms-kommun-primusgatan-96,-6tr-1254908\n",
      "https://www.hemnet.se/salda/lagenhet-2rum-lilla-essingen-kungsholmen-stockholms-kommun-primusgatan-96,-2tr-1253907\n",
      "https://www.hemnet.se/salda/lagenhet-1rum-kungsholmen-lilla-essingen-stockholms-kommun-essinge-brogata-22,-2-tr-1253828\n",
      "https://www.hemnet.se/salda/lagenhet-3rum-lilla-essingen-kungsholmen-stockholms-kommun-essinge-brogata-3-1253646\n",
      "https://www.hemnet.se/salda/lagenhet-3rum-kungsholmen-lilla-essingen-stockholms-kommun-primusgatan-51-1273478\n",
      "https://www.hemnet.se/salda/lagenhet-2rum-lilla-essingen-kungsholmen-stockholms-kommun-stralgatan-21-1253507\n",
      "https://www.hemnet.se/salda/lagenhet-2rum-lilla-essingen-kungsholmen-stockholms-kommun-disponentgatan-1-1252718\n",
      "https://www.hemnet.se/salda/lagenhet-3rum-lilla-essingen-stockholms-kommun-primusgatan-110,-5tr-1251966\n",
      "https://www.hemnet.se/salda/lagenhet-3rum-lilla-essingen-stockholms-kommun-primusgatan-62,-7-tr-1251663\n",
      "https://www.hemnet.se/salda/lagenhet-2rum-lilla-essingen-stockholms-kommun-essinge-brogata-10,-3tr-1250916\n",
      "https://www.hemnet.se/salda/lagenhet-4rum-kungsholmen-lilla-essingen-stockholms-kommun-primusgatan-84-1273482\n",
      "https://www.hemnet.se/salda/lagenhet-2rum-lilla-essingen-stockholms-kommun-essinge-brogata-27,-4-tr-1249314\n",
      "https://www.hemnet.se/salda/lagenhet-2rum-kungsholmen-lilla-essingen-stockholms-kommun-essinge-brogata-10,-4-tr-1248680\n",
      "https://www.hemnet.se/salda/lagenhet-3rum-lilla-essingen-stockholms-kommun-primusgatan-106,-4tr-1248755\n",
      "https://www.hemnet.se/salda/lagenhet-2rum-lilla-essingen-stockholms-kommun-essinge-brogata-15,-2tr-1248623\n",
      "https://www.hemnet.se/salda/lagenhet-3rum-lilla-essingen-stockholms-kommun-primusgatan-78,-2tr-1248274\n",
      "https://www.hemnet.se/salda/lagenhet-4rum-lilla-essingen-kungsholmen-stockholms-kommun-primusgatan-69-1247957\n",
      "https://www.hemnet.se/salda/lagenhet-2rum-lilla-essingen-kungsholmen-stockholms-kommun-primusgatan-53-1247417\n",
      "https://www.hemnet.se/salda/lagenhet-2rum-kungsholmen-lilla-essingen-stockholms-kommun-stralgatan-29-1246375\n",
      "https://www.hemnet.se/salda/lagenhet-2,5rum-lilla-essingen-kungsholmen-stockholms-kommun-stralgatan-19-1245398\n",
      "https://www.hemnet.se/salda/lagenhet-3rum-lilla-essingen-kungsholmen-stockholms-kommun-primusgatan-70-1245403\n",
      "https://www.hemnet.se/salda/lagenhet-1,5rum-lilla-essingen-kungsholmen-stockholms-kommun-essinge-brogata-8-1244365\n",
      "https://www.hemnet.se/salda/lagenhet-2rum-lilla-essingen-kungsholmen-stockholms-kommun-stralgatan-19-1241935\n",
      "https://www.hemnet.se/salda/lagenhet-3rum-lilla-essingen-kungsholmen-stockholms-kommun-essinge-brogata-15-1310427\n",
      "https://www.hemnet.se/salda/lagenhet-2rum-lilla-essingen-kungsholmen-stockholms-kommun-essinge-brogata-18-1239533\n",
      "https://www.hemnet.se/salda/lagenhet-2rum-lilla-essinge-stockholms-kommun-essinge-brogata-5-1239204\n",
      "https://www.hemnet.se/salda/bostader?location_ids%5B%5D=473386&page=3\n",
      "https://www.hemnet.se/salda/lagenhet-2rum-lilla-essingen-kungsholmen-stockholms-kommun-stralgatan-29,-4tr-1239010\n",
      "https://www.hemnet.se/salda/lagenhet-3rum-lilla-essingen-stockholms-kommun-stralgatan-45-1239346\n",
      "https://www.hemnet.se/salda/lagenhet-2rum-lilla-essingen-stockholms-kommun-essinge-brogata-18,-1tr-1239089\n",
      "https://www.hemnet.se/salda/lagenhet-1,5rum-lilla-essingen-kungsholmen-stockholms-kommun-essinge-brogata-39-1237831\n",
      "https://www.hemnet.se/salda/lagenhet-1rum-stockholms-kommun-luxgatan-7,-1,5-tr-1237454\n",
      "https://www.hemnet.se/salda/lagenhet-4rum-lilla-essingen-stockholms-kommun-patentgatan-1,-5tr-1236388\n",
      "https://www.hemnet.se/salda/lagenhet-3rum-lilla-essingen-stockholms-kommun-primusgatan-100,-6tr-1234793\n",
      "https://www.hemnet.se/salda/lagenhet-3rum-lilla-essingen-kungsholmen-stockholms-kommun-primusgatan-78-1234311\n",
      "https://www.hemnet.se/salda/lagenhet-3rum-kungsholmen-lilla-essingen-stockholms-kommun-primusgatan-54-1234105\n",
      "https://www.hemnet.se/salda/lagenhet-2rum-lilla-essingen-stockholms-kommun-essinge-brogata-12,-2tr-1234620\n",
      "https://www.hemnet.se/salda/lagenhet-2rum-lilla-essingen-kungsholmen-stockholms-kommun-stralgatan-35,-van-4-4-1233703\n",
      "https://www.hemnet.se/salda/lagenhet-2rum-lilla-essingen-kungsholmen-stockholms-kommun-stralgatan-8,-1tr-1233625\n",
      "https://www.hemnet.se/salda/lagenhet-1,5rum-lilla-essingen-kungsholmen-stockholms-kommun-essinge-brogata-39-1232572\n",
      "https://www.hemnet.se/salda/lagenhet-1,5rum-kungsholmen-stockholms-kommun-essinge-brogata-19,-5tr-1231721\n",
      "https://www.hemnet.se/salda/lagenhet-2rum-stockholms-kommun-luxgatan-37-1231535\n",
      "https://www.hemnet.se/salda/lagenhet-2rum-stockholms-kommun-stralgatan-35,-1-tr-1230561\n",
      "https://www.hemnet.se/salda/lagenhet-1rum-kungsholmen-lilla-essingen-stockholms-kommun-stralgatan-21,-3tr-1229765\n",
      "https://www.hemnet.se/salda/lagenhet-2rum-lilla-essingen-stockholms-kommun-stralgatan-12,-2tr-1230103\n",
      "https://www.hemnet.se/salda/lagenhet-2rum-lilla-essingen-kungsholmen-stockholms-kommun-stralgatan-21-1228644\n",
      "https://www.hemnet.se/salda/lagenhet-3rum-kungsholmen-lilla-essingen-stockholms-kommun-primusgatan-62,-van-5-1228384\n",
      "https://www.hemnet.se/salda/lagenhet-1rum-kungsholmen-lilla-essingen-stockholms-kommun-luxgatan-6,-4tr-1228693\n",
      "https://www.hemnet.se/salda/lagenhet-1rum-kungsholmen-lilla-essingen-stockholms-kommun-stralgatan-35,-4-tr-1227950\n",
      "https://www.hemnet.se/salda/lagenhet-2rum-lilla-essingen-kungsholmen-stockholms-kommun-luxgatan-7,-van-3-3-1224581\n",
      "https://www.hemnet.se/salda/lagenhet-1rum-kungsholmen-lilla-essingen-stockholms-kommun-stralgatan-19,-4-tr-1223060\n",
      "https://www.hemnet.se/salda/lagenhet-2rum-lilla-essingen-kungsholmen-stockholms-kommun-essinge-brogata-19-1222237\n",
      "https://www.hemnet.se/salda/lagenhet-3rum-lilla-essingen-kungsholmen-stockholms-kommun-primusgatan-81-1220939\n",
      "https://www.hemnet.se/salda/lagenhet-2rum-lilla-essingen-stockholms-kommun-luxgatan-25,-5tr-1219841\n",
      "https://www.hemnet.se/salda/lagenhet-2rum-lilla-essingen-stockholms-kommun-stralgatan-23,-2tr-1219471\n",
      "https://www.hemnet.se/salda/lagenhet-3rum-lilla-essingen-stockholms-kommun-primusgatan-96,-7tr-1219415\n",
      "https://www.hemnet.se/salda/lagenhet-2rum-lilla-essingen-kungsholmen-stockholms-kommun-primusgatan-86,-van-5-1219001\n",
      "https://www.hemnet.se/salda/lagenhet-2rum-lilla-essingen-kungsholmen-stockholms-kommun-stralgatan-23-1218588\n",
      "https://www.hemnet.se/salda/lagenhet-1,5rum-lilla-essingen-stockholms-kommun-essinge-brogata-22-1217516\n",
      "https://www.hemnet.se/salda/lagenhet-1,5rum-kungsholmen-lilla-essingen-stockholms-kommun-luxgatan-7,-1tr-1217196\n",
      "https://www.hemnet.se/salda/lagenhet-2rum-lilla-essingen-stockholms-kommun-stralgatan-12,-5tr-1216941\n",
      "https://www.hemnet.se/salda/lagenhet-2rum-kungsholmen-lilla-essingen-stockholms-kommun-stralgatan-23,-ep-1216533\n",
      "https://www.hemnet.se/salda/lagenhet-2rum-lilla-essingen-kungsholmen-stockholms-kommun-primusgatan-86,-van-3-1214833\n",
      "https://www.hemnet.se/salda/lagenhet-2rum-lilla-essingen-stockholms-kommun-primusgatan-78,-1tr-1213818\n",
      "https://www.hemnet.se/salda/lagenhet-2rum-lilla-essingen-kungsholmen-stockholms-kommun-primusgatan-87-1213050\n",
      "https://www.hemnet.se/salda/lagenhet-2rum-lilla-essingen-kungsholmen-stockholms-kommun-stralgatan-21-1212282\n",
      "https://www.hemnet.se/salda/lagenhet-4rum-lilla-essingen-stockholms-kommun-primusgatan-60,-4tr-1212570\n",
      "https://www.hemnet.se/salda/lagenhet-2rum-kungsholmen-lilla-essingen-stockholms-kommun-stralgatan-19-1211244\n",
      "https://www.hemnet.se/salda/lagenhet-3rum-lilla-essingen-stockholms-kommun-primusgatan-70,-2tr-1209069\n",
      "https://www.hemnet.se/salda/lagenhet-2rum-lilla-essingen-kungsholmen-stockholms-kommun-luxgatan-9-1207409\n",
      "https://www.hemnet.se/salda/lagenhet-3rum-lilla-essingen-kungsholmen-stockholms-kommun-stralgatan-12,-2tr-1207361\n",
      "https://www.hemnet.se/salda/lagenhet-1rum-lilla-essingen-kungsholmen-stockholms-kommun-essinge-brogata-8-1206354\n",
      "https://www.hemnet.se/salda/lagenhet-3rum-lilla-essingen-stockholms-kommun-luxgatan-23,-5tr-1204989\n",
      "https://www.hemnet.se/salda/lagenhet-2rum-lilla-essingen-kungsholmen-stockholms-kommun-primusgatan-98,-van-4-1203694\n",
      "https://www.hemnet.se/salda/lagenhet-2rum-lilla-essingen-stockholms-kommun-primusgatan-52,-5tr-1203651\n",
      "https://www.hemnet.se/salda/lagenhet-2rum-lilla-essingen-kungsholmen-stockholms-kommun-essinge-brogata-12,-4-tr-1203368\n",
      "https://www.hemnet.se/salda/lagenhet-2rum-lilla-essingen-stockholms-kommun-primusgatan-58,-7tr-1202053\n",
      "https://www.hemnet.se/salda/bostader?location_ids%5B%5D=473386&page=4\n",
      "https://www.hemnet.se/salda/lagenhet-2rum-lilla-essingen-kungsholmen-stockholms-kommun-essinge-brogata-5,-2tr-1201244\n",
      "https://www.hemnet.se/salda/lagenhet-2rum-lilla-essingen-stockholms-kommun-primusgatan-106,-2tr-1201635\n",
      "https://www.hemnet.se/salda/lagenhet-3rum-lilla-essingen-stockholms-kommun-luxgatan-11-1199704\n",
      "https://www.hemnet.se/salda/lagenhet-2rum-lilla-essingen-kungsholmen-stockholms-kommun-essinge-brogata-22-1197349\n",
      "https://www.hemnet.se/salda/lagenhet-2rum-lilla-essingen-kungsholmen-stockholms-kommun-stralgatan-33,-van-3-3-1197196\n",
      "https://www.hemnet.se/salda/lagenhet-2rum-lilla-essingen-kungsholmen-stockholms-kommun-luxgatan-37-1196258\n",
      "https://www.hemnet.se/salda/lagenhet-3rum-lilla-essingen-kungsholmen-stockholms-kommun-luxgatan-37,-van-9-10-1195083\n",
      "https://www.hemnet.se/salda/lagenhet-2rum-lilla-essingen-kungsholmen-stockholms-kommun-luxgatan-19,-van-5-5-1194385\n",
      "https://www.hemnet.se/salda/lagenhet-2rum-lilla-essingen-stockholms-kommun-essinge-brogata-3,-4-tr-1194928\n",
      "https://www.hemnet.se/salda/lagenhet-2rum-lilla-essingen-stockholms-kommun-stralgatan-23,-1tr-1194224\n",
      "https://www.hemnet.se/salda/lagenhet-2,5rum-lilla-essingen-stockholms-kommun-primusgatan-74,-1tr-1193627\n",
      "https://www.hemnet.se/salda/lagenhet-3rum-lilla-essingen-kungsholmen-stockholms-kommun-primusgatan-98,-van-4-1188752\n",
      "https://www.hemnet.se/salda/lagenhet-2rum-lilla-essingen-kungsholmen-stockholms-kommun-primusgatan-87-1188353\n",
      "https://www.hemnet.se/salda/lagenhet-2,5rum-lilla-essingen-kungsholmen-stockholms-kommun-primusgatan-84-1188213\n",
      "https://www.hemnet.se/salda/lagenhet-2rum-lilla-essingen-kungsholmen-stockholms-kommun-essinge-brogata-22-1185844\n",
      "https://www.hemnet.se/salda/lagenhet-2rum-lilla-essingen-stockholms-kommun-stralgatan-12,-2tr-1185789\n",
      "https://www.hemnet.se/salda/lagenhet-1rum-lilla-essingen-kungsholmen-stockholms-kommun-essinge-brogata-39,-2-tr-1184444\n",
      "https://www.hemnet.se/salda/lagenhet-1rum-lilla-essingen-stockholms-kommun-disponentgatan-1-1184239\n",
      "https://www.hemnet.se/salda/lagenhet-1rum-lilla-essingen-kungsholmen-stockholms-kommun-stralgatan-8-1182107\n",
      "https://www.hemnet.se/salda/lagenhet-4rum-lilla-essingen-stockholms-kommun-primusgatan-74,-5tr-1181901\n",
      "https://www.hemnet.se/salda/lagenhet-3rum-lilla-essingen-stockholms-kommun-primusgatan-51,-6tr-1181044\n",
      "https://www.hemnet.se/salda/lagenhet-2rum-lilla-essingen-kungsholmen-stockholms-kommun-essinge-brogata-22,-1-tr-1180565\n",
      "https://www.hemnet.se/salda/lagenhet-2rum-lilla-essingen-stockholms-kommun-essinge-brogata-3,-2-tr-1180721\n",
      "https://www.hemnet.se/salda/lagenhet-1rum-kungsholmen-lilla-essingen-stockholms-kommun-essinge-brogata-39,-4-tr-1179390\n",
      "https://www.hemnet.se/salda/lagenhet-3rum-lilla-essingen-stockholms-kommun-primusgatan-60,-5tr-1178636\n",
      "https://www.hemnet.se/salda/lagenhet-2rum-lilla-essingen-kungsholmen-stockholms-kommun-stralgatan-23-1178156\n",
      "https://www.hemnet.se/salda/lagenhet-3rum-kungsholmen-lilla-essingen-stockholms-kommun-disponentgatan-6,-3tr-1177827\n",
      "https://www.hemnet.se/salda/lagenhet-2rum-lilla-essingen-kungsholmen-stockholms-kommun-essinge-brogata-15,-van-5-1177432\n",
      "https://www.hemnet.se/salda/lagenhet-2rum-kungsholmen-lilla-essingen-stockholms-kommun-stralgatan-29,-hogst-upp-1177259\n",
      "https://www.hemnet.se/salda/lagenhet-2rum-kungsholmen-essingeoarna-stockholms-kommun-essinge-brogata-20-1176806\n",
      "https://www.hemnet.se/salda/lagenhet-2rum-kungsholmen-lilla-essingen-stockholms-kommun-stralgatan-47-1175866\n",
      "https://www.hemnet.se/salda/lagenhet-2,5rum-lilla-essingen-kungsholmen-stockholms-kommun-primusgatan-88-1175540\n",
      "https://www.hemnet.se/salda/lagenhet-2rum-lilla-essingen-kungsholmen-stockholms-kommun-stralgatan-23,-4-tr-1174155\n",
      "https://www.hemnet.se/salda/lagenhet-3rum-lilla-essingen-kungsholmen-stockholms-kommun-essinge-brogata-10,-van-4-1173798\n",
      "https://www.hemnet.se/salda/lagenhet-1rum-lilla-essingen-kungsholmen-stockholms-kommun-luxgatan-6-1173090\n",
      "https://www.hemnet.se/salda/lagenhet-2rum-lilla-essingen-stockholms-kommun-luxgatan-25,-4tr-1172677\n",
      "https://www.hemnet.se/salda/lagenhet-3rum-lilla-essingen-stockholms-kommun-essinge-brogata-5,-4-tr-1172595\n",
      "https://www.hemnet.se/salda/lagenhet-2rum-kungsholmen-lilla-essingen-stockholms-kommun-stralgatan-8,-4tr-1171061\n",
      "https://www.hemnet.se/salda/lagenhet-2rum-lilla-essingen-kungsholmen-stockholms-kommun-primusgatan-53,-van-8-1170607\n",
      "https://www.hemnet.se/salda/lagenhet-2rum-lilla-essingen-stockholms-kommun-patentgatan-5,-5tr-1169862\n",
      "https://www.hemnet.se/salda/lagenhet-2rum-kungsholmen-lilla-essingen-stockholms-kommun-essinge-brogata-22,-van-2-1168921\n",
      "https://www.hemnet.se/salda/lagenhet-2rum-lilla-essingen-kungsholmen-stockholms-kommun-stralgatan-21-1168246\n",
      "https://www.hemnet.se/salda/lagenhet-2rum-lilla-essingen-kungsholmen-stockholms-kommun-stralgatan-33-1168030\n",
      "https://www.hemnet.se/salda/lagenhet-2rum-kungsholmen-lilla-essingen-stockholms-kommun-essinge-brogata-20,-5tr-1167491\n",
      "https://www.hemnet.se/salda/lagenhet-2rum-lilla-essingen-stockholms-kommun-luxgatan-19,-2tr-1166753\n",
      "https://www.hemnet.se/salda/lagenhet-1rum-lilla-essingen-stockholms-kommun-luxgatan-7,-3tr-1164711\n",
      "https://www.hemnet.se/salda/lagenhet-3rum-kungsholmen-lilla-essingen-stockholms-kommun-primusgatan-81,-van-3-1164059\n",
      "https://www.hemnet.se/salda/lagenhet-2rum-lilla-essingen-kungsholmen-stockholms-kommun-stralgatan-35,-2tr-1163992\n",
      "https://www.hemnet.se/salda/lagenhet-2rum-lilla-essingen-kungsholmen-stockholms-kommun-stralgatan-45,-3-tr-1163200\n",
      "https://www.hemnet.se/salda/lagenhet-1rum-lilla-essingen-kungsholmen-stockholms-kommun-disponentgatan-1-1163006\n",
      "https://www.hemnet.se/salda/bostader?location_ids%5B%5D=473386&page=5\n",
      "https://www.hemnet.se/salda/lagenhet-2rum-lilla-essingen-kungsholmen-stockholms-kommun-essinge-brogata-15-1162527\n",
      "https://www.hemnet.se/salda/lagenhet-2rum-lilla-essingen-kungsholmen-stockholms-kommun-essinge-brogata-39,-van-4-4-1161703\n",
      "https://www.hemnet.se/salda/lagenhet-2rum-lilla-essingen-stockholms-kommun-stralgatan-45,-4-tr-1161865\n",
      "https://www.hemnet.se/salda/lagenhet-1rum-lilla-essingen-stockholms-kommun-essinge-brogata-23-1161579\n",
      "https://www.hemnet.se/salda/lagenhet-2rum-lilla-essingen-stockholms-kommun-primusgatan-94,-6tr-1160355\n",
      "https://www.hemnet.se/salda/lagenhet-2rum-kungsholmen-lilla-essingen-stockholms-kommun-primusgatan-53-6tr-1157816\n",
      "https://www.hemnet.se/salda/lagenhet-1rum-lilla-essingen-kungsholmen-stockholms-kommun-luxgatan-5-1157600\n",
      "https://www.hemnet.se/salda/lagenhet-3rum-lilla-essingen-kungsholmen-stockholms-kommun-disponentgatan-4-1154562\n",
      "https://www.hemnet.se/salda/lagenhet-3rum-lilla-essingen-stockholms-kommun-luxgatan-27,-5tr-1151453\n",
      "https://www.hemnet.se/salda/lagenhet-2rum-lilla-essingen-stockholms-kommun-stralgatan-35,-3tr-1151204\n",
      "https://www.hemnet.se/salda/lagenhet-2rum-lilla-essingen-kungsholmen-stockholms-kommun-essinge-brogata-1-1152225\n",
      "https://www.hemnet.se/salda/lagenhet-1rum-lilla-essingen-kungsholmen-stockholms-kommun-luxgatan-7-1147990\n",
      "https://www.hemnet.se/salda/lagenhet-2rum-lilla-essingen-kungsholmen-stockholms-kommun-luxgatan-25-1147082\n",
      "https://www.hemnet.se/salda/lagenhet-4rum-lilla-essingen-kungsholmen-stockholms-kommun-luxgatan-25,-van-6-6-1146443\n",
      "https://www.hemnet.se/salda/lagenhet-2rum-lilla-essingen-kungsholmen-stockholms-kommun-primusgatan-91,-3-tr-1145520\n",
      "https://www.hemnet.se/salda/lagenhet-2rum-lilla-essingen-stockholms-kommun-disponentgatan-4-1144932\n",
      "https://www.hemnet.se/salda/lagenhet-1,5rum-lilla-essingen-stockholms-kommun-luxgatan-11-1144976\n",
      "https://www.hemnet.se/salda/lagenhet-1,5rum-lilla-essingen-stockholms-kommun-essinge-brogata-8-1144533\n",
      "https://www.hemnet.se/salda/lagenhet-2rum-lilla-essingen-kungsholmen-stockholms-kommun-stralgatan-21-1143428\n",
      "https://www.hemnet.se/salda/lagenhet-1rum-lilla-essingen-kungsholmen-stockholms-kommun-essinge-brogata-5-1141495\n",
      "https://www.hemnet.se/salda/lagenhet-3rum-lilla-essingen-kungsholmen-stockholms-kommun-primusgatan-69-1141187\n",
      "https://www.hemnet.se/salda/lagenhet-2rum-lilla-essingen-stockholms-kommun-primusgatan-74,-2tr-1140517\n",
      "https://www.hemnet.se/salda/lagenhet-2rum-lilla-essingen-kungsholmen-stockholms-kommun-stralgatan-33,-van-3-3-1139622\n",
      "https://www.hemnet.se/salda/lagenhet-1,5rum-lilla-essingen-kungsholmen-stockholms-kommun-stralgatan-19-1139370\n",
      "https://www.hemnet.se/salda/lagenhet-2,5rum-kungsholmen-lilla-essingen-stockholms-kommun-primusgatan-50,-1tr-1137286\n",
      "https://www.hemnet.se/salda/lagenhet-2rum-lilla-essingen-stockholms-kommun-primusgatan-86,-2tr-1137091\n",
      "https://www.hemnet.se/salda/villa-3rum-lilla-essingen-stockholms-kommun-luxparkens-marina-1185419\n",
      "https://www.hemnet.se/salda/lagenhet-2rum-lilla-essingen-stockholms-kommun-essinge-brogata-15,-4tr-1135353\n",
      "https://www.hemnet.se/salda/lagenhet-1rum-lilla-essingen-stockholms-kommun-stralgatan-8,-3tr-1135151\n",
      "https://www.hemnet.se/salda/lagenhet-2rum-lilla-essingen-kungsholmen-stockholms-kommun-stralgatan-21-1134147\n",
      "https://www.hemnet.se/salda/lagenhet-3,5rum-lilla-essingen-kungsholmen-stockholms-kommun-primusgatan-64-1132520\n",
      "https://www.hemnet.se/salda/lagenhet-2rum-lilla-essingen-kungsholmen-stockholms-kommun-stralgatan-23-1131943\n",
      "https://www.hemnet.se/salda/lagenhet-2rum-lilla-essingen-kungsholmen-stockholms-kommun-primusgatan-53-1131715\n",
      "https://www.hemnet.se/salda/lagenhet-2rum-lilla-essingen-stockholms-kommun-luxgatan-37,-9tr-1132026\n",
      "https://www.hemnet.se/salda/lagenhet-2rum-lilla-essingen-stockholms-kommun-primusgatan-53,-6tr-1130970\n",
      "https://www.hemnet.se/salda/lagenhet-3rum-lilla-essingen-kungsholmen-stockholms-kommun-stralgatan-19-1128287\n",
      "https://www.hemnet.se/salda/lagenhet-1rum-lilla-essingen-stockholms-kommun-essinge-brogata-23,-2-tr-1127476\n"
     ]
    }
   ],
   "source": [
    "for n in range(1,page_size+1):\n",
    "    page_url = base_url + '&page=' + str(n)\n",
    "    print(page_url)\n",
    "    \n",
    "    page = scraper.get(page_url)\n",
    "    page_soup = BeautifulSoup(page.text, 'html.parser')\n",
    "        \n",
    "    cont = page_soup.find(id='search-results')\n",
    "        \n",
    "    home_urls = cont.find_all('a', attrs={'class':'item-link-container'})\n",
    "    \n",
    "    # print(home_urls)\n",
    "    \n",
    "    for home_url in home_urls:\n",
    "        url = home_url.attrs[\"href\"]\n",
    "        house_page = scraper.get(url)\n",
    "        house_soup = BeautifulSoup(house_page.text, 'html.parser')\n",
    "        \n",
    "        print(url)\n",
    "        \n",
    "        urls.append(url)\n",
    "        titles.append(house_soup.title.text)\n",
    "        \n",
    "        address_container = house_soup.find('h1')\n",
    "        addresses.append(address_container.text.split('\\n')[2].strip() )\n",
    "        final_prices.append( int(house_soup.find('span', attrs={'class':'sold-property__price-value'}).text.replace(u'\\xa0', u'')[:-2]) )\n",
    "        \n",
    "        container = house_soup.find('dl', attrs={'class':'sold-property__price-stats'})\n",
    "        dds = container.find_all('dd')\n",
    "        \n",
    "        try:\n",
    "            price_per_squaremeters.append( int(dds[0].text.replace(u'\\xa0', u'')[:-5]) )\n",
    "        except:\n",
    "            price_per_squaremeters.append(0)\n",
    "            \n",
    "        try:\n",
    "            demanded_prices.append( int(dds[1].text.replace(u'\\xa0', u'')[:-3]) )\n",
    "        except:\n",
    "            demanded_prices.append(0)\n",
    "        \n",
    "        container = house_soup.find('dl', attrs={'class':'sold-property__attributes'})\n",
    "        dds = container.find_all('dd')\n",
    "        \n",
    "        try:\n",
    "            room_numbers.append( dds[0].text )\n",
    "        except:\n",
    "            room_numbers.append('')\n",
    "            \n",
    "        try:\n",
    "            areas.append(int(dds[1].text[:-2]))\n",
    "        except:\n",
    "            areas.append(0)\n",
    "        \n",
    "        try:\n",
    "            monthly_fees.append(int(dds[2].text.replace(u'\\xa0', u'')[:-6]))\n",
    "        except:\n",
    "            monthly_fees.append(0)\n",
    "        \n",
    "        try:\n",
    "            if dds[3].text.replace(u'\\xa0', u'')[:-5] == '':\n",
    "                operating_costs.append(0)\n",
    "            else:\n",
    "                operating_costs.append(int(dds[3].text.replace(u'\\xa0', u'')[:-5]))\n",
    "        except:\n",
    "            operating_costs.append(0)\n",
    "        \n",
    "        try:\n",
    "            year_of_constructions.append(int(dds[4].text))\n",
    "        except:\n",
    "            year_of_constructions.append(0)  \n",
    "        \n",
    "        container = house_soup.find('time')\n",
    "        dates.append(container.attrs[\"datetime\"])"
   ]
  },
  {
   "cell_type": "code",
   "execution_count": 23,
   "metadata": {},
   "outputs": [
    {
     "data": {
      "text/plain": [
       "237"
      ]
     },
     "execution_count": 23,
     "metadata": {},
     "output_type": "execute_result"
    }
   ],
   "source": [
    "len(titles)"
   ]
  },
  {
   "cell_type": "code",
   "execution_count": 24,
   "metadata": {},
   "outputs": [
    {
     "data": {
      "text/plain": [
       "237"
      ]
     },
     "execution_count": 24,
     "metadata": {},
     "output_type": "execute_result"
    }
   ],
   "source": [
    "len(addresses)"
   ]
  },
  {
   "cell_type": "code",
   "execution_count": 25,
   "metadata": {},
   "outputs": [
    {
     "data": {
      "text/plain": [
       "237"
      ]
     },
     "execution_count": 25,
     "metadata": {},
     "output_type": "execute_result"
    }
   ],
   "source": [
    "len(final_prices)"
   ]
  },
  {
   "cell_type": "code",
   "execution_count": 26,
   "metadata": {},
   "outputs": [],
   "source": [
    "sf = tc.SFrame({'id':[1,2,3],'val':['A','B','C']})"
   ]
  },
  {
   "cell_type": "code",
   "execution_count": 27,
   "metadata": {},
   "outputs": [
    {
     "data": {
      "text/plain": [
       "237"
      ]
     },
     "execution_count": 27,
     "metadata": {},
     "output_type": "execute_result"
    }
   ],
   "source": [
    "len(price_per_squaremeters)"
   ]
  },
  {
   "cell_type": "code",
   "execution_count": 28,
   "metadata": {},
   "outputs": [
    {
     "data": {
      "text/plain": [
       "237"
      ]
     },
     "execution_count": 28,
     "metadata": {},
     "output_type": "execute_result"
    }
   ],
   "source": [
    "len(demanded_prices)"
   ]
  },
  {
   "cell_type": "code",
   "execution_count": 29,
   "metadata": {},
   "outputs": [
    {
     "data": {
      "text/plain": [
       "237"
      ]
     },
     "execution_count": 29,
     "metadata": {},
     "output_type": "execute_result"
    }
   ],
   "source": [
    "len(room_numbers)"
   ]
  },
  {
   "cell_type": "code",
   "execution_count": 30,
   "metadata": {},
   "outputs": [
    {
     "data": {
      "text/plain": [
       "237"
      ]
     },
     "execution_count": 30,
     "metadata": {},
     "output_type": "execute_result"
    }
   ],
   "source": [
    "len(areas)"
   ]
  },
  {
   "cell_type": "code",
   "execution_count": 31,
   "metadata": {},
   "outputs": [
    {
     "data": {
      "text/plain": [
       "237"
      ]
     },
     "execution_count": 31,
     "metadata": {},
     "output_type": "execute_result"
    }
   ],
   "source": [
    "len(monthly_fees)"
   ]
  },
  {
   "cell_type": "code",
   "execution_count": 32,
   "metadata": {},
   "outputs": [
    {
     "data": {
      "text/plain": [
       "237"
      ]
     },
     "execution_count": 32,
     "metadata": {},
     "output_type": "execute_result"
    }
   ],
   "source": [
    "len(operating_costs)"
   ]
  },
  {
   "cell_type": "code",
   "execution_count": 33,
   "metadata": {},
   "outputs": [
    {
     "data": {
      "text/plain": [
       "237"
      ]
     },
     "execution_count": 33,
     "metadata": {},
     "output_type": "execute_result"
    }
   ],
   "source": [
    "len(year_of_constructions)"
   ]
  },
  {
   "cell_type": "code",
   "execution_count": 34,
   "metadata": {},
   "outputs": [
    {
     "data": {
      "text/plain": [
       "237"
      ]
     },
     "execution_count": 34,
     "metadata": {},
     "output_type": "execute_result"
    }
   ],
   "source": [
    "len(urls)"
   ]
  },
  {
   "cell_type": "code",
   "execution_count": 35,
   "metadata": {},
   "outputs": [
    {
     "data": {
      "text/html": [
       "<div style=\"max-height:1000px;max-width:1500px;overflow:auto;\"><table frame=\"box\" rules=\"cols\">\n",
       "    <tr>\n",
       "        <th style=\"padding-left: 1em; padding-right: 1em; text-align: center\">id</th>\n",
       "        <th style=\"padding-left: 1em; padding-right: 1em; text-align: center\">val</th>\n",
       "    </tr>\n",
       "    <tr>\n",
       "        <td style=\"padding-left: 1em; padding-right: 1em; text-align: center; vertical-align: top\">1</td>\n",
       "        <td style=\"padding-left: 1em; padding-right: 1em; text-align: center; vertical-align: top\">A</td>\n",
       "    </tr>\n",
       "    <tr>\n",
       "        <td style=\"padding-left: 1em; padding-right: 1em; text-align: center; vertical-align: top\">2</td>\n",
       "        <td style=\"padding-left: 1em; padding-right: 1em; text-align: center; vertical-align: top\">B</td>\n",
       "    </tr>\n",
       "    <tr>\n",
       "        <td style=\"padding-left: 1em; padding-right: 1em; text-align: center; vertical-align: top\">3</td>\n",
       "        <td style=\"padding-left: 1em; padding-right: 1em; text-align: center; vertical-align: top\">C</td>\n",
       "    </tr>\n",
       "</table>\n",
       "[3 rows x 2 columns]<br/>\n",
       "</div>"
      ],
      "text/plain": [
       "Columns:\n",
       "\tid\tint\n",
       "\tval\tstr\n",
       "\n",
       "Rows: 3\n",
       "\n",
       "Data:\n",
       "+----+-----+\n",
       "| id | val |\n",
       "+----+-----+\n",
       "| 1  |  A  |\n",
       "| 2  |  B  |\n",
       "| 3  |  C  |\n",
       "+----+-----+\n",
       "[3 rows x 2 columns]"
      ]
     },
     "execution_count": 35,
     "metadata": {},
     "output_type": "execute_result"
    }
   ],
   "source": [
    "sf"
   ]
  },
  {
   "cell_type": "code",
   "execution_count": 36,
   "metadata": {},
   "outputs": [],
   "source": [
    "frame = tc.SFrame({'url':urls, 'date': dates, 'title':titles,'address':addresses, 'final_price': final_prices, 'price_per_squaremeter': price_per_squaremeters, 'demanded_price': demanded_prices,\n",
    "                  'room_number': room_numbers, 'area': areas, 'monthly_fee': monthly_fees, 'operating_cost': operating_costs, 'year_of_construction': year_of_constructions})"
   ]
  },
  {
   "cell_type": "code",
   "execution_count": 37,
   "metadata": {},
   "outputs": [
    {
     "data": {
      "text/html": [
       "<div style=\"max-height:1000px;max-width:1500px;overflow:auto;\"><table frame=\"box\" rules=\"cols\">\n",
       "    <tr>\n",
       "        <th style=\"padding-left: 1em; padding-right: 1em; text-align: center\">address</th>\n",
       "        <th style=\"padding-left: 1em; padding-right: 1em; text-align: center\">area</th>\n",
       "        <th style=\"padding-left: 1em; padding-right: 1em; text-align: center\">date</th>\n",
       "        <th style=\"padding-left: 1em; padding-right: 1em; text-align: center\">demanded_price</th>\n",
       "        <th style=\"padding-left: 1em; padding-right: 1em; text-align: center\">final_price</th>\n",
       "        <th style=\"padding-left: 1em; padding-right: 1em; text-align: center\">monthly_fee</th>\n",
       "        <th style=\"padding-left: 1em; padding-right: 1em; text-align: center\">operating_cost</th>\n",
       "        <th style=\"padding-left: 1em; padding-right: 1em; text-align: center\">price_per_squaremeter</th>\n",
       "    </tr>\n",
       "    <tr>\n",
       "        <td style=\"padding-left: 1em; padding-right: 1em; text-align: center; vertical-align: top\">Luxgatan 7</td>\n",
       "        <td style=\"padding-left: 1em; padding-right: 1em; text-align: center; vertical-align: top\">30</td>\n",
       "        <td style=\"padding-left: 1em; padding-right: 1em; text-align: center; vertical-align: top\">2021-01-13</td>\n",
       "        <td style=\"padding-left: 1em; padding-right: 1em; text-align: center; vertical-align: top\">2350000</td>\n",
       "        <td style=\"padding-left: 1em; padding-right: 1em; text-align: center; vertical-align: top\">2550000</td>\n",
       "        <td style=\"padding-left: 1em; padding-right: 1em; text-align: center; vertical-align: top\">1733</td>\n",
       "        <td style=\"padding-left: 1em; padding-right: 1em; text-align: center; vertical-align: top\">6096</td>\n",
       "        <td style=\"padding-left: 1em; padding-right: 1em; text-align: center; vertical-align: top\">85000</td>\n",
       "    </tr>\n",
       "    <tr>\n",
       "        <td style=\"padding-left: 1em; padding-right: 1em; text-align: center; vertical-align: top\">Primusgatan 108, 6/6 tr</td>\n",
       "        <td style=\"padding-left: 1em; padding-right: 1em; text-align: center; vertical-align: top\">101</td>\n",
       "        <td style=\"padding-left: 1em; padding-right: 1em; text-align: center; vertical-align: top\">2021-01-10</td>\n",
       "        <td style=\"padding-left: 1em; padding-right: 1em; text-align: center; vertical-align: top\">11400000</td>\n",
       "        <td style=\"padding-left: 1em; padding-right: 1em; text-align: center; vertical-align: top\">11400000</td>\n",
       "        <td style=\"padding-left: 1em; padding-right: 1em; text-align: center; vertical-align: top\">5887</td>\n",
       "        <td style=\"padding-left: 1em; padding-right: 1em; text-align: center; vertical-align: top\">5540</td>\n",
       "        <td style=\"padding-left: 1em; padding-right: 1em; text-align: center; vertical-align: top\">112871</td>\n",
       "    </tr>\n",
       "    <tr>\n",
       "        <td style=\"padding-left: 1em; padding-right: 1em; text-align: center; vertical-align: top\">Strålgatan 47, 3 tr</td>\n",
       "        <td style=\"padding-left: 1em; padding-right: 1em; text-align: center; vertical-align: top\">31</td>\n",
       "        <td style=\"padding-left: 1em; padding-right: 1em; text-align: center; vertical-align: top\">2021-01-08</td>\n",
       "        <td style=\"padding-left: 1em; padding-right: 1em; text-align: center; vertical-align: top\">2595000</td>\n",
       "        <td style=\"padding-left: 1em; padding-right: 1em; text-align: center; vertical-align: top\">2875000</td>\n",
       "        <td style=\"padding-left: 1em; padding-right: 1em; text-align: center; vertical-align: top\">2471</td>\n",
       "        <td style=\"padding-left: 1em; padding-right: 1em; text-align: center; vertical-align: top\">3200</td>\n",
       "        <td style=\"padding-left: 1em; padding-right: 1em; text-align: center; vertical-align: top\">92742</td>\n",
       "    </tr>\n",
       "    <tr>\n",
       "        <td style=\"padding-left: 1em; padding-right: 1em; text-align: center; vertical-align: top\">Disponentgatan 1</td>\n",
       "        <td style=\"padding-left: 1em; padding-right: 1em; text-align: center; vertical-align: top\">46</td>\n",
       "        <td style=\"padding-left: 1em; padding-right: 1em; text-align: center; vertical-align: top\">2021-01-08</td>\n",
       "        <td style=\"padding-left: 1em; padding-right: 1em; text-align: center; vertical-align: top\">3550000</td>\n",
       "        <td style=\"padding-left: 1em; padding-right: 1em; text-align: center; vertical-align: top\">3550000</td>\n",
       "        <td style=\"padding-left: 1em; padding-right: 1em; text-align: center; vertical-align: top\">3003</td>\n",
       "        <td style=\"padding-left: 1em; padding-right: 1em; text-align: center; vertical-align: top\">12979</td>\n",
       "        <td style=\"padding-left: 1em; padding-right: 1em; text-align: center; vertical-align: top\">77174</td>\n",
       "    </tr>\n",
       "    <tr>\n",
       "        <td style=\"padding-left: 1em; padding-right: 1em; text-align: center; vertical-align: top\">Essinge Brogata 12</td>\n",
       "        <td style=\"padding-left: 1em; padding-right: 1em; text-align: center; vertical-align: top\">0</td>\n",
       "        <td style=\"padding-left: 1em; padding-right: 1em; text-align: center; vertical-align: top\">2021-01-08</td>\n",
       "        <td style=\"padding-left: 1em; padding-right: 1em; text-align: center; vertical-align: top\">2495000</td>\n",
       "        <td style=\"padding-left: 1em; padding-right: 1em; text-align: center; vertical-align: top\">2900000</td>\n",
       "        <td style=\"padding-left: 1em; padding-right: 1em; text-align: center; vertical-align: top\">2162</td>\n",
       "        <td style=\"padding-left: 1em; padding-right: 1em; text-align: center; vertical-align: top\">4200</td>\n",
       "        <td style=\"padding-left: 1em; padding-right: 1em; text-align: center; vertical-align: top\">84058</td>\n",
       "    </tr>\n",
       "    <tr>\n",
       "        <td style=\"padding-left: 1em; padding-right: 1em; text-align: center; vertical-align: top\">Essinge Brogata 39, 2 tr</td>\n",
       "        <td style=\"padding-left: 1em; padding-right: 1em; text-align: center; vertical-align: top\">23</td>\n",
       "        <td style=\"padding-left: 1em; padding-right: 1em; text-align: center; vertical-align: top\">2020-12-14</td>\n",
       "        <td style=\"padding-left: 1em; padding-right: 1em; text-align: center; vertical-align: top\">1895000</td>\n",
       "        <td style=\"padding-left: 1em; padding-right: 1em; text-align: center; vertical-align: top\">2205000</td>\n",
       "        <td style=\"padding-left: 1em; padding-right: 1em; text-align: center; vertical-align: top\">1787</td>\n",
       "        <td style=\"padding-left: 1em; padding-right: 1em; text-align: center; vertical-align: top\">3600</td>\n",
       "        <td style=\"padding-left: 1em; padding-right: 1em; text-align: center; vertical-align: top\">95870</td>\n",
       "    </tr>\n",
       "    <tr>\n",
       "        <td style=\"padding-left: 1em; padding-right: 1em; text-align: center; vertical-align: top\">Strålgatan 47</td>\n",
       "        <td style=\"padding-left: 1em; padding-right: 1em; text-align: center; vertical-align: top\">40</td>\n",
       "        <td style=\"padding-left: 1em; padding-right: 1em; text-align: center; vertical-align: top\">2020-12-11</td>\n",
       "        <td style=\"padding-left: 1em; padding-right: 1em; text-align: center; vertical-align: top\">2595000</td>\n",
       "        <td style=\"padding-left: 1em; padding-right: 1em; text-align: center; vertical-align: top\">2850000</td>\n",
       "        <td style=\"padding-left: 1em; padding-right: 1em; text-align: center; vertical-align: top\">2957</td>\n",
       "        <td style=\"padding-left: 1em; padding-right: 1em; text-align: center; vertical-align: top\">4860</td>\n",
       "        <td style=\"padding-left: 1em; padding-right: 1em; text-align: center; vertical-align: top\">71250</td>\n",
       "    </tr>\n",
       "    <tr>\n",
       "        <td style=\"padding-left: 1em; padding-right: 1em; text-align: center; vertical-align: top\">Patentgatan 1, 3tr</td>\n",
       "        <td style=\"padding-left: 1em; padding-right: 1em; text-align: center; vertical-align: top\">69</td>\n",
       "        <td style=\"padding-left: 1em; padding-right: 1em; text-align: center; vertical-align: top\">2020-12-04</td>\n",
       "        <td style=\"padding-left: 1em; padding-right: 1em; text-align: center; vertical-align: top\">5995000</td>\n",
       "        <td style=\"padding-left: 1em; padding-right: 1em; text-align: center; vertical-align: top\">6400000</td>\n",
       "        <td style=\"padding-left: 1em; padding-right: 1em; text-align: center; vertical-align: top\">3778</td>\n",
       "        <td style=\"padding-left: 1em; padding-right: 1em; text-align: center; vertical-align: top\">7200</td>\n",
       "        <td style=\"padding-left: 1em; padding-right: 1em; text-align: center; vertical-align: top\">92754</td>\n",
       "    </tr>\n",
       "    <tr>\n",
       "        <td style=\"padding-left: 1em; padding-right: 1em; text-align: center; vertical-align: top\">Primusgatan 82, 6tr</td>\n",
       "        <td style=\"padding-left: 1em; padding-right: 1em; text-align: center; vertical-align: top\">0</td>\n",
       "        <td style=\"padding-left: 1em; padding-right: 1em; text-align: center; vertical-align: top\">2020-12-03</td>\n",
       "        <td style=\"padding-left: 1em; padding-right: 1em; text-align: center; vertical-align: top\">8495000</td>\n",
       "        <td style=\"padding-left: 1em; padding-right: 1em; text-align: center; vertical-align: top\">8495000</td>\n",
       "        <td style=\"padding-left: 1em; padding-right: 1em; text-align: center; vertical-align: top\">4828</td>\n",
       "        <td style=\"padding-left: 1em; padding-right: 1em; text-align: center; vertical-align: top\">7800</td>\n",
       "        <td style=\"padding-left: 1em; padding-right: 1em; text-align: center; vertical-align: top\">100533</td>\n",
       "    </tr>\n",
       "    <tr>\n",
       "        <td style=\"padding-left: 1em; padding-right: 1em; text-align: center; vertical-align: top\">Primusgatan 81, vån 4</td>\n",
       "        <td style=\"padding-left: 1em; padding-right: 1em; text-align: center; vertical-align: top\">96</td>\n",
       "        <td style=\"padding-left: 1em; padding-right: 1em; text-align: center; vertical-align: top\">2020-12-01</td>\n",
       "        <td style=\"padding-left: 1em; padding-right: 1em; text-align: center; vertical-align: top\">8495000</td>\n",
       "        <td style=\"padding-left: 1em; padding-right: 1em; text-align: center; vertical-align: top\">9250000</td>\n",
       "        <td style=\"padding-left: 1em; padding-right: 1em; text-align: center; vertical-align: top\">4793</td>\n",
       "        <td style=\"padding-left: 1em; padding-right: 1em; text-align: center; vertical-align: top\">6860</td>\n",
       "        <td style=\"padding-left: 1em; padding-right: 1em; text-align: center; vertical-align: top\">96354</td>\n",
       "    </tr>\n",
       "</table>\n",
       "<table frame=\"box\" rules=\"cols\">\n",
       "    <tr>\n",
       "        <th style=\"padding-left: 1em; padding-right: 1em; text-align: center\">room_number</th>\n",
       "        <th style=\"padding-left: 1em; padding-right: 1em; text-align: center\">title</th>\n",
       "        <th style=\"padding-left: 1em; padding-right: 1em; text-align: center\">url</th>\n",
       "        <th style=\"padding-left: 1em; padding-right: 1em; text-align: center\">year_of_construction</th>\n",
       "    </tr>\n",
       "    <tr>\n",
       "        <td style=\"padding-left: 1em; padding-right: 1em; text-align: center; vertical-align: top\">1 rum</td>\n",
       "        <td style=\"padding-left: 1em; padding-right: 1em; text-align: center; vertical-align: top\">Luxgatan 7 - Såld<br>bostadsrättslägenhet - ...</td>\n",
       "        <td style=\"padding-left: 1em; padding-right: 1em; text-align: center; vertical-align: top\">https://www.hemnet.se/sal<br>da/lagenhet-1rum-lilla- ...</td>\n",
       "        <td style=\"padding-left: 1em; padding-right: 1em; text-align: center; vertical-align: top\">1937</td>\n",
       "    </tr>\n",
       "    <tr>\n",
       "        <td style=\"padding-left: 1em; padding-right: 1em; text-align: center; vertical-align: top\">4 rum</td>\n",
       "        <td style=\"padding-left: 1em; padding-right: 1em; text-align: center; vertical-align: top\">Primusgatan 108, 6/6 tr -<br>Såld bostadsrättsläge ...</td>\n",
       "        <td style=\"padding-left: 1em; padding-right: 1em; text-align: center; vertical-align: top\">https://www.hemnet.se/sal<br>da/lagenhet-4rum- ...</td>\n",
       "        <td style=\"padding-left: 1em; padding-right: 1em; text-align: center; vertical-align: top\">1935</td>\n",
       "    </tr>\n",
       "    <tr>\n",
       "        <td style=\"padding-left: 1em; padding-right: 1em; text-align: center; vertical-align: top\">2 rum</td>\n",
       "        <td style=\"padding-left: 1em; padding-right: 1em; text-align: center; vertical-align: top\">Strålgatan 47, 3 tr  -<br>Såld bostadsrättsläge ...</td>\n",
       "        <td style=\"padding-left: 1em; padding-right: 1em; text-align: center; vertical-align: top\">https://www.hemnet.se/sal<br>da/lagenhet-2rum-lilla- ...</td>\n",
       "        <td style=\"padding-left: 1em; padding-right: 1em; text-align: center; vertical-align: top\">1939</td>\n",
       "    </tr>\n",
       "    <tr>\n",
       "        <td style=\"padding-left: 1em; padding-right: 1em; text-align: center; vertical-align: top\">2,5 rum</td>\n",
       "        <td style=\"padding-left: 1em; padding-right: 1em; text-align: center; vertical-align: top\">Disponentgatan 1 - Såld<br>bostadsrättslägenhet - ...</td>\n",
       "        <td style=\"padding-left: 1em; padding-right: 1em; text-align: center; vertical-align: top\">https://www.hemnet.se/sal<br>da/lagenhet-2,5rum-li ...</td>\n",
       "        <td style=\"padding-left: 1em; padding-right: 1em; text-align: center; vertical-align: top\">1935</td>\n",
       "    </tr>\n",
       "    <tr>\n",
       "        <td style=\"padding-left: 1em; padding-right: 1em; text-align: center; vertical-align: top\">2 rum</td>\n",
       "        <td style=\"padding-left: 1em; padding-right: 1em; text-align: center; vertical-align: top\">Essinge Brogata 12 - Såld<br>bostadsrättslägenhet - ...</td>\n",
       "        <td style=\"padding-left: 1em; padding-right: 1em; text-align: center; vertical-align: top\">https://www.hemnet.se/sal<br>da/lagenhet-2rum- ...</td>\n",
       "        <td style=\"padding-left: 1em; padding-right: 1em; text-align: center; vertical-align: top\">1934</td>\n",
       "    </tr>\n",
       "    <tr>\n",
       "        <td style=\"padding-left: 1em; padding-right: 1em; text-align: center; vertical-align: top\">1 rum</td>\n",
       "        <td style=\"padding-left: 1em; padding-right: 1em; text-align: center; vertical-align: top\">Essinge Brogata 39, 2 tr<br>- Såld ...</td>\n",
       "        <td style=\"padding-left: 1em; padding-right: 1em; text-align: center; vertical-align: top\">https://www.hemnet.se/sal<br>da/lagenhet-1rum-lilla- ...</td>\n",
       "        <td style=\"padding-left: 1em; padding-right: 1em; text-align: center; vertical-align: top\">1938</td>\n",
       "    </tr>\n",
       "    <tr>\n",
       "        <td style=\"padding-left: 1em; padding-right: 1em; text-align: center; vertical-align: top\">2 rum</td>\n",
       "        <td style=\"padding-left: 1em; padding-right: 1em; text-align: center; vertical-align: top\">Strålgatan 47 - Såld<br>bostadsrättslägenhet - ...</td>\n",
       "        <td style=\"padding-left: 1em; padding-right: 1em; text-align: center; vertical-align: top\">https://www.hemnet.se/sal<br>da/lagenhet-2rum-lilla- ...</td>\n",
       "        <td style=\"padding-left: 1em; padding-right: 1em; text-align: center; vertical-align: top\">1939</td>\n",
       "    </tr>\n",
       "    <tr>\n",
       "        <td style=\"padding-left: 1em; padding-right: 1em; text-align: center; vertical-align: top\">3 rum</td>\n",
       "        <td style=\"padding-left: 1em; padding-right: 1em; text-align: center; vertical-align: top\">Patentgatan 1, 3tr - Såld<br>bostadsrättslägenhet - ...</td>\n",
       "        <td style=\"padding-left: 1em; padding-right: 1em; text-align: center; vertical-align: top\">https://www.hemnet.se/sal<br>da/lagenhet-3rum-lilla- ...</td>\n",
       "        <td style=\"padding-left: 1em; padding-right: 1em; text-align: center; vertical-align: top\">2006</td>\n",
       "    </tr>\n",
       "    <tr>\n",
       "        <td style=\"padding-left: 1em; padding-right: 1em; text-align: center; vertical-align: top\">3 rum</td>\n",
       "        <td style=\"padding-left: 1em; padding-right: 1em; text-align: center; vertical-align: top\">Primusgatan 82, 6tr -<br>Såld bostadsrättsläge ...</td>\n",
       "        <td style=\"padding-left: 1em; padding-right: 1em; text-align: center; vertical-align: top\">https://www.hemnet.se/sal<br>da/lagenhet-3rum-lilla- ...</td>\n",
       "        <td style=\"padding-left: 1em; padding-right: 1em; text-align: center; vertical-align: top\">2004</td>\n",
       "    </tr>\n",
       "    <tr>\n",
       "        <td style=\"padding-left: 1em; padding-right: 1em; text-align: center; vertical-align: top\">4 rum</td>\n",
       "        <td style=\"padding-left: 1em; padding-right: 1em; text-align: center; vertical-align: top\">Primusgatan 81, vån 4 -<br>Såld bostadsrättsläge ...</td>\n",
       "        <td style=\"padding-left: 1em; padding-right: 1em; text-align: center; vertical-align: top\">https://www.hemnet.se/sal<br>da/lagenhet-4rum-lilla- ...</td>\n",
       "        <td style=\"padding-left: 1em; padding-right: 1em; text-align: center; vertical-align: top\">2004</td>\n",
       "    </tr>\n",
       "</table>\n",
       "[237 rows x 12 columns]<br/>Note: Only the head of the SFrame is printed.<br/>You can use print_rows(num_rows=m, num_columns=n) to print more rows and columns.\n",
       "</div>"
      ],
      "text/plain": [
       "Columns:\n",
       "\taddress\tstr\n",
       "\tarea\tint\n",
       "\tdate\tstr\n",
       "\tdemanded_price\tint\n",
       "\tfinal_price\tint\n",
       "\tmonthly_fee\tint\n",
       "\toperating_cost\tint\n",
       "\tprice_per_squaremeter\tint\n",
       "\troom_number\tstr\n",
       "\ttitle\tstr\n",
       "\turl\tstr\n",
       "\tyear_of_construction\tint\n",
       "\n",
       "Rows: 237\n",
       "\n",
       "Data:\n",
       "+--------------------------+------+------------+----------------+-------------+\n",
       "|         address          | area |    date    | demanded_price | final_price |\n",
       "+--------------------------+------+------------+----------------+-------------+\n",
       "|        Luxgatan 7        |  30  | 2021-01-13 |    2350000     |   2550000   |\n",
       "| Primusgatan 108, 6/6 tr  | 101  | 2021-01-10 |    11400000    |   11400000  |\n",
       "|   Strålgatan 47, 3 tr    |  31  | 2021-01-08 |    2595000     |   2875000   |\n",
       "|     Disponentgatan 1     |  46  | 2021-01-08 |    3550000     |   3550000   |\n",
       "|    Essinge Brogata 12    |  0   | 2021-01-08 |    2495000     |   2900000   |\n",
       "| Essinge Brogata 39, 2 tr |  23  | 2020-12-14 |    1895000     |   2205000   |\n",
       "|      Strålgatan 47       |  40  | 2020-12-11 |    2595000     |   2850000   |\n",
       "|    Patentgatan 1, 3tr    |  69  | 2020-12-04 |    5995000     |   6400000   |\n",
       "|   Primusgatan 82, 6tr    |  0   | 2020-12-03 |    8495000     |   8495000   |\n",
       "|  Primusgatan 81, vån 4   |  96  | 2020-12-01 |    8495000     |   9250000   |\n",
       "+--------------------------+------+------------+----------------+-------------+\n",
       "+-------------+----------------+-----------------------+-------------+\n",
       "| monthly_fee | operating_cost | price_per_squaremeter | room_number |\n",
       "+-------------+----------------+-----------------------+-------------+\n",
       "|     1733    |      6096      |         85000         |    1 rum    |\n",
       "|     5887    |      5540      |         112871        |    4 rum    |\n",
       "|     2471    |      3200      |         92742         |    2 rum    |\n",
       "|     3003    |     12979      |         77174         |   2,5 rum   |\n",
       "|     2162    |      4200      |         84058         |    2 rum    |\n",
       "|     1787    |      3600      |         95870         |    1 rum    |\n",
       "|     2957    |      4860      |         71250         |    2 rum    |\n",
       "|     3778    |      7200      |         92754         |    3 rum    |\n",
       "|     4828    |      7800      |         100533        |    3 rum    |\n",
       "|     4793    |      6860      |         96354         |    4 rum    |\n",
       "+-------------+----------------+-----------------------+-------------+\n",
       "+-------------------------------+-------------------------------+----------------------+\n",
       "|             title             |              url              | year_of_construction |\n",
       "+-------------------------------+-------------------------------+----------------------+\n",
       "| Luxgatan 7 - Såld bostadsr... | https://www.hemnet.se/sald... |         1937         |\n",
       "| Primusgatan 108, 6/6 tr - ... | https://www.hemnet.se/sald... |         1935         |\n",
       "| Strålgatan 47, 3 tr  - Sål... | https://www.hemnet.se/sald... |         1939         |\n",
       "| Disponentgatan 1 - Såld bo... | https://www.hemnet.se/sald... |         1935         |\n",
       "| Essinge Brogata 12 - Såld ... | https://www.hemnet.se/sald... |         1934         |\n",
       "| Essinge Brogata 39, 2 tr  ... | https://www.hemnet.se/sald... |         1938         |\n",
       "| Strålgatan 47 - Såld bosta... | https://www.hemnet.se/sald... |         1939         |\n",
       "| Patentgatan 1, 3tr - Såld ... | https://www.hemnet.se/sald... |         2006         |\n",
       "| Primusgatan 82, 6tr - Såld... | https://www.hemnet.se/sald... |         2004         |\n",
       "| Primusgatan 81, vån 4 - Så... | https://www.hemnet.se/sald... |         2004         |\n",
       "+-------------------------------+-------------------------------+----------------------+\n",
       "[237 rows x 12 columns]\n",
       "Note: Only the head of the SFrame is printed.\n",
       "You can use print_rows(num_rows=m, num_columns=n) to print more rows and columns."
      ]
     },
     "execution_count": 37,
     "metadata": {},
     "output_type": "execute_result"
    }
   ],
   "source": [
    "frame"
   ]
  },
  {
   "cell_type": "code",
   "execution_count": 38,
   "metadata": {},
   "outputs": [],
   "source": [
    "frame.save(filename='./houses.csv',format='csv')"
   ]
  },
  {
   "cell_type": "code",
   "execution_count": 39,
   "metadata": {},
   "outputs": [
    {
     "data": {
      "text/html": [
       "<pre>Materializing SFrame</pre>"
      ],
      "text/plain": [
       "Materializing SFrame"
      ]
     },
     "metadata": {},
     "output_type": "display_data"
    },
    {
     "data": {
      "text/html": [
       "<html>                 <body>                     <iframe style=\"border:0;margin:0\" width=\"1000\" height=\"3900\" srcdoc='<html lang=\"en\">                         <head>                             <script src=\"https://cdnjs.cloudflare.com/ajax/libs/vega/5.4.0/vega.js\"></script>                             <script src=\"https://cdnjs.cloudflare.com/ajax/libs/vega-embed/4.0.0/vega-embed.js\"></script>                             <script src=\"https://cdnjs.cloudflare.com/ajax/libs/vega-tooltip/0.5.1/vega-tooltip.min.js\"></script>                             <link rel=\"stylesheet\" type=\"text/css\" href=\"https://cdnjs.cloudflare.com/ajax/libs/vega-tooltip/0.5.1/vega-tooltip.min.css\">                             <style>                             .vega-actions > a{                                 color:white;                                 text-decoration: none;                                 font-family: \"Arial\";                                 cursor:pointer;                                 padding:5px;                                 background:#AAAAAA;                                 border-radius:4px;                                 padding-left:10px;                                 padding-right:10px;                                 margin-right:5px;                             }                             .vega-actions{                                 margin-top:20px;                                 text-align:center                             }                            .vega-actions > a{                                 background:#999999;                            }                             </style>                         </head>                         <body>                             <div id=\"vis\">                             </div>                             <script>                                 var vega_json = \"{\\\"$schema\\\": \\\"https://vega.github.io/schema/vega/v4.json\\\", \\\"metadata\\\": {\\\"bubbleOpts\\\": {\\\"showAllFields\\\": false, \\\"fields\\\": [{\\\"field\\\": \\\"left\\\"}, {\\\"field\\\": \\\"right\\\"}, {\\\"field\\\": \\\"count\\\"}, {\\\"field\\\": \\\"label\\\"}]}}, \\\"width\\\": 800, \\\"height\\\": 3680, \\\"padding\\\": 8, \\\"data\\\": [{\\\"name\\\": \\\"pts_store\\\"}, {\\\"name\\\": \\\"source_2\\\", \\\"values\\\": [{\\\"a\\\": 0, \\\"title\\\": \\\"address\\\", \\\"num_row\\\": 237, \\\"type\\\": \\\"str\\\", \\\"num_unique\\\": 178, \\\"num_missing\\\": 0, \\\"categorical\\\": [{\\\"label\\\": \\\"Str\\\\u00e5lgatan 21\\\", \\\"label_idx\\\": 0, \\\"count\\\": 7, \\\"percentage\\\": \\\"2.95359%\\\"}, {\\\"label\\\": \\\"Essinge Brogata 22\\\", \\\"label_idx\\\": 1, \\\"count\\\": 6, \\\"percentage\\\": \\\"2.53165%\\\"}, {\\\"label\\\": \\\"Disponentgatan 1\\\", \\\"label_idx\\\": 2, \\\"count\\\": 5, \\\"percentage\\\": \\\"2.1097%\\\"}, {\\\"label\\\": \\\"Str\\\\u00e5lgatan 19\\\", \\\"label_idx\\\": 3, \\\"count\\\": 5, \\\"percentage\\\": \\\"2.1097%\\\"}, {\\\"label\\\": \\\"Str\\\\u00e5lgatan 23\\\", \\\"label_idx\\\": 4, \\\"count\\\": 4, \\\"percentage\\\": \\\"1.68776%\\\"}, {\\\"label\\\": \\\"Essinge Brogata 23\\\", \\\"label_idx\\\": 5, \\\"count\\\": 3, \\\"percentage\\\": \\\"1.26582%\\\"}, {\\\"label\\\": \\\"Essinge Brogata 5\\\", \\\"label_idx\\\": 6, \\\"count\\\": 3, \\\"percentage\\\": \\\"1.26582%\\\"}, {\\\"label\\\": \\\"Essinge Brogata 8\\\", \\\"label_idx\\\": 7, \\\"count\\\": 3, \\\"percentage\\\": \\\"1.26582%\\\"}, {\\\"label\\\": \\\"Luxgatan 11\\\", \\\"label_idx\\\": 8, \\\"count\\\": 3, \\\"percentage\\\": \\\"1.26582%\\\"}, {\\\"label\\\": \\\"Luxgatan 7\\\", \\\"label_idx\\\": 9, \\\"count\\\": 3, \\\"percentage\\\": \\\"1.26582%\\\"}, {\\\"label\\\": \\\"Other (168 labels)\\\", \\\"label_idx\\\": 10, \\\"count\\\": 195, \\\"percentage\\\": \\\"82.2785%\\\"}], \\\"numeric\\\": []}, {\\\"a\\\": 1, \\\"title\\\": \\\"area\\\", \\\"num_row\\\": 237, \\\"type\\\": \\\"integer\\\", \\\"num_unique\\\": 60, \\\"num_missing\\\": 0, \\\"mean\\\": 40.725738, \\\"min\\\": 0.0, \\\"max\\\": 135.0, \\\"median\\\": 40.0, \\\"stdev\\\": 25.286641, \\\"numeric\\\": [{\\\"left\\\": -2, \\\"right\\\": 5, \\\"count\\\": 36}, {\\\"left\\\": 5, \\\"right\\\": 12, \\\"count\\\": 0}, {\\\"left\\\": 12, \\\"right\\\": 19, \\\"count\\\": 0}, {\\\"left\\\": 19, \\\"right\\\": 26, \\\"count\\\": 18}, {\\\"left\\\": 26, \\\"right\\\": 33, \\\"count\\\": 24}, {\\\"left\\\": 33, \\\"right\\\": 40, \\\"count\\\": 40}, {\\\"left\\\": 40, \\\"right\\\": 47, \\\"count\\\": 42}, {\\\"left\\\": 47, \\\"right\\\": 54, \\\"count\\\": 13}, {\\\"left\\\": 54, \\\"right\\\": 61, \\\"count\\\": 14}, {\\\"left\\\": 61, \\\"right\\\": 68, \\\"count\\\": 18}, {\\\"left\\\": 68, \\\"right\\\": 75, \\\"count\\\": 11}, {\\\"left\\\": 75, \\\"right\\\": 82, \\\"count\\\": 7}, {\\\"left\\\": 82, \\\"right\\\": 89, \\\"count\\\": 4}, {\\\"left\\\": 89, \\\"right\\\": 96, \\\"count\\\": 3}, {\\\"left\\\": 96, \\\"right\\\": 103, \\\"count\\\": 4}, {\\\"left\\\": 103, \\\"right\\\": 110, \\\"count\\\": 1}, {\\\"left\\\": 110, \\\"right\\\": 117, \\\"count\\\": 0}, {\\\"left\\\": 117, \\\"right\\\": 124, \\\"count\\\": 1}, {\\\"left\\\": 124, \\\"right\\\": 131, \\\"count\\\": 0}, {\\\"left\\\": 131, \\\"right\\\": 138, \\\"count\\\": 1}, {\\\"start\\\": -2, \\\"stop\\\": 138, \\\"step\\\": 7}], \\\"categorical\\\": []}, {\\\"a\\\": 2, \\\"title\\\": \\\"date\\\", \\\"num_row\\\": 237, \\\"type\\\": \\\"str\\\", \\\"num_unique\\\": 155, \\\"num_missing\\\": 0, \\\"categorical\\\": [{\\\"label\\\": \\\"2020-10-14\\\", \\\"label_idx\\\": 0, \\\"count\\\": 5, \\\"percentage\\\": \\\"2.1097%\\\"}, {\\\"label\\\": \\\"2020-08-27\\\", \\\"label_idx\\\": 1, \\\"count\\\": 4, \\\"percentage\\\": \\\"1.68776%\\\"}, {\\\"label\\\": \\\"2020-09-10\\\", \\\"label_idx\\\": 2, \\\"count\\\": 4, \\\"percentage\\\": \\\"1.68776%\\\"}, {\\\"label\\\": \\\"2020-09-29\\\", \\\"label_idx\\\": 3, \\\"count\\\": 4, \\\"percentage\\\": \\\"1.68776%\\\"}, {\\\"label\\\": \\\"2020-01-23\\\", \\\"label_idx\\\": 4, \\\"count\\\": 3, \\\"percentage\\\": \\\"1.26582%\\\"}, {\\\"label\\\": \\\"2020-03-25\\\", \\\"label_idx\\\": 5, \\\"count\\\": 3, \\\"percentage\\\": \\\"1.26582%\\\"}, {\\\"label\\\": \\\"2020-04-29\\\", \\\"label_idx\\\": 6, \\\"count\\\": 3, \\\"percentage\\\": \\\"1.26582%\\\"}, {\\\"label\\\": \\\"2020-05-29\\\", \\\"label_idx\\\": 7, \\\"count\\\": 3, \\\"percentage\\\": \\\"1.26582%\\\"}, {\\\"label\\\": \\\"2020-08-07\\\", \\\"label_idx\\\": 8, \\\"count\\\": 3, \\\"percentage\\\": \\\"1.26582%\\\"}, {\\\"label\\\": \\\"2020-08-19\\\", \\\"label_idx\\\": 9, \\\"count\\\": 3, \\\"percentage\\\": \\\"1.26582%\\\"}, {\\\"label\\\": \\\"Other (145 labels)\\\", \\\"label_idx\\\": 10, \\\"count\\\": 202, \\\"percentage\\\": \\\"85.2321%\\\"}], \\\"numeric\\\": []}, {\\\"a\\\": 3, \\\"title\\\": \\\"demanded_price\\\", \\\"num_row\\\": 237, \\\"type\\\": \\\"integer\\\", \\\"num_unique\\\": 100, \\\"num_missing\\\": 0, \\\"mean\\\": 3895168.776371, \\\"min\\\": 0.0, \\\"max\\\": 13950000.0, \\\"median\\\": 3050000.0, \\\"stdev\\\": 2003645.615398, \\\"numeric\\\": [{\\\"left\\\": -75400, \\\"right\\\": 630500, \\\"count\\\": 1}, {\\\"left\\\": 630500, \\\"right\\\": 1336400, \\\"count\\\": 0}, {\\\"left\\\": 1336400, \\\"right\\\": 2042300, \\\"count\\\": 18}, {\\\"left\\\": 2042300, \\\"right\\\": 2748200, \\\"count\\\": 63}, {\\\"left\\\": 2748200, \\\"right\\\": 3454100, \\\"count\\\": 55}, {\\\"left\\\": 3454100, \\\"right\\\": 4160000, \\\"count\\\": 18}, {\\\"left\\\": 4160000, \\\"right\\\": 4865900, \\\"count\\\": 27}, {\\\"left\\\": 4865900, \\\"right\\\": 5571800, \\\"count\\\": 14}, {\\\"left\\\": 5571800, \\\"right\\\": 6277700, \\\"count\\\": 15}, {\\\"left\\\": 6277700, \\\"right\\\": 6983600, \\\"count\\\": 9}, {\\\"left\\\": 6983600, \\\"right\\\": 7689500, \\\"count\\\": 1}, {\\\"left\\\": 7689500, \\\"right\\\": 8395400, \\\"count\\\": 2}, {\\\"left\\\": 8395400, \\\"right\\\": 9101300, \\\"count\\\": 6}, {\\\"left\\\": 9101300, \\\"right\\\": 9807200, \\\"count\\\": 4}, {\\\"left\\\": 9807200, \\\"right\\\": 10513100, \\\"count\\\": 2}, {\\\"left\\\": 10513100, \\\"right\\\": 11219000, \\\"count\\\": 0}, {\\\"left\\\": 11219000, \\\"right\\\": 11924900, \\\"count\\\": 1}, {\\\"left\\\": 11924900, \\\"right\\\": 12630800, \\\"count\\\": 0}, {\\\"left\\\": 12630800, \\\"right\\\": 13336700, \\\"count\\\": 0}, {\\\"left\\\": 13336700, \\\"right\\\": 14042600, \\\"count\\\": 1}, {\\\"start\\\": -75400, \\\"stop\\\": 14042600, \\\"step\\\": 705900}], \\\"categorical\\\": []}, {\\\"a\\\": 4, \\\"title\\\": \\\"final_price\\\", \\\"num_row\\\": 237, \\\"type\\\": \\\"integer\\\", \\\"num_unique\\\": 153, \\\"num_missing\\\": 0, \\\"mean\\\": 4242554.852321, \\\"min\\\": 1300000.0, \\\"max\\\": 15000000.0, \\\"median\\\": 3400000.0, \\\"stdev\\\": 2021163.081926, \\\"numeric\\\": [{\\\"left\\\": 1257900, \\\"right\\\": 1948200, \\\"count\\\": 1}, {\\\"left\\\": 1948200, \\\"right\\\": 2638500, \\\"count\\\": 28}, {\\\"left\\\": 2638500, \\\"right\\\": 3328800, \\\"count\\\": 84}, {\\\"left\\\": 3328800, \\\"right\\\": 4019100, \\\"count\\\": 32}, {\\\"left\\\": 4019100, \\\"right\\\": 4709400, \\\"count\\\": 16}, {\\\"left\\\": 4709400, \\\"right\\\": 5399700, \\\"count\\\": 24}, {\\\"left\\\": 5399700, \\\"right\\\": 6090000, \\\"count\\\": 18}, {\\\"left\\\": 6090000, \\\"right\\\": 6780300, \\\"count\\\": 11}, {\\\"left\\\": 6780300, \\\"right\\\": 7470600, \\\"count\\\": 7}, {\\\"left\\\": 7470600, \\\"right\\\": 8160900, \\\"count\\\": 0}, {\\\"left\\\": 8160900, \\\"right\\\": 8851200, \\\"count\\\": 4}, {\\\"left\\\": 8851200, \\\"right\\\": 9541500, \\\"count\\\": 4}, {\\\"left\\\": 9541500, \\\"right\\\": 10231800, \\\"count\\\": 3}, {\\\"left\\\": 10231800, \\\"right\\\": 10922100, \\\"count\\\": 3}, {\\\"left\\\": 10922100, \\\"right\\\": 11612400, \\\"count\\\": 1}, {\\\"left\\\": 11612400, \\\"right\\\": 12302700, \\\"count\\\": 0}, {\\\"left\\\": 12302700, \\\"right\\\": 12993000, \\\"count\\\": 0}, {\\\"left\\\": 12993000, \\\"right\\\": 13683300, \\\"count\\\": 0}, {\\\"left\\\": 13683300, \\\"right\\\": 14373600, \\\"count\\\": 0}, {\\\"left\\\": 14373600, \\\"right\\\": 15063900, \\\"count\\\": 1}, {\\\"start\\\": 1257900, \\\"stop\\\": 15063900, \\\"step\\\": 690300}], \\\"categorical\\\": []}, {\\\"a\\\": 5, \\\"title\\\": \\\"monthly_fee\\\", \\\"num_row\\\": 237, \\\"type\\\": \\\"integer\\\", \\\"num_unique\\\": 169, \\\"num_missing\\\": 0, \\\"mean\\\": 3018.240506, \\\"min\\\": 0.0, \\\"max\\\": 7368.0, \\\"median\\\": 2797.0, \\\"stdev\\\": 1155.695431, \\\"numeric\\\": [{\\\"left\\\": -10, \\\"right\\\": 360, \\\"count\\\": 1}, {\\\"left\\\": 360, \\\"right\\\": 730, \\\"count\\\": 0}, {\\\"left\\\": 730, \\\"right\\\": 1100, \\\"count\\\": 0}, {\\\"left\\\": 1100, \\\"right\\\": 1470, \\\"count\\\": 9}, {\\\"left\\\": 1470, \\\"right\\\": 1840, \\\"count\\\": 19}, {\\\"left\\\": 1840, \\\"right\\\": 2210, \\\"count\\\": 37}, {\\\"left\\\": 2210, \\\"right\\\": 2580, \\\"count\\\": 43}, {\\\"left\\\": 2580, \\\"right\\\": 2950, \\\"count\\\": 27}, {\\\"left\\\": 2950, \\\"right\\\": 3320, \\\"count\\\": 17}, {\\\"left\\\": 3320, \\\"right\\\": 3690, \\\"count\\\": 19}, {\\\"left\\\": 3690, \\\"right\\\": 4060, \\\"count\\\": 18}, {\\\"left\\\": 4060, \\\"right\\\": 4430, \\\"count\\\": 13}, {\\\"left\\\": 4430, \\\"right\\\": 4800, \\\"count\\\": 15}, {\\\"left\\\": 4800, \\\"right\\\": 5170, \\\"count\\\": 7}, {\\\"left\\\": 5170, \\\"right\\\": 5540, \\\"count\\\": 4}, {\\\"left\\\": 5540, \\\"right\\\": 5910, \\\"count\\\": 5}, {\\\"left\\\": 5910, \\\"right\\\": 6280, \\\"count\\\": 1}, {\\\"left\\\": 6280, \\\"right\\\": 6650, \\\"count\\\": 1}, {\\\"left\\\": 6650, \\\"right\\\": 7020, \\\"count\\\": 0}, {\\\"left\\\": 7020, \\\"right\\\": 7390, \\\"count\\\": 1}, {\\\"start\\\": -10, \\\"stop\\\": 7390, \\\"step\\\": 370}], \\\"categorical\\\": []}, {\\\"a\\\": 6, \\\"title\\\": \\\"operating_cost\\\", \\\"num_row\\\": 237, \\\"type\\\": \\\"integer\\\", \\\"num_unique\\\": 89, \\\"num_missing\\\": 0, \\\"mean\\\": 4640.485232, \\\"min\\\": 0.0, \\\"max\\\": 12979.0, \\\"median\\\": 4860.0, \\\"stdev\\\": 2457.177527, \\\"numeric\\\": [{\\\"left\\\": -70, \\\"right\\\": 586, \\\"count\\\": 32}, {\\\"left\\\": 586, \\\"right\\\": 1242, \\\"count\\\": 1}, {\\\"left\\\": 1242, \\\"right\\\": 1898, \\\"count\\\": 1}, {\\\"left\\\": 1898, \\\"right\\\": 2554, \\\"count\\\": 6}, {\\\"left\\\": 2554, \\\"right\\\": 3210, \\\"count\\\": 10}, {\\\"left\\\": 3210, \\\"right\\\": 3866, \\\"count\\\": 26}, {\\\"left\\\": 3866, \\\"right\\\": 4522, \\\"count\\\": 24}, {\\\"left\\\": 4522, \\\"right\\\": 5178, \\\"count\\\": 33}, {\\\"left\\\": 5178, \\\"right\\\": 5834, \\\"count\\\": 24}, {\\\"left\\\": 5834, \\\"right\\\": 6490, \\\"count\\\": 32}, {\\\"left\\\": 6490, \\\"right\\\": 7146, \\\"count\\\": 11}, {\\\"left\\\": 7146, \\\"right\\\": 7802, \\\"count\\\": 24}, {\\\"left\\\": 7802, \\\"right\\\": 8458, \\\"count\\\": 5}, {\\\"left\\\": 8458, \\\"right\\\": 9114, \\\"count\\\": 4}, {\\\"left\\\": 9114, \\\"right\\\": 9770, \\\"count\\\": 1}, {\\\"left\\\": 9770, \\\"right\\\": 10426, \\\"count\\\": 1}, {\\\"left\\\": 10426, \\\"right\\\": 11082, \\\"count\\\": 1}, {\\\"left\\\": 11082, \\\"right\\\": 11738, \\\"count\\\": 0}, {\\\"left\\\": 11738, \\\"right\\\": 12394, \\\"count\\\": 0}, {\\\"left\\\": 12394, \\\"right\\\": 13050, \\\"count\\\": 1}, {\\\"start\\\": -70, \\\"stop\\\": 13050, \\\"step\\\": 656}], \\\"categorical\\\": []}, {\\\"a\\\": 7, \\\"title\\\": \\\"price_per_squaremeter\\\", \\\"num_row\\\": 237, \\\"type\\\": \\\"integer\\\", \\\"num_unique\\\": 212, \\\"num_missing\\\": 0, \\\"mean\\\": 83144.907173, \\\"min\\\": 21667.0, \\\"max\\\": 127727.0, \\\"median\\\": 81860.0, \\\"stdev\\\": 12045.829495, \\\"numeric\\\": [{\\\"left\\\": 20984, \\\"right\\\": 26360, \\\"count\\\": 1}, {\\\"left\\\": 26360, \\\"right\\\": 31736, \\\"count\\\": 0}, {\\\"left\\\": 31736, \\\"right\\\": 37112, \\\"count\\\": 0}, {\\\"left\\\": 37112, \\\"right\\\": 42488, \\\"count\\\": 0}, {\\\"left\\\": 42488, \\\"right\\\": 47864, \\\"count\\\": 0}, {\\\"left\\\": 47864, \\\"right\\\": 53240, \\\"count\\\": 0}, {\\\"left\\\": 53240, \\\"right\\\": 58616, \\\"count\\\": 2}, {\\\"left\\\": 58616, \\\"right\\\": 63992, \\\"count\\\": 5}, {\\\"left\\\": 63992, \\\"right\\\": 69368, \\\"count\\\": 11}, {\\\"left\\\": 69368, \\\"right\\\": 74744, \\\"count\\\": 32}, {\\\"left\\\": 74744, \\\"right\\\": 80120, \\\"count\\\": 52}, {\\\"left\\\": 80120, \\\"right\\\": 85496, \\\"count\\\": 44}, {\\\"left\\\": 85496, \\\"right\\\": 90872, \\\"count\\\": 31}, {\\\"left\\\": 90872, \\\"right\\\": 96248, \\\"count\\\": 29}, {\\\"left\\\": 96248, \\\"right\\\": 101624, \\\"count\\\": 14}, {\\\"left\\\": 101624, \\\"right\\\": 107000, \\\"count\\\": 7}, {\\\"left\\\": 107000, \\\"right\\\": 112376, \\\"count\\\": 5}, {\\\"left\\\": 112376, \\\"right\\\": 117752, \\\"count\\\": 3}, {\\\"left\\\": 117752, \\\"right\\\": 123128, \\\"count\\\": 0}, {\\\"left\\\": 123128, \\\"right\\\": 128504, \\\"count\\\": 1}, {\\\"start\\\": 20984, \\\"stop\\\": 128504, \\\"step\\\": 5376}], \\\"categorical\\\": []}, {\\\"a\\\": 8, \\\"title\\\": \\\"room_number\\\", \\\"num_row\\\": 237, \\\"type\\\": \\\"str\\\", \\\"num_unique\\\": 7, \\\"num_missing\\\": 0, \\\"categorical\\\": [{\\\"label\\\": \\\"2 rum\\\", \\\"label_idx\\\": 0, \\\"count\\\": 128, \\\"percentage\\\": \\\"54.0084%\\\"}, {\\\"label\\\": \\\"3 rum\\\", \\\"label_idx\\\": 1, \\\"count\\\": 44, \\\"percentage\\\": \\\"18.5654%\\\"}, {\\\"label\\\": \\\"1 rum\\\", \\\"label_idx\\\": 2, \\\"count\\\": 29, \\\"percentage\\\": \\\"12.2363%\\\"}, {\\\"label\\\": \\\"1,5 rum\\\", \\\"label_idx\\\": 3, \\\"count\\\": 16, \\\"percentage\\\": \\\"6.75105%\\\"}, {\\\"label\\\": \\\"4 rum\\\", \\\"label_idx\\\": 4, \\\"count\\\": 11, \\\"percentage\\\": \\\"4.64135%\\\"}, {\\\"label\\\": \\\"2,5 rum\\\", \\\"label_idx\\\": 5, \\\"count\\\": 6, \\\"percentage\\\": \\\"2.53165%\\\"}, {\\\"label\\\": \\\"3,5 rum\\\", \\\"label_idx\\\": 6, \\\"count\\\": 3, \\\"percentage\\\": \\\"1.26582%\\\"}], \\\"numeric\\\": []}, {\\\"a\\\": 9, \\\"title\\\": \\\"title\\\", \\\"num_row\\\": 237, \\\"type\\\": \\\"str\\\", \\\"num_unique\\\": 217, \\\"num_missing\\\": 0, \\\"categorical\\\": [{\\\"label\\\": \\\"Essinge Brogata 12, 5 tr - S\\\\u00e5ld bostadsr\\\\u00e4ttsl\\\\u00e4genhet - Lilla Essingen, Stockholm - Hemnet\\\", \\\"label_idx\\\": 0, \\\"count\\\": 2, \\\"percentage\\\": \\\"0.843882%\\\"}, {\\\"label\\\": \\\"Essinge Brogata 15 - S\\\\u00e5ld bostadsr\\\\u00e4ttsl\\\\u00e4genhet - Lilla Essingen \\\\\\\\ Kungsholmen, Stockholm - Hemnet\\\", \\\"label_idx\\\": 1, \\\"count\\\": 2, \\\"percentage\\\": \\\"0.843882%\\\"}, {\\\"label\\\": \\\"Essinge Brogata 22 - S\\\\u00e5ld bostadsr\\\\u00e4ttsl\\\\u00e4genhet - Lilla Essingen - Kungsholmen, Stockholm - Hemnet\\\", \\\"label_idx\\\": 2, \\\"count\\\": 2, \\\"percentage\\\": \\\"0.843882%\\\"}, {\\\"label\\\": \\\"Essinge Brogata 22 - S\\\\u00e5ld bostadsr\\\\u00e4ttsl\\\\u00e4genhet - Lilla Essingen \\\\\\\\ Kungsholmen, Stockholm - Hemnet\\\", \\\"label_idx\\\": 3, \\\"count\\\": 2, \\\"percentage\\\": \\\"0.843882%\\\"}, {\\\"label\\\": \\\"Essinge Brogata 8 - S\\\\u00e5ld bostadsr\\\\u00e4ttsl\\\\u00e4genhet - Lilla Essingen - Kungsholmen, Stockholm - Hemnet\\\", \\\"label_idx\\\": 4, \\\"count\\\": 2, \\\"percentage\\\": \\\"0.843882%\\\"}, {\\\"label\\\": \\\"Luxgatan 11 - S\\\\u00e5ld bostadsr\\\\u00e4ttsl\\\\u00e4genhet - Lilla Essingen, Stockholm - Hemnet\\\", \\\"label_idx\\\": 5, \\\"count\\\": 2, \\\"percentage\\\": \\\"0.843882%\\\"}, {\\\"label\\\": \\\"Primusgatan 64 - S\\\\u00e5ld bostadsr\\\\u00e4ttsl\\\\u00e4genhet - Lilla Essingen \\\\\\\\ Kungsholmen, Stockholm - Hemnet\\\", \\\"label_idx\\\": 6, \\\"count\\\": 2, \\\"percentage\\\": \\\"0.843882%\\\"}, {\\\"label\\\": \\\"Primusgatan 69 - S\\\\u00e5ld bostadsr\\\\u00e4ttsl\\\\u00e4genhet - Lilla Essingen \\\\\\\\ Kungsholmen, Stockholm - Hemnet\\\", \\\"label_idx\\\": 7, \\\"count\\\": 2, \\\"percentage\\\": \\\"0.843882%\\\"}, {\\\"label\\\": \\\"Primusgatan 70, 1tr - S\\\\u00e5ld bostadsr\\\\u00e4ttsl\\\\u00e4genhet - Lilla Essingen, Stockholm - Hemnet\\\", \\\"label_idx\\\": 8, \\\"count\\\": 2, \\\"percentage\\\": \\\"0.843882%\\\"}, {\\\"label\\\": \\\"Primusgatan 87 - S\\\\u00e5ld bostadsr\\\\u00e4ttsl\\\\u00e4genhet - Lilla Essingen \\\\\\\\ Kungsholmen, Stockholm - Hemnet\\\", \\\"label_idx\\\": 9, \\\"count\\\": 2, \\\"percentage\\\": \\\"0.843882%\\\"}, {\\\"label\\\": \\\"Other (207 labels)\\\", \\\"label_idx\\\": 10, \\\"count\\\": 217, \\\"percentage\\\": \\\"91.5612%\\\"}], \\\"numeric\\\": []}, {\\\"a\\\": 10, \\\"title\\\": \\\"url\\\", \\\"num_row\\\": 237, \\\"type\\\": \\\"str\\\", \\\"num_unique\\\": 237, \\\"num_missing\\\": 0, \\\"categorical\\\": [{\\\"label\\\": \\\"https://www.hemnet.se/salda/lagenhet-1,5rum-kungsholmen-lilla-essingen-stockholms-kommun-luxgatan-7,-1tr-1217196\\\", \\\"label_idx\\\": 0, \\\"count\\\": 1, \\\"percentage\\\": \\\"0.421941%\\\"}, {\\\"label\\\": \\\"https://www.hemnet.se/salda/lagenhet-1,5rum-kungsholmen-lilla-essingen-stockholms-kommun-stralgatan-19,-2tr-1287084\\\", \\\"label_idx\\\": 1, \\\"count\\\": 1, \\\"percentage\\\": \\\"0.421941%\\\"}, {\\\"label\\\": \\\"https://www.hemnet.se/salda/lagenhet-1,5rum-kungsholmen-stockholms-kommun-essinge-brogata-19,-5tr-1231721\\\", \\\"label_idx\\\": 2, \\\"count\\\": 1, \\\"percentage\\\": \\\"0.421941%\\\"}, {\\\"label\\\": \\\"https://www.hemnet.se/salda/lagenhet-1,5rum-lilla-essingen-kungsholmen-stockholms-kommun-essinge-brogata-23-1263381\\\", \\\"label_idx\\\": 3, \\\"count\\\": 1, \\\"percentage\\\": \\\"0.421941%\\\"}, {\\\"label\\\": \\\"https://www.hemnet.se/salda/lagenhet-1,5rum-lilla-essingen-kungsholmen-stockholms-kommun-essinge-brogata-39,-1-tr-1298221\\\", \\\"label_idx\\\": 4, \\\"count\\\": 1, \\\"percentage\\\": \\\"0.421941%\\\"}, {\\\"label\\\": \\\"https://www.hemnet.se/salda/lagenhet-1,5rum-lilla-essingen-kungsholmen-stockholms-kommun-essinge-brogata-39-1232572\\\", \\\"label_idx\\\": 5, \\\"count\\\": 1, \\\"percentage\\\": \\\"0.421941%\\\"}, {\\\"label\\\": \\\"https://www.hemnet.se/salda/lagenhet-1,5rum-lilla-essingen-kungsholmen-stockholms-kommun-essinge-brogata-39-1237831\\\", \\\"label_idx\\\": 6, \\\"count\\\": 1, \\\"percentage\\\": \\\"0.421941%\\\"}, {\\\"label\\\": \\\"https://www.hemnet.se/salda/lagenhet-1,5rum-lilla-essingen-kungsholmen-stockholms-kommun-essinge-brogata-8-1244365\\\", \\\"label_idx\\\": 7, \\\"count\\\": 1, \\\"percentage\\\": \\\"0.421941%\\\"}, {\\\"label\\\": \\\"https://www.hemnet.se/salda/lagenhet-1,5rum-lilla-essingen-kungsholmen-stockholms-kommun-stralgatan-19-1139370\\\", \\\"label_idx\\\": 8, \\\"count\\\": 1, \\\"percentage\\\": \\\"0.421941%\\\"}, {\\\"label\\\": \\\"https://www.hemnet.se/salda/lagenhet-1,5rum-lilla-essingen-kungsholmen-stockholms-kommun-stralgatan-21,-2-tr-1265281\\\", \\\"label_idx\\\": 9, \\\"count\\\": 1, \\\"percentage\\\": \\\"0.421941%\\\"}, {\\\"label\\\": \\\"Other (227 labels)\\\", \\\"label_idx\\\": 10, \\\"count\\\": 227, \\\"percentage\\\": \\\"95.7806%\\\"}], \\\"numeric\\\": []}, {\\\"a\\\": 11, \\\"title\\\": \\\"year_of_construction\\\", \\\"num_row\\\": 237, \\\"type\\\": \\\"integer\\\", \\\"num_unique\\\": 17, \\\"num_missing\\\": 0, \\\"mean\\\": 1629.978903, \\\"min\\\": 0.0, \\\"max\\\": 2007.0, \\\"median\\\": 1938.0, \\\"stdev\\\": 735.068638, \\\"numeric\\\": [{\\\"left\\\": -36, \\\"right\\\": 68, \\\"count\\\": 40}, {\\\"left\\\": 68, \\\"right\\\": 172, \\\"count\\\": 0}, {\\\"left\\\": 172, \\\"right\\\": 276, \\\"count\\\": 0}, {\\\"left\\\": 276, \\\"right\\\": 380, \\\"count\\\": 0}, {\\\"left\\\": 380, \\\"right\\\": 484, \\\"count\\\": 0}, {\\\"left\\\": 484, \\\"right\\\": 588, \\\"count\\\": 0}, {\\\"left\\\": 588, \\\"right\\\": 692, \\\"count\\\": 0}, {\\\"left\\\": 692, \\\"right\\\": 796, \\\"count\\\": 0}, {\\\"left\\\": 796, \\\"right\\\": 900, \\\"count\\\": 0}, {\\\"left\\\": 900, \\\"right\\\": 1004, \\\"count\\\": 0}, {\\\"left\\\": 1004, \\\"right\\\": 1108, \\\"count\\\": 0}, {\\\"left\\\": 1108, \\\"right\\\": 1212, \\\"count\\\": 0}, {\\\"left\\\": 1212, \\\"right\\\": 1316, \\\"count\\\": 0}, {\\\"left\\\": 1316, \\\"right\\\": 1420, \\\"count\\\": 0}, {\\\"left\\\": 1420, \\\"right\\\": 1524, \\\"count\\\": 0}, {\\\"left\\\": 1524, \\\"right\\\": 1628, \\\"count\\\": 0}, {\\\"left\\\": 1628, \\\"right\\\": 1732, \\\"count\\\": 0}, {\\\"left\\\": 1732, \\\"right\\\": 1836, \\\"count\\\": 0}, {\\\"left\\\": 1836, \\\"right\\\": 1940, \\\"count\\\": 126}, {\\\"left\\\": 1940, \\\"right\\\": 2044, \\\"count\\\": 71}, {\\\"start\\\": -36, \\\"stop\\\": 2044, \\\"step\\\": 104}], \\\"categorical\\\": []}]}, {\\\"name\\\": \\\"data_2\\\", \\\"source\\\": \\\"source_2\\\", \\\"transform\\\": [{\\\"type\\\": \\\"formula\\\", \\\"expr\\\": \\\"20\\\", \\\"as\\\": \\\"c_x_axis_back\\\"}, {\\\"type\\\": \\\"formula\\\", \\\"expr\\\": \\\"toNumber(datum[\\\\\\\"a\\\\\\\"])*300+66\\\", \\\"as\\\": \\\"c_main_background\\\"}, {\\\"type\\\": \\\"formula\\\", \\\"expr\\\": \\\"toNumber(datum[\\\\\\\"a\\\\\\\"])*300+43\\\", \\\"as\\\": \\\"c_top_bar\\\"}, {\\\"type\\\": \\\"formula\\\", \\\"expr\\\": \\\"toNumber(datum[\\\\\\\"a\\\\\\\"])*300+59\\\", \\\"as\\\": \\\"c_top_title\\\"}, {\\\"type\\\": \\\"formula\\\", \\\"expr\\\": \\\"toNumber(datum[\\\\\\\"a\\\\\\\"])*300+58\\\", \\\"as\\\": \\\"c_top_type\\\"}, {\\\"type\\\": \\\"formula\\\", \\\"expr\\\": \\\"toNumber(datum[\\\\\\\"a\\\\\\\"])*300+178\\\", \\\"as\\\": \\\"c_rule\\\"}, {\\\"type\\\": \\\"formula\\\", \\\"expr\\\": \\\"toNumber(datum[\\\\\\\"a\\\\\\\"])*300+106\\\", \\\"as\\\": \\\"c_num_rows\\\"}, {\\\"type\\\": \\\"formula\\\", \\\"expr\\\": \\\"toNumber(datum[\\\\\\\"a\\\\\\\"])*300+130\\\", \\\"as\\\": \\\"c_num_unique\\\"}, {\\\"type\\\": \\\"formula\\\", \\\"expr\\\": \\\"toNumber(datum[\\\\\\\"a\\\\\\\"])*300+154\\\", \\\"as\\\": \\\"c_missing\\\"}, {\\\"type\\\": \\\"formula\\\", \\\"expr\\\": \\\"toNumber(datum[\\\\\\\"a\\\\\\\"])*300+105\\\", \\\"as\\\": \\\"c_num_rows_val\\\"}, {\\\"type\\\": \\\"formula\\\", \\\"expr\\\": \\\"toNumber(datum[\\\\\\\"a\\\\\\\"])*300+130\\\", \\\"as\\\": \\\"c_num_unique_val\\\"}, {\\\"type\\\": \\\"formula\\\", \\\"expr\\\": \\\"toNumber(datum[\\\\\\\"a\\\\\\\"])*300+154\\\", \\\"as\\\": \\\"c_missing_val\\\"}, {\\\"type\\\": \\\"formula\\\", \\\"expr\\\": \\\"toNumber(datum[\\\\\\\"a\\\\\\\"])*300+195\\\", \\\"as\\\": \\\"c_frequent_items\\\"}, {\\\"type\\\": \\\"formula\\\", \\\"expr\\\": \\\"toNumber(datum[\\\\\\\"a\\\\\\\"])*300+218\\\", \\\"as\\\": \\\"c_first_item\\\"}, {\\\"type\\\": \\\"formula\\\", \\\"expr\\\": \\\"toNumber(datum[\\\\\\\"a\\\\\\\"])*300+235\\\", \\\"as\\\": \\\"c_second_item\\\"}, {\\\"type\\\": \\\"formula\\\", \\\"expr\\\": \\\"toNumber(datum[\\\\\\\"a\\\\\\\"])*300+252\\\", \\\"as\\\": \\\"c_third_item\\\"}, {\\\"type\\\": \\\"formula\\\", \\\"expr\\\": \\\"toNumber(datum[\\\\\\\"a\\\\\\\"])*300+269\\\", \\\"as\\\": \\\"c_fourth_item\\\"}, {\\\"type\\\": \\\"formula\\\", \\\"expr\\\": \\\"toNumber(datum[\\\\\\\"a\\\\\\\"])*300+286\\\", \\\"as\\\": \\\"c_fifth_item\\\"}, {\\\"type\\\": \\\"formula\\\", \\\"expr\\\": \\\"toNumber(datum[\\\\\\\"a\\\\\\\"])*300+200\\\", \\\"as\\\": \\\"c_mean\\\"}, {\\\"type\\\": \\\"formula\\\", \\\"expr\\\": \\\"toNumber(datum[\\\\\\\"a\\\\\\\"])*300+220\\\", \\\"as\\\": \\\"c_min\\\"}, {\\\"type\\\": \\\"formula\\\", \\\"expr\\\": \\\"toNumber(datum[\\\\\\\"a\\\\\\\"])*300+240\\\", \\\"as\\\": \\\"c_max\\\"}, {\\\"type\\\": \\\"formula\\\", \\\"expr\\\": \\\"toNumber(datum[\\\\\\\"a\\\\\\\"])*300+260\\\", \\\"as\\\": \\\"c_median\\\"}, {\\\"type\\\": \\\"formula\\\", \\\"expr\\\": \\\"toNumber(datum[\\\\\\\"a\\\\\\\"])*300+280\\\", \\\"as\\\": \\\"c_stdev\\\"}, {\\\"type\\\": \\\"formula\\\", \\\"expr\\\": \\\"toNumber(datum[\\\\\\\"a\\\\\\\"])*300+198\\\", \\\"as\\\": \\\"c_mean_val\\\"}, {\\\"type\\\": \\\"formula\\\", \\\"expr\\\": \\\"toNumber(datum[\\\\\\\"a\\\\\\\"])*300+218\\\", \\\"as\\\": \\\"c_min_val\\\"}, {\\\"type\\\": \\\"formula\\\", \\\"expr\\\": \\\"toNumber(datum[\\\\\\\"a\\\\\\\"])*300+238\\\", \\\"as\\\": \\\"c_max_val\\\"}, {\\\"type\\\": \\\"formula\\\", \\\"expr\\\": \\\"toNumber(datum[\\\\\\\"a\\\\\\\"])*300+258\\\", \\\"as\\\": \\\"c_median_val\\\"}, {\\\"type\\\": \\\"formula\\\", \\\"expr\\\": \\\"toNumber(datum[\\\\\\\"a\\\\\\\"])*300+278\\\", \\\"as\\\": \\\"c_stdev_val\\\"}, {\\\"type\\\": \\\"formula\\\", \\\"expr\\\": \\\"toNumber(datum[\\\\\\\"a\\\\\\\"])*300+106\\\", \\\"as\\\": \\\"graph_offset\\\"}, {\\\"type\\\": \\\"formula\\\", \\\"expr\\\": \\\"toNumber(datum[\\\\\\\"a\\\\\\\"])*300+132\\\", \\\"as\\\": \\\"graph_offset_categorical\\\"}, {\\\"type\\\": \\\"formula\\\", \\\"expr\\\": \\\"(toString(datum[\\\\\\\"type\\\\\\\"]) == \\\\\\\"integer\\\\\\\" || toString(datum[\\\\\\\"type\\\\\\\"]) == \\\\\\\"float\\\\\\\")?false:true\\\", \\\"as\\\": \\\"c_clip_val\\\"}, {\\\"type\\\": \\\"formula\\\", \\\"expr\\\": \\\"(toString(datum[\\\\\\\"type\\\\\\\"]) == \\\\\\\"integer\\\\\\\" || toString(datum[\\\\\\\"type\\\\\\\"]) == \\\\\\\"float\\\\\\\")?250:0\\\", \\\"as\\\": \\\"c_width_numeric_val\\\"}, {\\\"type\\\": \\\"formula\\\", \\\"expr\\\": \\\"(toString(datum[\\\\\\\"type\\\\\\\"]) == \\\\\\\"str\\\\\\\")?false:true\\\", \\\"as\\\": \\\"c_clip_val_cat\\\"}, {\\\"type\\\": \\\"formula\\\", \\\"expr\\\": \\\"(toString(datum[\\\\\\\"type\\\\\\\"]) == \\\\\\\"str\\\\\\\")?250:0\\\", \\\"as\\\": \\\"c_width_numeric_val_cat\\\"}]}], \\\"marks\\\": [{\\\"encode\\\": {\\\"enter\\\": {\\\"x\\\": {\\\"value\\\": 0}, \\\"width\\\": {\\\"value\\\": 734}, \\\"y\\\": {\\\"value\\\": 0}, \\\"height\\\": {\\\"value\\\": 366}, \\\"clip\\\": {\\\"value\\\": 0}, \\\"fill\\\": {\\\"value\\\": \\\"#ffffff\\\"}, \\\"fillOpacity\\\": {\\\"value\\\": 0}, \\\"stroke\\\": {\\\"value\\\": \\\"#000000\\\"}, \\\"strokeWidth\\\": {\\\"value\\\": 0}}}, \\\"marks\\\": [{\\\"encode\\\": {\\\"enter\\\": {\\\"x\\\": {\\\"value\\\": 0}, \\\"width\\\": {\\\"value\\\": 734}, \\\"y\\\": {\\\"value\\\": 0}, \\\"height\\\": {\\\"value\\\": 366}, \\\"clip\\\": {\\\"value\\\": 0}, \\\"fill\\\": {\\\"value\\\": \\\"#ffffff\\\"}, \\\"fillOpacity\\\": {\\\"value\\\": 0}, \\\"stroke\\\": {\\\"value\\\": \\\"#000000\\\"}, \\\"strokeWidth\\\": {\\\"value\\\": 0}}}, \\\"scales\\\": [], \\\"axes\\\": [], \\\"marks\\\": [{\\\"from\\\": {\\\"data\\\": \\\"data_2\\\"}, \\\"encode\\\": {\\\"enter\\\": {\\\"x\\\": {\\\"value\\\": 33}, \\\"width\\\": {\\\"value\\\": 700}, \\\"y\\\": {\\\"value\\\": 66}, \\\"height\\\": {\\\"value\\\": 250}, \\\"fill\\\": {\\\"value\\\": \\\"#FEFEFE\\\"}, \\\"fillOpacity\\\": {\\\"value\\\": 1}, \\\"stroke\\\": {\\\"value\\\": \\\"#DEDEDE\\\"}, \\\"strokeWidth\\\": {\\\"value\\\": 0.5}}, \\\"update\\\": {\\\"x\\\": {\\\"signal\\\": \\\"datum[\\\\\\\"c_x_axis_back\\\\\\\"]\\\"}, \\\"y\\\": {\\\"field\\\": \\\"c_main_background\\\"}}}, \\\"type\\\": \\\"rect\\\"}, {\\\"from\\\": {\\\"data\\\": \\\"data_2\\\"}, \\\"encode\\\": {\\\"enter\\\": {\\\"x\\\": {\\\"value\\\": 33}, \\\"width\\\": {\\\"value\\\": 700}, \\\"y\\\": {\\\"value\\\": 43}, \\\"height\\\": {\\\"value\\\": 30}, \\\"fill\\\": {\\\"value\\\": \\\"#F5F5F5\\\"}, \\\"fillOpacity\\\": {\\\"value\\\": 1}, \\\"stroke\\\": {\\\"value\\\": \\\"#DEDEDE\\\"}, \\\"strokeWidth\\\": {\\\"value\\\": 0.5}}, \\\"update\\\": {\\\"x\\\": {\\\"signal\\\": \\\"datum[\\\\\\\"c_x_axis_back\\\\\\\"]\\\"}, \\\"y\\\": {\\\"field\\\": \\\"c_top_bar\\\"}}}, \\\"type\\\": \\\"rect\\\"}, {\\\"from\\\": {\\\"data\\\": \\\"data_2\\\"}, \\\"encode\\\": {\\\"enter\\\": {\\\"x\\\": {\\\"value\\\": 720}, \\\"y\\\": {\\\"value\\\": 58}, \\\"text\\\": {\\\"signal\\\": \\\"&apos;&apos;+datum[\\\\\\\"type\\\\\\\"]\\\"}, \\\"align\\\": {\\\"value\\\": \\\"right\\\"}, \\\"baseline\\\": {\\\"value\\\": \\\"middle\\\"}, \\\"dx\\\": {\\\"value\\\": 0, \\\"offset\\\": 0}, \\\"dy\\\": {\\\"value\\\": 0, \\\"offset\\\": 0}, \\\"angle\\\": {\\\"value\\\": 0}, \\\"font\\\": {\\\"value\\\": \\\"AvenirNext-Medium\\\"}, \\\"fontSize\\\": {\\\"value\\\": 12}, \\\"fontWeight\\\": {\\\"value\\\": \\\"normal\\\"}, \\\"fontStyle\\\": {\\\"value\\\": \\\"normal\\\"}, \\\"fill\\\": {\\\"value\\\": \\\"#595859\\\"}}, \\\"update\\\": {\\\"x\\\": {\\\"signal\\\": \\\"datum[\\\\\\\"c_x_axis_back\\\\\\\"]+687\\\"}, \\\"y\\\": {\\\"field\\\": \\\"c_top_type\\\"}}}, \\\"type\\\": \\\"text\\\"}, {\\\"from\\\": {\\\"data\\\": \\\"data_2\\\"}, \\\"encode\\\": {\\\"enter\\\": {\\\"x\\\": {\\\"value\\\": 44}, \\\"y\\\": {\\\"value\\\": 59}, \\\"text\\\": {\\\"signal\\\": \\\"&apos;&apos;+datum[\\\\\\\"title\\\\\\\"]\\\"}, \\\"align\\\": {\\\"value\\\": \\\"left\\\"}, \\\"baseline\\\": {\\\"value\\\": \\\"middle\\\"}, \\\"dx\\\": {\\\"value\\\": 0, \\\"offset\\\": 0}, \\\"dy\\\": {\\\"value\\\": 0, \\\"offset\\\": 0}, \\\"angle\\\": {\\\"value\\\": 0}, \\\"font\\\": {\\\"value\\\": \\\"AvenirNext-Medium\\\"}, \\\"fontSize\\\": {\\\"value\\\": 15}, \\\"fontWeight\\\": {\\\"value\\\": \\\"normal\\\"}, \\\"fontStyle\\\": {\\\"value\\\": \\\"normal\\\"}, \\\"fill\\\": {\\\"value\\\": \\\"#9B9B9B\\\"}}, \\\"update\\\": {\\\"x\\\": {\\\"signal\\\": \\\"datum[\\\\\\\"c_x_axis_back\\\\\\\"]+11\\\"}, \\\"y\\\": {\\\"field\\\": \\\"c_top_title\\\"}}}, \\\"type\\\": \\\"text\\\"}, {\\\"from\\\": {\\\"data\\\": \\\"data_2\\\"}, \\\"encode\\\": {\\\"enter\\\": {\\\"x\\\": {\\\"value\\\": 500}, \\\"y\\\": {\\\"value\\\": 178}, \\\"stroke\\\": {\\\"value\\\": \\\"#EDEDEB\\\"}, \\\"strokeWidth\\\": {\\\"value\\\": 1}, \\\"strokeCap\\\": {\\\"value\\\": \\\"butt\\\"}, \\\"x2\\\": {\\\"value\\\": 720}, \\\"y2\\\": {\\\"value\\\": 178}}, \\\"update\\\": {\\\"x\\\": {\\\"signal\\\": \\\"datum[\\\\\\\"c_x_axis_back\\\\\\\"]+467\\\"}, \\\"x2\\\": {\\\"signal\\\": \\\"datum[\\\\\\\"c_x_axis_back\\\\\\\"]+687\\\"}, \\\"y\\\": {\\\"field\\\": \\\"c_rule\\\"}, \\\"y2\\\": {\\\"field\\\": \\\"c_rule\\\"}}}, \\\"type\\\": \\\"rule\\\"}, {\\\"from\\\": {\\\"data\\\": \\\"data_2\\\"}, \\\"encode\\\": {\\\"enter\\\": {\\\"x\\\": {\\\"value\\\": 500}, \\\"y\\\": {\\\"value\\\": 106}, \\\"text\\\": {\\\"value\\\": \\\"Num. Rows:\\\"}, \\\"align\\\": {\\\"value\\\": \\\"left\\\"}, \\\"baseline\\\": {\\\"value\\\": \\\"middle\\\"}, \\\"dx\\\": {\\\"value\\\": 0, \\\"offset\\\": 0}, \\\"dy\\\": {\\\"value\\\": 0, \\\"offset\\\": 0}, \\\"angle\\\": {\\\"value\\\": 0}, \\\"font\\\": {\\\"value\\\": \\\"AvenirNext-Medium\\\"}, \\\"fontSize\\\": {\\\"value\\\": 12}, \\\"fontWeight\\\": {\\\"value\\\": \\\"normal\\\"}, \\\"fontStyle\\\": {\\\"value\\\": \\\"normal\\\"}, \\\"fill\\\": {\\\"value\\\": \\\"#4A4A4A\\\"}}, \\\"update\\\": {\\\"x\\\": {\\\"signal\\\": \\\"datum[\\\\\\\"c_x_axis_back\\\\\\\"]+467\\\"}, \\\"y\\\": {\\\"field\\\": \\\"c_num_rows\\\"}}}, \\\"type\\\": \\\"text\\\"}, {\\\"from\\\": {\\\"data\\\": \\\"data_2\\\"}, \\\"encode\\\": {\\\"enter\\\": {\\\"x\\\": {\\\"value\\\": 500}, \\\"y\\\": {\\\"value\\\": 130}, \\\"text\\\": {\\\"value\\\": \\\"Num. Unique:\\\"}, \\\"align\\\": {\\\"value\\\": \\\"left\\\"}, \\\"baseline\\\": {\\\"value\\\": \\\"middle\\\"}, \\\"dx\\\": {\\\"value\\\": 0, \\\"offset\\\": 0}, \\\"dy\\\": {\\\"value\\\": 0, \\\"offset\\\": 0}, \\\"angle\\\": {\\\"value\\\": 0}, \\\"font\\\": {\\\"value\\\": \\\"AvenirNext-Medium\\\"}, \\\"fontSize\\\": {\\\"value\\\": 12}, \\\"fontWeight\\\": {\\\"value\\\": \\\"normal\\\"}, \\\"fontStyle\\\": {\\\"value\\\": \\\"normal\\\"}, \\\"fill\\\": {\\\"value\\\": \\\"#4A4A4A\\\"}}, \\\"update\\\": {\\\"x\\\": {\\\"signal\\\": \\\"datum[\\\\\\\"c_x_axis_back\\\\\\\"]+467\\\"}, \\\"y\\\": {\\\"field\\\": \\\"c_num_unique\\\"}}}, \\\"type\\\": \\\"text\\\"}, {\\\"from\\\": {\\\"data\\\": \\\"data_2\\\"}, \\\"encode\\\": {\\\"enter\\\": {\\\"x\\\": {\\\"value\\\": 500}, \\\"y\\\": {\\\"value\\\": 154}, \\\"text\\\": {\\\"value\\\": \\\"Missing:\\\"}, \\\"align\\\": {\\\"value\\\": \\\"left\\\"}, \\\"baseline\\\": {\\\"value\\\": \\\"middle\\\"}, \\\"dx\\\": {\\\"value\\\": 0, \\\"offset\\\": 0}, \\\"dy\\\": {\\\"value\\\": 0, \\\"offset\\\": 0}, \\\"angle\\\": {\\\"value\\\": 0}, \\\"font\\\": {\\\"value\\\": \\\"AvenirNext-Medium\\\"}, \\\"fontSize\\\": {\\\"value\\\": 12}, \\\"fontWeight\\\": {\\\"value\\\": \\\"normal\\\"}, \\\"fontStyle\\\": {\\\"value\\\": \\\"normal\\\"}, \\\"fill\\\": {\\\"value\\\": \\\"#4A4A4A\\\"}}, \\\"update\\\": {\\\"x\\\": {\\\"signal\\\": \\\"datum[\\\\\\\"c_x_axis_back\\\\\\\"]+467\\\"}, \\\"y\\\": {\\\"field\\\": \\\"c_missing\\\"}}}, \\\"type\\\": \\\"text\\\"}, {\\\"from\\\": {\\\"data\\\": \\\"data_2\\\"}, \\\"encode\\\": {\\\"enter\\\": {\\\"x\\\": {\\\"value\\\": 700}, \\\"y\\\": {\\\"value\\\": 105}, \\\"text\\\": {\\\"signal\\\": \\\"toString(format(datum[\\\\\\\"num_row\\\\\\\"], \\\\\\\",\\\\\\\"))\\\"}, \\\"align\\\": {\\\"value\\\": \\\"right\\\"}, \\\"baseline\\\": {\\\"value\\\": \\\"middle\\\"}, \\\"dx\\\": {\\\"value\\\": 0, \\\"offset\\\": 0}, \\\"dy\\\": {\\\"value\\\": 0, \\\"offset\\\": 0}, \\\"angle\\\": {\\\"value\\\": 0}, \\\"font\\\": {\\\"value\\\": \\\"AvenirNext-Medium\\\"}, \\\"fontSize\\\": {\\\"value\\\": 12}, \\\"fontWeight\\\": {\\\"value\\\": \\\"normal\\\"}, \\\"fontStyle\\\": {\\\"value\\\": \\\"normal\\\"}, \\\"fill\\\": {\\\"value\\\": \\\"#5A5A5A\\\"}}, \\\"update\\\": {\\\"x\\\": {\\\"signal\\\": \\\"datum[\\\\\\\"c_x_axis_back\\\\\\\"]+667\\\"}, \\\"y\\\": {\\\"field\\\": \\\"c_num_rows_val\\\"}}}, \\\"type\\\": \\\"text\\\"}, {\\\"from\\\": {\\\"data\\\": \\\"data_2\\\"}, \\\"encode\\\": {\\\"enter\\\": {\\\"x\\\": {\\\"value\\\": 700}, \\\"y\\\": {\\\"value\\\": 130}, \\\"text\\\": {\\\"signal\\\": \\\"toString(format(datum[\\\\\\\"num_unique\\\\\\\"], \\\\\\\",\\\\\\\"))\\\"}, \\\"align\\\": {\\\"value\\\": \\\"right\\\"}, \\\"baseline\\\": {\\\"value\\\": \\\"middle\\\"}, \\\"dx\\\": {\\\"value\\\": 0, \\\"offset\\\": 0}, \\\"dy\\\": {\\\"value\\\": 0, \\\"offset\\\": 0}, \\\"angle\\\": {\\\"value\\\": 0}, \\\"font\\\": {\\\"value\\\": \\\"AvenirNext-Medium\\\"}, \\\"fontSize\\\": {\\\"value\\\": 12}, \\\"fontWeight\\\": {\\\"value\\\": \\\"normal\\\"}, \\\"fontStyle\\\": {\\\"value\\\": \\\"normal\\\"}, \\\"fill\\\": {\\\"value\\\": \\\"#5A5A5A\\\"}}, \\\"update\\\": {\\\"x\\\": {\\\"signal\\\": \\\"datum[\\\\\\\"c_x_axis_back\\\\\\\"]+667\\\"}, \\\"y\\\": {\\\"field\\\": \\\"c_num_unique_val\\\"}}}, \\\"type\\\": \\\"text\\\"}, {\\\"from\\\": {\\\"data\\\": \\\"data_2\\\"}, \\\"encode\\\": {\\\"enter\\\": {\\\"x\\\": {\\\"value\\\": 700}, \\\"y\\\": {\\\"value\\\": 154}, \\\"text\\\": {\\\"signal\\\": \\\"toString(format(datum[\\\\\\\"num_missing\\\\\\\"], \\\\\\\",\\\\\\\"))\\\"}, \\\"align\\\": {\\\"value\\\": \\\"right\\\"}, \\\"baseline\\\": {\\\"value\\\": \\\"middle\\\"}, \\\"dx\\\": {\\\"value\\\": 0, \\\"offset\\\": 0}, \\\"dy\\\": {\\\"value\\\": 0, \\\"offset\\\": 0}, \\\"angle\\\": {\\\"value\\\": 0}, \\\"font\\\": {\\\"value\\\": \\\"AvenirNext-Medium\\\"}, \\\"fontSize\\\": {\\\"value\\\": 12}, \\\"fontWeight\\\": {\\\"value\\\": \\\"normal\\\"}, \\\"fontStyle\\\": {\\\"value\\\": \\\"normal\\\"}, \\\"fill\\\": {\\\"value\\\": \\\"#5A5A5A\\\"}}, \\\"update\\\": {\\\"x\\\": {\\\"signal\\\": \\\"datum[\\\\\\\"c_x_axis_back\\\\\\\"]+667\\\"}, \\\"y\\\": {\\\"field\\\": \\\"c_missing_val\\\"}}}, \\\"type\\\": \\\"text\\\"}, {\\\"from\\\": {\\\"data\\\": \\\"data_2\\\"}, \\\"encode\\\": {\\\"enter\\\": {\\\"x\\\": {\\\"value\\\": 500}, \\\"y\\\": {\\\"value\\\": 200}, \\\"text\\\": {\\\"signal\\\": \\\"(toString(datum[\\\\\\\"type\\\\\\\"]) == \\\\\\\"str\\\\\\\")? \\\\\\\"Frequent Items\\\\\\\":\\\\\\\"\\\\\\\"\\\"}, \\\"align\\\": {\\\"value\\\": \\\"left\\\"}, \\\"baseline\\\": {\\\"value\\\": \\\"middle\\\"}, \\\"dx\\\": {\\\"value\\\": 0, \\\"offset\\\": 0}, \\\"dy\\\": {\\\"value\\\": 0, \\\"offset\\\": 0}, \\\"angle\\\": {\\\"value\\\": 0}, \\\"clip\\\": {\\\"value\\\": true}, \\\"font\\\": {\\\"value\\\": \\\"AvenirNext-Medium\\\"}, \\\"fontSize\\\": {\\\"value\\\": 11}, \\\"fontWeight\\\": {\\\"value\\\": \\\"bold\\\"}, \\\"fontStyle\\\": {\\\"value\\\": \\\"normal\\\"}, \\\"fill\\\": {\\\"value\\\": \\\"#4A4A4A\\\"}}, \\\"update\\\": {\\\"x\\\": {\\\"signal\\\": \\\"datum[\\\\\\\"c_x_axis_back\\\\\\\"]+467\\\"}, \\\"y\\\": {\\\"field\\\": \\\"c_frequent_items\\\"}}}, \\\"type\\\": \\\"text\\\"}, {\\\"from\\\": {\\\"data\\\": \\\"data_2\\\"}, \\\"encode\\\": {\\\"enter\\\": {\\\"x\\\": {\\\"value\\\": 520}, \\\"y\\\": {\\\"value\\\": 200}, \\\"text\\\": {\\\"signal\\\": \\\"((datum[\\\\\\\"categorical\\\\\\\"].length >= 1) &amp;&amp; (toString(datum[\\\\\\\"type\\\\\\\"]) == \\\\\\\"str\\\\\\\"))? toString(datum[\\\\\\\"categorical\\\\\\\"][0][\\\\\\\"label\\\\\\\"]):\\\\\\\"\\\\\\\"\\\"}, \\\"align\\\": {\\\"value\\\": \\\"left\\\"}, \\\"baseline\\\": {\\\"value\\\": \\\"middle\\\"}, \\\"dx\\\": {\\\"value\\\": 0, \\\"offset\\\": 0}, \\\"dy\\\": {\\\"value\\\": 0, \\\"offset\\\": 0}, \\\"angle\\\": {\\\"value\\\": 0}, \\\"clip\\\": {\\\"value\\\": true}, \\\"font\\\": {\\\"value\\\": \\\"AvenirNext-Medium\\\"}, \\\"fontSize\\\": {\\\"value\\\": 11}, \\\"fontWeight\\\": {\\\"value\\\": \\\"normal\\\"}, \\\"fontStyle\\\": {\\\"value\\\": \\\"normal\\\"}, \\\"fill\\\": {\\\"value\\\": \\\"#4A4A4A\\\"}}, \\\"update\\\": {\\\"x\\\": {\\\"signal\\\": \\\"datum[\\\\\\\"c_x_axis_back\\\\\\\"]+487\\\"}, \\\"y\\\": {\\\"field\\\": \\\"c_first_item\\\"}}}, \\\"type\\\": \\\"text\\\"}, {\\\"from\\\": {\\\"data\\\": \\\"data_2\\\"}, \\\"encode\\\": {\\\"enter\\\": {\\\"x\\\": {\\\"value\\\": 520}, \\\"y\\\": {\\\"value\\\": 200}, \\\"text\\\": {\\\"signal\\\": \\\"((datum[\\\\\\\"categorical\\\\\\\"].length >= 2) &amp;&amp; (toString(datum[\\\\\\\"type\\\\\\\"]) == \\\\\\\"str\\\\\\\"))? toString(datum[\\\\\\\"categorical\\\\\\\"][1][\\\\\\\"label\\\\\\\"]):\\\\\\\"\\\\\\\"\\\"}, \\\"align\\\": {\\\"value\\\": \\\"left\\\"}, \\\"baseline\\\": {\\\"value\\\": \\\"middle\\\"}, \\\"dx\\\": {\\\"value\\\": 0, \\\"offset\\\": 0}, \\\"dy\\\": {\\\"value\\\": 0, \\\"offset\\\": 0}, \\\"angle\\\": {\\\"value\\\": 0}, \\\"clip\\\": {\\\"value\\\": true}, \\\"font\\\": {\\\"value\\\": \\\"AvenirNext-Medium\\\"}, \\\"fontSize\\\": {\\\"value\\\": 11}, \\\"fontWeight\\\": {\\\"value\\\": \\\"normal\\\"}, \\\"fontStyle\\\": {\\\"value\\\": \\\"normal\\\"}, \\\"fill\\\": {\\\"value\\\": \\\"#4A4A4A\\\"}}, \\\"update\\\": {\\\"x\\\": {\\\"signal\\\": \\\"datum[\\\\\\\"c_x_axis_back\\\\\\\"]+487\\\"}, \\\"y\\\": {\\\"field\\\": \\\"c_second_item\\\"}}}, \\\"type\\\": \\\"text\\\"}, {\\\"from\\\": {\\\"data\\\": \\\"data_2\\\"}, \\\"encode\\\": {\\\"enter\\\": {\\\"x\\\": {\\\"value\\\": 520}, \\\"y\\\": {\\\"value\\\": 200}, \\\"text\\\": {\\\"signal\\\": \\\"((datum[\\\\\\\"categorical\\\\\\\"].length >= 3) &amp;&amp; (toString(datum[\\\\\\\"type\\\\\\\"]) == \\\\\\\"str\\\\\\\"))? toString(datum[\\\\\\\"categorical\\\\\\\"][2][\\\\\\\"label\\\\\\\"]):\\\\\\\"\\\\\\\"\\\"}, \\\"align\\\": {\\\"value\\\": \\\"left\\\"}, \\\"baseline\\\": {\\\"value\\\": \\\"middle\\\"}, \\\"dx\\\": {\\\"value\\\": 0, \\\"offset\\\": 0}, \\\"dy\\\": {\\\"value\\\": 0, \\\"offset\\\": 0}, \\\"angle\\\": {\\\"value\\\": 0}, \\\"clip\\\": {\\\"value\\\": true}, \\\"font\\\": {\\\"value\\\": \\\"AvenirNext-Medium\\\"}, \\\"fontSize\\\": {\\\"value\\\": 11}, \\\"fontWeight\\\": {\\\"value\\\": \\\"normal\\\"}, \\\"fontStyle\\\": {\\\"value\\\": \\\"normal\\\"}, \\\"fill\\\": {\\\"value\\\": \\\"#4A4A4A\\\"}}, \\\"update\\\": {\\\"x\\\": {\\\"signal\\\": \\\"datum[\\\\\\\"c_x_axis_back\\\\\\\"]+487\\\"}, \\\"y\\\": {\\\"field\\\": \\\"c_third_item\\\"}}}, \\\"type\\\": \\\"text\\\"}, {\\\"from\\\": {\\\"data\\\": \\\"data_2\\\"}, \\\"encode\\\": {\\\"enter\\\": {\\\"x\\\": {\\\"value\\\": 520}, \\\"y\\\": {\\\"value\\\": 200}, \\\"text\\\": {\\\"signal\\\": \\\"((datum[\\\\\\\"categorical\\\\\\\"].length >= 4) &amp;&amp; (toString(datum[\\\\\\\"type\\\\\\\"]) == \\\\\\\"str\\\\\\\"))? toString(datum[\\\\\\\"categorical\\\\\\\"][3][\\\\\\\"label\\\\\\\"]):\\\\\\\"\\\\\\\"\\\"}, \\\"align\\\": {\\\"value\\\": \\\"left\\\"}, \\\"baseline\\\": {\\\"value\\\": \\\"middle\\\"}, \\\"dx\\\": {\\\"value\\\": 0, \\\"offset\\\": 0}, \\\"dy\\\": {\\\"value\\\": 0, \\\"offset\\\": 0}, \\\"angle\\\": {\\\"value\\\": 0}, \\\"clip\\\": {\\\"value\\\": true}, \\\"font\\\": {\\\"value\\\": \\\"AvenirNext-Medium\\\"}, \\\"fontSize\\\": {\\\"value\\\": 11}, \\\"fontWeight\\\": {\\\"value\\\": \\\"normal\\\"}, \\\"fontStyle\\\": {\\\"value\\\": \\\"normal\\\"}, \\\"fill\\\": {\\\"value\\\": \\\"#4A4A4A\\\"}}, \\\"update\\\": {\\\"x\\\": {\\\"signal\\\": \\\"datum[\\\\\\\"c_x_axis_back\\\\\\\"]+487\\\"}, \\\"y\\\": {\\\"field\\\": \\\"c_fourth_item\\\"}}}, \\\"type\\\": \\\"text\\\"}, {\\\"from\\\": {\\\"data\\\": \\\"data_2\\\"}, \\\"encode\\\": {\\\"enter\\\": {\\\"x\\\": {\\\"value\\\": 520}, \\\"y\\\": {\\\"value\\\": 200}, \\\"text\\\": {\\\"signal\\\": \\\"((datum[\\\\\\\"categorical\\\\\\\"].length >= 5) &amp;&amp; (toString(datum[\\\\\\\"type\\\\\\\"]) == \\\\\\\"str\\\\\\\"))? toString(datum[\\\\\\\"categorical\\\\\\\"][4][\\\\\\\"label\\\\\\\"]):\\\\\\\"\\\\\\\"\\\"}, \\\"align\\\": {\\\"value\\\": \\\"left\\\"}, \\\"baseline\\\": {\\\"value\\\": \\\"middle\\\"}, \\\"dx\\\": {\\\"value\\\": 0, \\\"offset\\\": 0}, \\\"dy\\\": {\\\"value\\\": 0, \\\"offset\\\": 0}, \\\"angle\\\": {\\\"value\\\": 0}, \\\"clip\\\": {\\\"value\\\": true}, \\\"font\\\": {\\\"value\\\": \\\"AvenirNext-Medium\\\"}, \\\"fontSize\\\": {\\\"value\\\": 11}, \\\"fontWeight\\\": {\\\"value\\\": \\\"normal\\\"}, \\\"fontStyle\\\": {\\\"value\\\": \\\"normal\\\"}, \\\"fill\\\": {\\\"value\\\": \\\"#4A4A4A\\\"}}, \\\"update\\\": {\\\"x\\\": {\\\"signal\\\": \\\"datum[\\\\\\\"c_x_axis_back\\\\\\\"]+487\\\"}, \\\"y\\\": {\\\"field\\\": \\\"c_fifth_item\\\"}}}, \\\"type\\\": \\\"text\\\"}, {\\\"from\\\": {\\\"data\\\": \\\"data_2\\\"}, \\\"encode\\\": {\\\"enter\\\": {\\\"x\\\": {\\\"value\\\": 700}, \\\"y\\\": {\\\"value\\\": 200}, \\\"text\\\": {\\\"signal\\\": \\\"((datum[\\\\\\\"categorical\\\\\\\"].length >= 1) &amp;&amp; (toString(datum[\\\\\\\"type\\\\\\\"]) == \\\\\\\"str\\\\\\\"))? toString(datum[\\\\\\\"categorical\\\\\\\"][0][\\\\\\\"count\\\\\\\"]):\\\\\\\"\\\\\\\"\\\"}, \\\"align\\\": {\\\"value\\\": \\\"right\\\"}, \\\"baseline\\\": {\\\"value\\\": \\\"middle\\\"}, \\\"dx\\\": {\\\"value\\\": 0, \\\"offset\\\": 0}, \\\"dy\\\": {\\\"value\\\": 0, \\\"offset\\\": 0}, \\\"angle\\\": {\\\"value\\\": 0}, \\\"clip\\\": {\\\"value\\\": true}, \\\"font\\\": {\\\"value\\\": \\\"AvenirNext-Medium\\\"}, \\\"fontSize\\\": {\\\"value\\\": 11}, \\\"fontWeight\\\": {\\\"value\\\": \\\"normal\\\"}, \\\"fontStyle\\\": {\\\"value\\\": \\\"normal\\\"}, \\\"fill\\\": {\\\"value\\\": \\\"#7A7A7A\\\"}}, \\\"update\\\": {\\\"x\\\": {\\\"signal\\\": \\\"datum[\\\\\\\"c_x_axis_back\\\\\\\"]+667\\\"}, \\\"y\\\": {\\\"field\\\": \\\"c_first_item\\\"}}}, \\\"type\\\": \\\"text\\\"}, {\\\"from\\\": {\\\"data\\\": \\\"data_2\\\"}, \\\"encode\\\": {\\\"enter\\\": {\\\"x\\\": {\\\"value\\\": 700}, \\\"y\\\": {\\\"value\\\": 200}, \\\"text\\\": {\\\"signal\\\": \\\"((datum[\\\\\\\"categorical\\\\\\\"].length >= 2) &amp;&amp; (toString(datum[\\\\\\\"type\\\\\\\"]) == \\\\\\\"str\\\\\\\"))? toString(datum[\\\\\\\"categorical\\\\\\\"][1][\\\\\\\"count\\\\\\\"]):\\\\\\\"\\\\\\\"\\\"}, \\\"align\\\": {\\\"value\\\": \\\"right\\\"}, \\\"baseline\\\": {\\\"value\\\": \\\"middle\\\"}, \\\"dx\\\": {\\\"value\\\": 0, \\\"offset\\\": 0}, \\\"dy\\\": {\\\"value\\\": 0, \\\"offset\\\": 0}, \\\"angle\\\": {\\\"value\\\": 0}, \\\"clip\\\": {\\\"value\\\": true}, \\\"font\\\": {\\\"value\\\": \\\"AvenirNext-Medium\\\"}, \\\"fontSize\\\": {\\\"value\\\": 10}, \\\"fontWeight\\\": {\\\"value\\\": \\\"normal\\\"}, \\\"fontStyle\\\": {\\\"value\\\": \\\"normal\\\"}, \\\"fill\\\": {\\\"value\\\": \\\"#7A7A7A\\\"}}, \\\"update\\\": {\\\"x\\\": {\\\"signal\\\": \\\"datum[\\\\\\\"c_x_axis_back\\\\\\\"]+667\\\"}, \\\"y\\\": {\\\"field\\\": \\\"c_second_item\\\"}}}, \\\"type\\\": \\\"text\\\"}, {\\\"from\\\": {\\\"data\\\": \\\"data_2\\\"}, \\\"encode\\\": {\\\"enter\\\": {\\\"x\\\": {\\\"value\\\": 700}, \\\"y\\\": {\\\"value\\\": 200}, \\\"text\\\": {\\\"signal\\\": \\\"((datum[\\\\\\\"categorical\\\\\\\"].length >= 3) &amp;&amp; (toString(datum[\\\\\\\"type\\\\\\\"]) == \\\\\\\"str\\\\\\\"))? toString(datum[\\\\\\\"categorical\\\\\\\"][2][\\\\\\\"count\\\\\\\"]):\\\\\\\"\\\\\\\"\\\"}, \\\"align\\\": {\\\"value\\\": \\\"right\\\"}, \\\"baseline\\\": {\\\"value\\\": \\\"middle\\\"}, \\\"dx\\\": {\\\"value\\\": 0, \\\"offset\\\": 0}, \\\"dy\\\": {\\\"value\\\": 0, \\\"offset\\\": 0}, \\\"angle\\\": {\\\"value\\\": 0}, \\\"clip\\\": {\\\"value\\\": true}, \\\"font\\\": {\\\"value\\\": \\\"AvenirNext-Medium\\\"}, \\\"fontSize\\\": {\\\"value\\\": 10}, \\\"fontWeight\\\": {\\\"value\\\": \\\"normal\\\"}, \\\"fontStyle\\\": {\\\"value\\\": \\\"normal\\\"}, \\\"fill\\\": {\\\"value\\\": \\\"#7A7A7A\\\"}}, \\\"update\\\": {\\\"x\\\": {\\\"signal\\\": \\\"datum[\\\\\\\"c_x_axis_back\\\\\\\"]+667\\\"}, \\\"y\\\": {\\\"field\\\": \\\"c_third_item\\\"}}}, \\\"type\\\": \\\"text\\\"}, {\\\"from\\\": {\\\"data\\\": \\\"data_2\\\"}, \\\"encode\\\": {\\\"enter\\\": {\\\"x\\\": {\\\"value\\\": 700}, \\\"y\\\": {\\\"value\\\": 200}, \\\"text\\\": {\\\"signal\\\": \\\"((datum[\\\\\\\"categorical\\\\\\\"].length >= 4) &amp;&amp; (toString(datum[\\\\\\\"type\\\\\\\"]) == \\\\\\\"str\\\\\\\"))? toString(datum[\\\\\\\"categorical\\\\\\\"][3][\\\\\\\"count\\\\\\\"]):\\\\\\\"\\\\\\\"\\\"}, \\\"align\\\": {\\\"value\\\": \\\"right\\\"}, \\\"baseline\\\": {\\\"value\\\": \\\"middle\\\"}, \\\"dx\\\": {\\\"value\\\": 0, \\\"offset\\\": 0}, \\\"dy\\\": {\\\"value\\\": 0, \\\"offset\\\": 0}, \\\"angle\\\": {\\\"value\\\": 0}, \\\"clip\\\": {\\\"value\\\": true}, \\\"font\\\": {\\\"value\\\": \\\"AvenirNext-Medium\\\"}, \\\"fontSize\\\": {\\\"value\\\": 10}, \\\"fontWeight\\\": {\\\"value\\\": \\\"normal\\\"}, \\\"fontStyle\\\": {\\\"value\\\": \\\"normal\\\"}, \\\"fill\\\": {\\\"value\\\": \\\"#7A7A7A\\\"}}, \\\"update\\\": {\\\"x\\\": {\\\"signal\\\": \\\"datum[\\\\\\\"c_x_axis_back\\\\\\\"]+667\\\"}, \\\"y\\\": {\\\"field\\\": \\\"c_fourth_item\\\"}}}, \\\"type\\\": \\\"text\\\"}, {\\\"from\\\": {\\\"data\\\": \\\"data_2\\\"}, \\\"encode\\\": {\\\"enter\\\": {\\\"x\\\": {\\\"value\\\": 700}, \\\"y\\\": {\\\"value\\\": 200}, \\\"text\\\": {\\\"signal\\\": \\\"((datum[\\\\\\\"categorical\\\\\\\"].length >= 5) &amp;&amp; (toString(datum[\\\\\\\"type\\\\\\\"]) == \\\\\\\"str\\\\\\\"))? toString(datum[\\\\\\\"categorical\\\\\\\"][4][\\\\\\\"count\\\\\\\"]):\\\\\\\"\\\\\\\"\\\"}, \\\"align\\\": {\\\"value\\\": \\\"right\\\"}, \\\"baseline\\\": {\\\"value\\\": \\\"middle\\\"}, \\\"dx\\\": {\\\"value\\\": 0, \\\"offset\\\": 0}, \\\"dy\\\": {\\\"value\\\": 0, \\\"offset\\\": 0}, \\\"angle\\\": {\\\"value\\\": 0}, \\\"clip\\\": {\\\"value\\\": true}, \\\"font\\\": {\\\"value\\\": \\\"AvenirNext-Medium\\\"}, \\\"fontSize\\\": {\\\"value\\\": 10}, \\\"fontWeight\\\": {\\\"value\\\": \\\"normal\\\"}, \\\"fontStyle\\\": {\\\"value\\\": \\\"normal\\\"}, \\\"fill\\\": {\\\"value\\\": \\\"#7A7A7A\\\"}}, \\\"update\\\": {\\\"x\\\": {\\\"signal\\\": \\\"datum[\\\\\\\"c_x_axis_back\\\\\\\"]+667\\\"}, \\\"y\\\": {\\\"field\\\": \\\"c_fifth_item\\\"}}}, \\\"type\\\": \\\"text\\\"}, {\\\"from\\\": {\\\"data\\\": \\\"data_2\\\"}, \\\"encode\\\": {\\\"enter\\\": {\\\"x\\\": {\\\"value\\\": 500}, \\\"y\\\": {\\\"value\\\": 200}, \\\"text\\\": {\\\"signal\\\": \\\"(toString(datum[\\\\\\\"type\\\\\\\"]) == \\\\\\\"integer\\\\\\\" || toString(datum[\\\\\\\"type\\\\\\\"]) == \\\\\\\"float\\\\\\\")? \\\\\\\"Mean:\\\\\\\":\\\\\\\"\\\\\\\"\\\"}, \\\"align\\\": {\\\"value\\\": \\\"left\\\"}, \\\"baseline\\\": {\\\"value\\\": \\\"middle\\\"}, \\\"dx\\\": {\\\"value\\\": 0, \\\"offset\\\": 0}, \\\"dy\\\": {\\\"value\\\": 0, \\\"offset\\\": 0}, \\\"angle\\\": {\\\"value\\\": 0}, \\\"clip\\\": {\\\"value\\\": true}, \\\"font\\\": {\\\"value\\\": \\\"AvenirNext-Medium\\\"}, \\\"fontSize\\\": {\\\"value\\\": 11}, \\\"fontWeight\\\": {\\\"value\\\": \\\"bold\\\"}, \\\"fontStyle\\\": {\\\"value\\\": \\\"normal\\\"}, \\\"fill\\\": {\\\"value\\\": \\\"#4A4A4A\\\"}}, \\\"update\\\": {\\\"x\\\": {\\\"signal\\\": \\\"datum[\\\\\\\"c_x_axis_back\\\\\\\"]+467\\\"}, \\\"y\\\": {\\\"field\\\": \\\"c_mean\\\"}}}, \\\"type\\\": \\\"text\\\"}, {\\\"from\\\": {\\\"data\\\": \\\"data_2\\\"}, \\\"encode\\\": {\\\"enter\\\": {\\\"x\\\": {\\\"value\\\": 500}, \\\"y\\\": {\\\"value\\\": 220}, \\\"text\\\": {\\\"signal\\\": \\\"(toString(datum[\\\\\\\"type\\\\\\\"]) == \\\\\\\"integer\\\\\\\" || toString(datum[\\\\\\\"type\\\\\\\"]) == \\\\\\\"float\\\\\\\")? \\\\\\\"Min:\\\\\\\":\\\\\\\"\\\\\\\"\\\"}, \\\"align\\\": {\\\"value\\\": \\\"left\\\"}, \\\"baseline\\\": {\\\"value\\\": \\\"middle\\\"}, \\\"dx\\\": {\\\"value\\\": 0, \\\"offset\\\": 0}, \\\"dy\\\": {\\\"value\\\": 0, \\\"offset\\\": 0}, \\\"angle\\\": {\\\"value\\\": 0}, \\\"font\\\": {\\\"value\\\": \\\"AvenirNext-Medium\\\"}, \\\"fontSize\\\": {\\\"value\\\": 11}, \\\"fontWeight\\\": {\\\"value\\\": \\\"bold\\\"}, \\\"fontStyle\\\": {\\\"value\\\": \\\"normal\\\"}, \\\"fill\\\": {\\\"value\\\": \\\"#4A4A4A\\\"}}, \\\"update\\\": {\\\"x\\\": {\\\"signal\\\": \\\"datum[\\\\\\\"c_x_axis_back\\\\\\\"]+467\\\"}, \\\"y\\\": {\\\"field\\\": \\\"c_min\\\"}}}, \\\"type\\\": \\\"text\\\"}, {\\\"from\\\": {\\\"data\\\": \\\"data_2\\\"}, \\\"encode\\\": {\\\"enter\\\": {\\\"x\\\": {\\\"value\\\": 500}, \\\"y\\\": {\\\"value\\\": 240}, \\\"text\\\": {\\\"signal\\\": \\\"(toString(datum[\\\\\\\"type\\\\\\\"]) == \\\\\\\"integer\\\\\\\" || toString(datum[\\\\\\\"type\\\\\\\"]) == \\\\\\\"float\\\\\\\")? \\\\\\\"Max:\\\\\\\":\\\\\\\"\\\\\\\"\\\"}, \\\"align\\\": {\\\"value\\\": \\\"left\\\"}, \\\"baseline\\\": {\\\"value\\\": \\\"middle\\\"}, \\\"dx\\\": {\\\"value\\\": 0, \\\"offset\\\": 0}, \\\"dy\\\": {\\\"value\\\": 0, \\\"offset\\\": 0}, \\\"angle\\\": {\\\"value\\\": 0}, \\\"font\\\": {\\\"value\\\": \\\"AvenirNext-Medium\\\"}, \\\"fontSize\\\": {\\\"value\\\": 11}, \\\"fontWeight\\\": {\\\"value\\\": \\\"bold\\\"}, \\\"fontStyle\\\": {\\\"value\\\": \\\"normal\\\"}, \\\"fill\\\": {\\\"value\\\": \\\"#4A4A4A\\\"}}, \\\"update\\\": {\\\"x\\\": {\\\"signal\\\": \\\"datum[\\\\\\\"c_x_axis_back\\\\\\\"]+467\\\"}, \\\"y\\\": {\\\"field\\\": \\\"c_max\\\"}}}, \\\"type\\\": \\\"text\\\"}, {\\\"from\\\": {\\\"data\\\": \\\"data_2\\\"}, \\\"encode\\\": {\\\"enter\\\": {\\\"x\\\": {\\\"value\\\": 500}, \\\"y\\\": {\\\"value\\\": 260}, \\\"text\\\": {\\\"signal\\\": \\\"(toString(datum[\\\\\\\"type\\\\\\\"]) == \\\\\\\"integer\\\\\\\" || toString(datum[\\\\\\\"type\\\\\\\"]) == \\\\\\\"float\\\\\\\")? \\\\\\\"Median:\\\\\\\":\\\\\\\"\\\\\\\"\\\"}, \\\"align\\\": {\\\"value\\\": \\\"left\\\"}, \\\"baseline\\\": {\\\"value\\\": \\\"middle\\\"}, \\\"dx\\\": {\\\"value\\\": 0, \\\"offset\\\": 0}, \\\"dy\\\": {\\\"value\\\": 0, \\\"offset\\\": 0}, \\\"angle\\\": {\\\"value\\\": 0}, \\\"font\\\": {\\\"value\\\": \\\"AvenirNext-Medium\\\"}, \\\"fontSize\\\": {\\\"value\\\": 11}, \\\"fontWeight\\\": {\\\"value\\\": \\\"bold\\\"}, \\\"fontStyle\\\": {\\\"value\\\": \\\"normal\\\"}, \\\"fill\\\": {\\\"value\\\": \\\"#4A4A4A\\\"}}, \\\"update\\\": {\\\"x\\\": {\\\"signal\\\": \\\"datum[\\\\\\\"c_x_axis_back\\\\\\\"]+467\\\"}, \\\"y\\\": {\\\"field\\\": \\\"c_median\\\"}}}, \\\"type\\\": \\\"text\\\"}, {\\\"from\\\": {\\\"data\\\": \\\"data_2\\\"}, \\\"encode\\\": {\\\"enter\\\": {\\\"x\\\": {\\\"value\\\": 500}, \\\"y\\\": {\\\"value\\\": 280}, \\\"text\\\": {\\\"signal\\\": \\\"(toString(datum[\\\\\\\"type\\\\\\\"]) == \\\\\\\"integer\\\\\\\" || toString(datum[\\\\\\\"type\\\\\\\"]) == \\\\\\\"float\\\\\\\")? \\\\\\\"St. Dev:\\\\\\\":\\\\\\\"\\\\\\\"\\\"}, \\\"align\\\": {\\\"value\\\": \\\"left\\\"}, \\\"baseline\\\": {\\\"value\\\": \\\"middle\\\"}, \\\"dx\\\": {\\\"value\\\": 0, \\\"offset\\\": 0}, \\\"dy\\\": {\\\"value\\\": 0, \\\"offset\\\": 0}, \\\"angle\\\": {\\\"value\\\": 0}, \\\"font\\\": {\\\"value\\\": \\\"AvenirNext-Medium\\\"}, \\\"fontSize\\\": {\\\"value\\\": 11}, \\\"fontWeight\\\": {\\\"value\\\": \\\"bold\\\"}, \\\"fontStyle\\\": {\\\"value\\\": \\\"normal\\\"}, \\\"fill\\\": {\\\"value\\\": \\\"#4A4A4A\\\"}}, \\\"update\\\": {\\\"x\\\": {\\\"signal\\\": \\\"datum[\\\\\\\"c_x_axis_back\\\\\\\"]+467\\\"}, \\\"y\\\": {\\\"field\\\": \\\"c_stdev\\\"}}}, \\\"type\\\": \\\"text\\\"}, {\\\"from\\\": {\\\"data\\\": \\\"data_2\\\"}, \\\"encode\\\": {\\\"enter\\\": {\\\"x\\\": {\\\"value\\\": 700}, \\\"y\\\": {\\\"value\\\": 198}, \\\"text\\\": {\\\"signal\\\": \\\"(toString(datum[\\\\\\\"type\\\\\\\"]) == \\\\\\\"integer\\\\\\\" || toString(datum[\\\\\\\"type\\\\\\\"]) == \\\\\\\"float\\\\\\\")?toString(format(datum[\\\\\\\"mean\\\\\\\"], \\\\\\\",\\\\\\\")):\\\\\\\"\\\\\\\"\\\"}, \\\"align\\\": {\\\"value\\\": \\\"right\\\"}, \\\"baseline\\\": {\\\"value\\\": \\\"middle\\\"}, \\\"dx\\\": {\\\"value\\\": 0, \\\"offset\\\": 0}, \\\"dy\\\": {\\\"value\\\": 0, \\\"offset\\\": 0}, \\\"angle\\\": {\\\"value\\\": 0}, \\\"font\\\": {\\\"value\\\": \\\"AvenirNext-Medium\\\"}, \\\"fontSize\\\": {\\\"value\\\": 10}, \\\"fontWeight\\\": {\\\"value\\\": \\\"normal\\\"}, \\\"fontStyle\\\": {\\\"value\\\": \\\"normal\\\"}, \\\"fill\\\": {\\\"value\\\": \\\"#6A6A6A\\\"}}, \\\"update\\\": {\\\"x\\\": {\\\"signal\\\": \\\"datum[\\\\\\\"c_x_axis_back\\\\\\\"]+667\\\"}, \\\"y\\\": {\\\"field\\\": \\\"c_mean_val\\\"}}}, \\\"type\\\": \\\"text\\\"}, {\\\"from\\\": {\\\"data\\\": \\\"data_2\\\"}, \\\"encode\\\": {\\\"enter\\\": {\\\"x\\\": {\\\"value\\\": 700}, \\\"y\\\": {\\\"value\\\": 218}, \\\"text\\\": {\\\"signal\\\": \\\"(toString(datum[\\\\\\\"type\\\\\\\"]) == \\\\\\\"integer\\\\\\\" || toString(datum[\\\\\\\"type\\\\\\\"]) == \\\\\\\"float\\\\\\\")?toString(format(datum[\\\\\\\"min\\\\\\\"], \\\\\\\",\\\\\\\")):\\\\\\\"\\\\\\\"\\\"}, \\\"align\\\": {\\\"value\\\": \\\"right\\\"}, \\\"baseline\\\": {\\\"value\\\": \\\"middle\\\"}, \\\"dx\\\": {\\\"value\\\": 0, \\\"offset\\\": 0}, \\\"dy\\\": {\\\"value\\\": 0, \\\"offset\\\": 0}, \\\"angle\\\": {\\\"value\\\": 0}, \\\"font\\\": {\\\"value\\\": \\\"AvenirNext-Medium\\\"}, \\\"fontSize\\\": {\\\"value\\\": 10}, \\\"fontWeight\\\": {\\\"value\\\": \\\"normal\\\"}, \\\"fontStyle\\\": {\\\"value\\\": \\\"normal\\\"}, \\\"fill\\\": {\\\"value\\\": \\\"#6A6A6A\\\"}}, \\\"update\\\": {\\\"x\\\": {\\\"signal\\\": \\\"datum[\\\\\\\"c_x_axis_back\\\\\\\"]+667\\\"}, \\\"y\\\": {\\\"field\\\": \\\"c_min_val\\\"}}}, \\\"type\\\": \\\"text\\\"}, {\\\"from\\\": {\\\"data\\\": \\\"data_2\\\"}, \\\"encode\\\": {\\\"enter\\\": {\\\"x\\\": {\\\"value\\\": 700}, \\\"y\\\": {\\\"value\\\": 238}, \\\"text\\\": {\\\"signal\\\": \\\"(toString(datum[\\\\\\\"type\\\\\\\"]) == \\\\\\\"integer\\\\\\\" || toString(datum[\\\\\\\"type\\\\\\\"]) == \\\\\\\"float\\\\\\\")?toString(format(datum[\\\\\\\"max\\\\\\\"], \\\\\\\",\\\\\\\")):\\\\\\\"\\\\\\\"\\\"}, \\\"align\\\": {\\\"value\\\": \\\"right\\\"}, \\\"baseline\\\": {\\\"value\\\": \\\"middle\\\"}, \\\"dx\\\": {\\\"value\\\": 0, \\\"offset\\\": 0}, \\\"dy\\\": {\\\"value\\\": 0, \\\"offset\\\": 0}, \\\"angle\\\": {\\\"value\\\": 0}, \\\"font\\\": {\\\"value\\\": \\\"AvenirNext-Medium\\\"}, \\\"fontSize\\\": {\\\"value\\\": 10}, \\\"fontWeight\\\": {\\\"value\\\": \\\"normal\\\"}, \\\"fontStyle\\\": {\\\"value\\\": \\\"normal\\\"}, \\\"fill\\\": {\\\"value\\\": \\\"#6A6A6A\\\"}}, \\\"update\\\": {\\\"x\\\": {\\\"signal\\\": \\\"datum[\\\\\\\"c_x_axis_back\\\\\\\"]+667\\\"}, \\\"y\\\": {\\\"field\\\": \\\"c_max_val\\\"}}}, \\\"type\\\": \\\"text\\\"}, {\\\"from\\\": {\\\"data\\\": \\\"data_2\\\"}, \\\"encode\\\": {\\\"enter\\\": {\\\"x\\\": {\\\"value\\\": 700}, \\\"y\\\": {\\\"value\\\": 258}, \\\"text\\\": {\\\"signal\\\": \\\"(toString(datum[\\\\\\\"type\\\\\\\"]) == \\\\\\\"integer\\\\\\\" || toString(datum[\\\\\\\"type\\\\\\\"]) == \\\\\\\"float\\\\\\\")?toString(format(datum[\\\\\\\"median\\\\\\\"], \\\\\\\",\\\\\\\")):\\\\\\\"\\\\\\\"\\\"}, \\\"align\\\": {\\\"value\\\": \\\"right\\\"}, \\\"baseline\\\": {\\\"value\\\": \\\"middle\\\"}, \\\"dx\\\": {\\\"value\\\": 0, \\\"offset\\\": 0}, \\\"dy\\\": {\\\"value\\\": 0, \\\"offset\\\": 0}, \\\"angle\\\": {\\\"value\\\": 0}, \\\"font\\\": {\\\"value\\\": \\\"AvenirNext-Medium\\\"}, \\\"fontSize\\\": {\\\"value\\\": 10}, \\\"fontWeight\\\": {\\\"value\\\": \\\"normal\\\"}, \\\"fontStyle\\\": {\\\"value\\\": \\\"normal\\\"}, \\\"fill\\\": {\\\"value\\\": \\\"#6A6A6A\\\"}}, \\\"update\\\": {\\\"x\\\": {\\\"signal\\\": \\\"datum[\\\\\\\"c_x_axis_back\\\\\\\"]+667\\\"}, \\\"y\\\": {\\\"field\\\": \\\"c_median_val\\\"}}}, \\\"type\\\": \\\"text\\\"}, {\\\"from\\\": {\\\"data\\\": \\\"data_2\\\"}, \\\"encode\\\": {\\\"enter\\\": {\\\"x\\\": {\\\"value\\\": 700}, \\\"y\\\": {\\\"value\\\": 278}, \\\"text\\\": {\\\"signal\\\": \\\"(toString(datum[\\\\\\\"type\\\\\\\"]) == \\\\\\\"integer\\\\\\\" || toString(datum[\\\\\\\"type\\\\\\\"]) == \\\\\\\"float\\\\\\\")?toString(format(datum[\\\\\\\"stdev\\\\\\\"], \\\\\\\",\\\\\\\")):\\\\\\\"\\\\\\\"\\\"}, \\\"align\\\": {\\\"value\\\": \\\"right\\\"}, \\\"baseline\\\": {\\\"value\\\": \\\"middle\\\"}, \\\"dx\\\": {\\\"value\\\": 0, \\\"offset\\\": 0}, \\\"dy\\\": {\\\"value\\\": 0, \\\"offset\\\": 0}, \\\"angle\\\": {\\\"value\\\": 0}, \\\"font\\\": {\\\"value\\\": \\\"AvenirNext-Medium\\\"}, \\\"fontSize\\\": {\\\"value\\\": 10}, \\\"fontWeight\\\": {\\\"value\\\": \\\"normal\\\"}, \\\"fontStyle\\\": {\\\"value\\\": \\\"normal\\\"}, \\\"fill\\\": {\\\"value\\\": \\\"#6A6A6A\\\"}}, \\\"update\\\": {\\\"x\\\": {\\\"signal\\\": \\\"datum[\\\\\\\"c_x_axis_back\\\\\\\"]+667\\\"}, \\\"y\\\": {\\\"field\\\": \\\"c_stdev_val\\\"}}}, \\\"type\\\": \\\"text\\\"}, {\\\"from\\\": {\\\"facet\\\": {\\\"name\\\": \\\"new_data\\\", \\\"data\\\": \\\"data_2\\\", \\\"field\\\": \\\"numeric\\\"}}, \\\"encode\\\": {\\\"enter\\\": {\\\"x\\\": {\\\"value\\\": 120}, \\\"width\\\": {\\\"value\\\": 250}, \\\"y\\\": {\\\"field\\\": \\\"graph_offset\\\"}, \\\"height\\\": {\\\"value\\\": 150}, \\\"fill\\\": {\\\"value\\\": \\\"#ffffff\\\"}, \\\"fillOpacity\\\": {\\\"value\\\": 0}, \\\"stroke\\\": {\\\"value\\\": \\\"#000000\\\"}, \\\"strokeWidth\\\": {\\\"value\\\": 0}}, \\\"update\\\": {\\\"x\\\": {\\\"signal\\\": \\\"datum[\\\\\\\"c_x_axis_back\\\\\\\"]+87\\\"}, \\\"clip\\\": {\\\"field\\\": \\\"c_clip_val\\\"}, \\\"width\\\": {\\\"field\\\": \\\"c_width_numeric_val\\\"}}}, \\\"type\\\": \\\"group\\\", \\\"scales\\\": [{\\\"name\\\": \\\"x\\\", \\\"type\\\": \\\"linear\\\", \\\"domain\\\": {\\\"data\\\": \\\"new_data\\\", \\\"fields\\\": [\\\"left\\\", \\\"right\\\"], \\\"sort\\\": true}, \\\"range\\\": [0, {\\\"signal\\\": \\\"width\\\"}], \\\"nice\\\": true, \\\"zero\\\": true}, {\\\"name\\\": \\\"y\\\", \\\"type\\\": \\\"linear\\\", \\\"domain\\\": {\\\"data\\\": \\\"new_data\\\", \\\"field\\\": \\\"count\\\"}, \\\"range\\\": [{\\\"signal\\\": \\\"height\\\"}, 0], \\\"nice\\\": true, \\\"zero\\\": true}], \\\"axes\\\": [{\\\"title\\\": \\\"Values\\\", \\\"scale\\\": \\\"x\\\", \\\"labelOverlap\\\": true, \\\"orient\\\": \\\"bottom\\\", \\\"tickCount\\\": {\\\"signal\\\": \\\"ceil(width/40)\\\"}, \\\"zindex\\\": 1}, {\\\"scale\\\": \\\"x\\\", \\\"domain\\\": false, \\\"grid\\\": true, \\\"labels\\\": false, \\\"maxExtent\\\": 0, \\\"minExtent\\\": 0, \\\"orient\\\": \\\"bottom\\\", \\\"tickCount\\\": {\\\"signal\\\": \\\"ceil(width/40)\\\"}, \\\"ticks\\\": false, \\\"zindex\\\": 0, \\\"gridScale\\\": \\\"y\\\"}, {\\\"title\\\": \\\"Count\\\", \\\"scale\\\": \\\"y\\\", \\\"labelOverlap\\\": true, \\\"orient\\\": \\\"left\\\", \\\"tickCount\\\": {\\\"signal\\\": \\\"ceil(height/40)\\\"}, \\\"zindex\\\": 1}, {\\\"scale\\\": \\\"y\\\", \\\"domain\\\": false, \\\"grid\\\": true, \\\"labels\\\": false, \\\"maxExtent\\\": 0, \\\"minExtent\\\": 0, \\\"orient\\\": \\\"left\\\", \\\"tickCount\\\": {\\\"signal\\\": \\\"ceil(height/40)\\\"}, \\\"ticks\\\": false, \\\"zindex\\\": 0, \\\"gridScale\\\": \\\"x\\\"}], \\\"style\\\": \\\"cell\\\", \\\"signals\\\": [{\\\"name\\\": \\\"width\\\", \\\"update\\\": \\\"250\\\"}, {\\\"name\\\": \\\"height\\\", \\\"update\\\": \\\"150\\\"}], \\\"marks\\\": [{\\\"name\\\": \\\"marks\\\", \\\"type\\\": \\\"rect\\\", \\\"style\\\": [\\\"rect\\\"], \\\"from\\\": {\\\"data\\\": \\\"new_data\\\"}, \\\"encode\\\": {\\\"hover\\\": {\\\"fill\\\": {\\\"value\\\": \\\"#7EC2F3\\\"}}, \\\"update\\\": {\\\"x\\\": {\\\"scale\\\": \\\"x\\\", \\\"field\\\": \\\"left\\\"}, \\\"x2\\\": {\\\"scale\\\": \\\"x\\\", \\\"field\\\": \\\"right\\\"}, \\\"y\\\": {\\\"scale\\\": \\\"y\\\", \\\"field\\\": \\\"count\\\"}, \\\"y2\\\": {\\\"scale\\\": \\\"y\\\", \\\"value\\\": 0}, \\\"fill\\\": {\\\"value\\\": \\\"#108EE9\\\"}}}}]}, {\\\"from\\\": {\\\"facet\\\": {\\\"name\\\": \\\"data_5\\\", \\\"data\\\": \\\"data_2\\\", \\\"field\\\": \\\"categorical\\\"}}, \\\"encode\\\": {\\\"enter\\\": {\\\"x\\\": {\\\"value\\\": 170}, \\\"width\\\": {\\\"value\\\": 250}, \\\"y\\\": {\\\"field\\\": \\\"graph_offset_categorical\\\"}, \\\"height\\\": {\\\"value\\\": 150}, \\\"fill\\\": {\\\"value\\\": \\\"#ffffff\\\"}, \\\"fillOpacity\\\": {\\\"value\\\": 0}, \\\"stroke\\\": {\\\"value\\\": \\\"#000000\\\"}, \\\"strokeWidth\\\": {\\\"value\\\": 0}}, \\\"update\\\": {\\\"x\\\": {\\\"signal\\\": \\\"datum[\\\\\\\"c_x_axis_back\\\\\\\"]+137\\\"}, \\\"clip\\\": {\\\"field\\\": \\\"c_clip_val_cat\\\"}, \\\"width\\\": {\\\"field\\\": \\\"c_width_numeric_val_cat\\\"}}}, \\\"type\\\": \\\"group\\\", \\\"style\\\": \\\"cell\\\", \\\"signals\\\": [{\\\"name\\\": \\\"unit\\\", \\\"value\\\": {}, \\\"on\\\": [{\\\"events\\\": \\\"mousemove\\\", \\\"update\\\": \\\"isTuple(group()) ? group() : unit\\\"}]}, {\\\"name\\\": \\\"pts\\\", \\\"update\\\": \\\"data(\\\\\\\"pts_store\\\\\\\").length &amp;&amp; {count: data(\\\\\\\"pts_store\\\\\\\")[0].values[0]}\\\"}, {\\\"name\\\": \\\"pts_tuple\\\", \\\"value\\\": {}, \\\"on\\\": [{\\\"events\\\": [{\\\"source\\\": \\\"scope\\\", \\\"type\\\": \\\"click\\\"}], \\\"update\\\": \\\"datum &amp;&amp; item().mark.marktype !== &apos;group&apos; ? {unit: \\\\\\\"\\\\\\\", encodings: [\\\\\\\"x\\\\\\\"], fields: [\\\\\\\"count\\\\\\\"], values: [datum[\\\\\\\"count\\\\\\\"]]} : null\\\", \\\"force\\\": true}]}, {\\\"name\\\": \\\"pts_modify\\\", \\\"on\\\": [{\\\"events\\\": {\\\"signal\\\": \\\"pts_tuple\\\"}, \\\"update\\\": \\\"modify(\\\\\\\"pts_store\\\\\\\", pts_tuple, true)\\\"}]}], \\\"marks\\\": [{\\\"name\\\": \\\"marks\\\", \\\"type\\\": \\\"rect\\\", \\\"style\\\": [\\\"bar\\\"], \\\"from\\\": {\\\"data\\\": \\\"data_5\\\"}, \\\"encode\\\": {\\\"hover\\\": {\\\"fill\\\": {\\\"value\\\": \\\"#7EC2F3\\\"}}, \\\"update\\\": {\\\"x\\\": {\\\"scale\\\": \\\"x\\\", \\\"field\\\": \\\"count\\\"}, \\\"x2\\\": {\\\"scale\\\": \\\"x\\\", \\\"value\\\": 0}, \\\"y\\\": {\\\"scale\\\": \\\"y\\\", \\\"field\\\": \\\"label\\\"}, \\\"height\\\": {\\\"scale\\\": \\\"y\\\", \\\"band\\\": true}, \\\"fill\\\": {\\\"value\\\": \\\"#108EE9\\\"}}}}], \\\"scales\\\": [{\\\"name\\\": \\\"x\\\", \\\"type\\\": \\\"linear\\\", \\\"domain\\\": {\\\"data\\\": \\\"data_5\\\", \\\"field\\\": \\\"count\\\"}, \\\"range\\\": [0, 250], \\\"nice\\\": true, \\\"zero\\\": true}, {\\\"name\\\": \\\"y\\\", \\\"type\\\": \\\"band\\\", \\\"domain\\\": {\\\"data\\\": \\\"data_5\\\", \\\"field\\\": \\\"label\\\", \\\"sort\\\": {\\\"op\\\": \\\"mean\\\", \\\"field\\\": \\\"label_idx\\\", \\\"order\\\": \\\"descending\\\"}}, \\\"range\\\": [150, 0], \\\"paddingInner\\\": 0.1, \\\"paddingOuter\\\": 0.05}], \\\"axes\\\": [{\\\"orient\\\": \\\"top\\\", \\\"scale\\\": \\\"x\\\", \\\"labelOverlap\\\": true, \\\"tickCount\\\": {\\\"signal\\\": \\\"ceil(width/40)\\\"}, \\\"title\\\": \\\"Count\\\", \\\"zindex\\\": 1}, {\\\"orient\\\": \\\"top\\\", \\\"scale\\\": \\\"x\\\", \\\"domain\\\": false, \\\"grid\\\": true, \\\"labels\\\": false, \\\"maxExtent\\\": 0, \\\"minExtent\\\": 0, \\\"tickCount\\\": {\\\"signal\\\": \\\"ceil(width/40)\\\"}, \\\"ticks\\\": false, \\\"zindex\\\": 0, \\\"gridScale\\\": \\\"y\\\"}, {\\\"scale\\\": \\\"y\\\", \\\"labelOverlap\\\": true, \\\"orient\\\": \\\"left\\\", \\\"title\\\": \\\"Label\\\", \\\"zindex\\\": 1}]}], \\\"type\\\": \\\"group\\\"}], \\\"type\\\": \\\"group\\\"}], \\\"config\\\": {\\\"axis\\\": {\\\"labelFont\\\": \\\"HelveticaNeue-Light, Arial\\\", \\\"labelFontSize\\\": 7, \\\"labelPadding\\\": 10, \\\"labelColor\\\": \\\"#595959\\\", \\\"titleFont\\\": \\\"HelveticaNeue-Light, Arial\\\", \\\"titleFontWeight\\\": \\\"normal\\\", \\\"titlePadding\\\": 9, \\\"titleFontSize\\\": 12, \\\"titleColor\\\": \\\"#595959\\\"}, \\\"axisY\\\": {\\\"minExtent\\\": 30}, \\\"style\\\": {\\\"rect\\\": {\\\"stroke\\\": \\\"rgba(200, 200, 200, 0.5)\\\"}, \\\"group-title\\\": {\\\"fontSize\\\": 20, \\\"font\\\": \\\"HelveticaNeue-Light, Arial\\\", \\\"fontWeight\\\": \\\"normal\\\", \\\"fill\\\": \\\"#595959\\\"}}}}\";                                 var vega_json_parsed = JSON.parse(vega_json);                                 var toolTipOpts = {                                     showAllFields: true                                 };                                 if(vega_json_parsed[\"metadata\"] != null){                                     if(vega_json_parsed[\"metadata\"][\"bubbleOpts\"] != null){                                         toolTipOpts = vega_json_parsed[\"metadata\"][\"bubbleOpts\"];                                     };                                 };                                 vegaEmbed(\"#vis\", vega_json_parsed).then(function (result) {                                     vegaTooltip.vega(result.view, toolTipOpts);                                  });                             </script>                         </body>                     </html>' src=\"demo_iframe_srcdoc.htm\">                         <p>Your browser does not support iframes.</p>                     </iframe>                 </body>             </html>"
      ],
      "text/plain": [
       "<IPython.core.display.HTML object>"
      ]
     },
     "metadata": {},
     "output_type": "display_data"
    }
   ],
   "source": [
    "frame.show()"
   ]
  }
 ],
 "metadata": {
  "kernelspec": {
   "display_name": "Python 3",
   "language": "python",
   "name": "python3"
  },
  "language_info": {
   "codemirror_mode": {
    "name": "ipython",
    "version": 3
   },
   "file_extension": ".py",
   "mimetype": "text/x-python",
   "name": "python",
   "nbconvert_exporter": "python",
   "pygments_lexer": "ipython3",
   "version": "3.7.7"
  }
 },
 "nbformat": 4,
 "nbformat_minor": 4
}

{
 "cells": [
  {
   "cell_type": "code",
   "execution_count": 143,
   "metadata": {},
   "outputs": [],
   "source": [
    "import turicreate as tc\n",
    "from bs4 import BeautifulSoup\n",
    "import cloudscraper"
   ]
  },
  {
   "cell_type": "code",
   "execution_count": 144,
   "metadata": {},
   "outputs": [],
   "source": [
    "scraper = cloudscraper.create_scraper()"
   ]
  },
  {
   "cell_type": "code",
   "execution_count": 175,
   "metadata": {},
   "outputs": [],
   "source": [
    "url = 'https://www.hemnet.se/salda/lagenhet-2rum-lilla-essingen-stockholms-kommun-primusgatan-53,-6tr-1130970'"
   ]
  },
  {
   "cell_type": "code",
   "execution_count": 176,
   "metadata": {},
   "outputs": [],
   "source": [
    "house_page = scraper.get(url)"
   ]
  },
  {
   "cell_type": "code",
   "execution_count": 177,
   "metadata": {},
   "outputs": [],
   "source": [
    "soup = BeautifulSoup(house_page.text, 'html.parser')"
   ]
  },
  {
   "cell_type": "code",
   "execution_count": 178,
   "metadata": {},
   "outputs": [
    {
     "data": {
      "text/plain": [
       "'Primusgatan 53, 6tr - Såld bostadsrättslägenhet - Lilla Essingen, Stockholm - Hemnet'"
      ]
     },
     "execution_count": 178,
     "metadata": {},
     "output_type": "execute_result"
    }
   ],
   "source": [
    "soup.title.text"
   ]
  },
  {
   "cell_type": "code",
   "execution_count": 179,
   "metadata": {},
   "outputs": [],
   "source": [
    "house = {}"
   ]
  },
  {
   "cell_type": "code",
   "execution_count": 180,
   "metadata": {},
   "outputs": [],
   "source": [
    "house['title'] = soup.title.text"
   ]
  },
  {
   "cell_type": "code",
   "execution_count": 181,
   "metadata": {},
   "outputs": [
    {
     "data": {
      "text/plain": [
       "{'title': 'Primusgatan 53, 6tr - Såld bostadsrättslägenhet - Lilla Essingen, Stockholm - Hemnet'}"
      ]
     },
     "execution_count": 181,
     "metadata": {},
     "output_type": "execute_result"
    }
   ],
   "source": [
    "house"
   ]
  },
  {
   "cell_type": "code",
   "execution_count": 182,
   "metadata": {},
   "outputs": [],
   "source": [
    "container = soup.find('h1')"
   ]
  },
  {
   "cell_type": "code",
   "execution_count": 183,
   "metadata": {},
   "outputs": [],
   "source": [
    "house['address'] = container.text.split('\\n')[2].strip()"
   ]
  },
  {
   "cell_type": "code",
   "execution_count": 184,
   "metadata": {},
   "outputs": [
    {
     "data": {
      "text/plain": [
       "{'title': 'Primusgatan 53, 6tr - Såld bostadsrättslägenhet - Lilla Essingen, Stockholm - Hemnet',\n",
       " 'address': 'Primusgatan 53, 6tr'}"
      ]
     },
     "execution_count": 184,
     "metadata": {},
     "output_type": "execute_result"
    }
   ],
   "source": [
    "house"
   ]
  },
  {
   "cell_type": "code",
   "execution_count": 185,
   "metadata": {},
   "outputs": [],
   "source": [
    "house['final_price'] = int(soup.find('span', attrs={'class':'sold-property__price-value'}).text.replace(u'\\xa0', u'')[:-2])"
   ]
  },
  {
   "cell_type": "code",
   "execution_count": 186,
   "metadata": {},
   "outputs": [
    {
     "data": {
      "text/plain": [
       "{'title': 'Primusgatan 53, 6tr - Såld bostadsrättslägenhet - Lilla Essingen, Stockholm - Hemnet',\n",
       " 'address': 'Primusgatan 53, 6tr',\n",
       " 'final_price': 3625000}"
      ]
     },
     "execution_count": 186,
     "metadata": {},
     "output_type": "execute_result"
    }
   ],
   "source": [
    "house"
   ]
  },
  {
   "cell_type": "code",
   "execution_count": 187,
   "metadata": {},
   "outputs": [],
   "source": [
    "container = soup.find('dl', attrs={'class':'sold-property__price-stats'})"
   ]
  },
  {
   "cell_type": "code",
   "execution_count": 188,
   "metadata": {},
   "outputs": [],
   "source": [
    "dts = container.find_all('dt')"
   ]
  },
  {
   "cell_type": "code",
   "execution_count": 189,
   "metadata": {},
   "outputs": [],
   "source": [
    "dds = container.find_all('dd')"
   ]
  },
  {
   "cell_type": "code",
   "execution_count": 190,
   "metadata": {},
   "outputs": [
    {
     "data": {
      "text/plain": [
       "[<dt class=\"sold-property__attribute\">Pris per kvadratmeter</dt>,\n",
       " <dt class=\"sold-property__attribute\">Begärt pris</dt>,\n",
       " <dt class=\"sold-property__attribute\">Prisutveckling</dt>]"
      ]
     },
     "execution_count": 190,
     "metadata": {},
     "output_type": "execute_result"
    }
   ],
   "source": [
    "dts"
   ]
  },
  {
   "cell_type": "code",
   "execution_count": 191,
   "metadata": {},
   "outputs": [
    {
     "data": {
      "text/plain": [
       "[<dd class=\"sold-property__attribute-value\">81 461 kr/m²</dd>,\n",
       " <dd class=\"sold-property__attribute-value\">3 295 000 kr</dd>,\n",
       " <dd class=\"sold-property__attribute-value\">\n",
       " <i class=\"fa fa-arrow-circle-o-up fa-lg price-icon--up\"></i>\n",
       "         +330 000 kr (+10 %)\n",
       "       </dd>]"
      ]
     },
     "execution_count": 191,
     "metadata": {},
     "output_type": "execute_result"
    }
   ],
   "source": [
    "dds"
   ]
  },
  {
   "cell_type": "code",
   "execution_count": 192,
   "metadata": {},
   "outputs": [],
   "source": [
    "house['price_per_squaremeter'] = int(dds[0].text.replace(u'\\xa0', u'')[:-5])"
   ]
  },
  {
   "cell_type": "code",
   "execution_count": 193,
   "metadata": {},
   "outputs": [],
   "source": [
    "house['demanded_price'] = int(dds[1].text.replace(u'\\xa0', u'')[:-3])"
   ]
  },
  {
   "cell_type": "code",
   "execution_count": 194,
   "metadata": {},
   "outputs": [
    {
     "data": {
      "text/plain": [
       "{'title': 'Primusgatan 53, 6tr - Såld bostadsrättslägenhet - Lilla Essingen, Stockholm - Hemnet',\n",
       " 'address': 'Primusgatan 53, 6tr',\n",
       " 'final_price': 3625000,\n",
       " 'price_per_squaremeter': 81461,\n",
       " 'demanded_price': 3295000}"
      ]
     },
     "execution_count": 194,
     "metadata": {},
     "output_type": "execute_result"
    }
   ],
   "source": [
    "house"
   ]
  },
  {
   "cell_type": "code",
   "execution_count": 195,
   "metadata": {},
   "outputs": [],
   "source": [
    "container = soup.find('dl', attrs={'class':'sold-property__attributes'})"
   ]
  },
  {
   "cell_type": "code",
   "execution_count": 196,
   "metadata": {},
   "outputs": [
    {
     "data": {
      "text/plain": [
       "<dl class=\"sold-property__attributes\">\n",
       "<dt class=\"sold-property__attribute\">Antal rum</dt>\n",
       "<dd class=\"sold-property__attribute-value\">2 rum</dd>\n",
       "<dt class=\"sold-property__attribute\">Boarea</dt>\n",
       "<dd class=\"sold-property__attribute-value\">44,5 m²</dd>\n",
       "<dt class=\"sold-property__attribute\">Avgift/månad</dt>\n",
       "<dd class=\"sold-property__attribute-value\">2 865 kr/mån</dd>\n",
       "<dt class=\"sold-property__attribute\">Driftskostnad</dt>\n",
       "<dd class=\"sold-property__attribute-value\">5 500 kr/år</dd>\n",
       "<dt class=\"sold-property__attribute\">Byggår</dt>\n",
       "<dd class=\"sold-property__attribute-value\">2006</dd>\n",
       "</dl>"
      ]
     },
     "execution_count": 196,
     "metadata": {},
     "output_type": "execute_result"
    }
   ],
   "source": [
    "container"
   ]
  },
  {
   "cell_type": "code",
   "execution_count": 197,
   "metadata": {},
   "outputs": [],
   "source": [
    "dds = container.find_all('dd')"
   ]
  },
  {
   "cell_type": "code",
   "execution_count": 198,
   "metadata": {},
   "outputs": [
    {
     "data": {
      "text/plain": [
       "[<dd class=\"sold-property__attribute-value\">2 rum</dd>,\n",
       " <dd class=\"sold-property__attribute-value\">44,5 m²</dd>,\n",
       " <dd class=\"sold-property__attribute-value\">2 865 kr/mån</dd>,\n",
       " <dd class=\"sold-property__attribute-value\">5 500 kr/år</dd>,\n",
       " <dd class=\"sold-property__attribute-value\">2006</dd>]"
      ]
     },
     "execution_count": 198,
     "metadata": {},
     "output_type": "execute_result"
    }
   ],
   "source": [
    "dds"
   ]
  },
  {
   "cell_type": "code",
   "execution_count": 199,
   "metadata": {},
   "outputs": [
    {
     "data": {
      "text/plain": [
       "'2 rum'"
      ]
     },
     "execution_count": 199,
     "metadata": {},
     "output_type": "execute_result"
    }
   ],
   "source": [
    "dds[0].text"
   ]
  },
  {
   "cell_type": "code",
   "execution_count": 200,
   "metadata": {},
   "outputs": [],
   "source": [
    "house['room_number'] = dds[0].text"
   ]
  },
  {
   "cell_type": "code",
   "execution_count": 210,
   "metadata": {},
   "outputs": [
    {
     "data": {
      "text/plain": [
       "'44,5 '"
      ]
     },
     "execution_count": 210,
     "metadata": {},
     "output_type": "execute_result"
    }
   ],
   "source": [
    "dds[1].text[:-2]"
   ]
  },
  {
   "cell_type": "code",
   "execution_count": 211,
   "metadata": {},
   "outputs": [],
   "source": [
    "house['area'] = float(dds[1].text[:2])"
   ]
  },
  {
   "cell_type": "code",
   "execution_count": 212,
   "metadata": {},
   "outputs": [
    {
     "data": {
      "text/plain": [
       "44.0"
      ]
     },
     "execution_count": 212,
     "metadata": {},
     "output_type": "execute_result"
    }
   ],
   "source": [
    "house['area']"
   ]
  },
  {
   "cell_type": "code",
   "execution_count": 213,
   "metadata": {},
   "outputs": [],
   "source": [
    "house['monthly_fee'] = int(dds[2].text.replace(u'\\xa0', u'')[:-6])"
   ]
  },
  {
   "cell_type": "code",
   "execution_count": null,
   "metadata": {},
   "outputs": [],
   "source": []
  },
  {
   "cell_type": "code",
   "execution_count": 141,
   "metadata": {},
   "outputs": [],
   "source": [
    "if dds[3].text.replace(u'\\xa0', u'')[:-5] == '':\n",
    "    house['year_of_construction'] = int(dds[3].text)\n",
    "    house['operating_cost'] = 0\n",
    "else:\n",
    "    house['operating_cost'] = int(dds[3].text.replace(u'\\xa0', u'')[:-5])\n",
    "    house['year_of_construction'] = int(dds[4].text)\n",
    "    "
   ]
  },
  {
   "cell_type": "code",
   "execution_count": null,
   "metadata": {},
   "outputs": [],
   "source": []
  },
  {
   "cell_type": "code",
   "execution_count": 142,
   "metadata": {},
   "outputs": [
    {
     "data": {
      "text/plain": [
       "{'title': 'Disponentgatan 1 - Såld bostadsrättslägenhet - Kungsholmen - Lilla Essingen, Stockholm - Hemnet',\n",
       " 'address': 'Disponentgatan 1',\n",
       " 'final_price': 3450000,\n",
       " 'price_per_squaremeter': 95833,\n",
       " 'demanded_price': 2895000,\n",
       " 'room_number': '2 rum',\n",
       " 'area': 36,\n",
       " 'monthly_fee': 2435,\n",
       " 'year_of_construction': 1935,\n",
       " 'operating_cost': 0}"
      ]
     },
     "execution_count": 142,
     "metadata": {},
     "output_type": "execute_result"
    }
   ],
   "source": [
    "house"
   ]
  },
  {
   "cell_type": "code",
   "execution_count": null,
   "metadata": {},
   "outputs": [],
   "source": []
  },
  {
   "cell_type": "code",
   "execution_count": null,
   "metadata": {},
   "outputs": [],
   "source": []
  }
 ],
 "metadata": {
  "kernelspec": {
   "display_name": "Python 3",
   "language": "python",
   "name": "python3"
  },
  "language_info": {
   "codemirror_mode": {
    "name": "ipython",
    "version": 3
   },
   "file_extension": ".py",
   "mimetype": "text/x-python",
   "name": "python",
   "nbconvert_exporter": "python",
   "pygments_lexer": "ipython3",
   "version": "3.7.7"
  }
 },
 "nbformat": 4,
 "nbformat_minor": 4
}

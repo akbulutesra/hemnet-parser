{
 "cells": [
  {
   "cell_type": "code",
   "execution_count": 1,
   "metadata": {},
   "outputs": [],
   "source": [
    "import turicreate as tc\n",
    "from bs4 import BeautifulSoup\n",
    "import cloudscraper"
   ]
  },
  {
   "cell_type": "code",
   "execution_count": 2,
   "metadata": {},
   "outputs": [],
   "source": [
    "scraper = cloudscraper.create_scraper()"
   ]
  },
  {
   "cell_type": "code",
   "execution_count": 3,
   "metadata": {},
   "outputs": [],
   "source": [
    "url = 'https://www.hemnet.se/salda/lagenhet-2rum-lilla-essingen-stockholms-kommun-primusgatan-53,-6tr-1130970'"
   ]
  },
  {
   "cell_type": "code",
   "execution_count": 4,
   "metadata": {},
   "outputs": [],
   "source": [
    "house_page = scraper.get(url)"
   ]
  },
  {
   "cell_type": "code",
   "execution_count": 5,
   "metadata": {},
   "outputs": [],
   "source": [
    "soup = BeautifulSoup(house_page.text, 'html.parser')"
   ]
  },
  {
   "cell_type": "code",
   "execution_count": 6,
   "metadata": {},
   "outputs": [
    {
     "data": {
      "text/plain": [
       "'Primusgatan 53, 6tr - Såld bostadsrättslägenhet - Lilla Essingen, Stockholm - Hemnet'"
      ]
     },
     "execution_count": 6,
     "metadata": {},
     "output_type": "execute_result"
    }
   ],
   "source": [
    "soup.title.text"
   ]
  },
  {
   "cell_type": "code",
   "execution_count": 7,
   "metadata": {},
   "outputs": [],
   "source": [
    "house = {}"
   ]
  },
  {
   "cell_type": "code",
   "execution_count": 8,
   "metadata": {},
   "outputs": [],
   "source": [
    "house['title'] = soup.title.text"
   ]
  },
  {
   "cell_type": "code",
   "execution_count": 9,
   "metadata": {},
   "outputs": [
    {
     "data": {
      "text/plain": [
       "{'title': 'Primusgatan 53, 6tr - Såld bostadsrättslägenhet - Lilla Essingen, Stockholm - Hemnet'}"
      ]
     },
     "execution_count": 9,
     "metadata": {},
     "output_type": "execute_result"
    }
   ],
   "source": [
    "house"
   ]
  },
  {
   "cell_type": "code",
   "execution_count": 10,
   "metadata": {},
   "outputs": [],
   "source": [
    "container = soup.find('h1')"
   ]
  },
  {
   "cell_type": "code",
   "execution_count": 11,
   "metadata": {},
   "outputs": [],
   "source": [
    "house['address'] = container.text.split('\\n')[2].strip()"
   ]
  },
  {
   "cell_type": "code",
   "execution_count": 12,
   "metadata": {},
   "outputs": [
    {
     "data": {
      "text/plain": [
       "{'title': 'Primusgatan 53, 6tr - Såld bostadsrättslägenhet - Lilla Essingen, Stockholm - Hemnet',\n",
       " 'address': 'Primusgatan 53, 6tr'}"
      ]
     },
     "execution_count": 12,
     "metadata": {},
     "output_type": "execute_result"
    }
   ],
   "source": [
    "house"
   ]
  },
  {
   "cell_type": "code",
   "execution_count": 13,
   "metadata": {},
   "outputs": [],
   "source": [
    "house['final_price'] = int(soup.find('span', attrs={'class':'sold-property__price-value'}).text.replace(u'\\xa0', u'')[:-2])"
   ]
  },
  {
   "cell_type": "code",
   "execution_count": 14,
   "metadata": {},
   "outputs": [
    {
     "data": {
      "text/plain": [
       "{'title': 'Primusgatan 53, 6tr - Såld bostadsrättslägenhet - Lilla Essingen, Stockholm - Hemnet',\n",
       " 'address': 'Primusgatan 53, 6tr',\n",
       " 'final_price': 3625000}"
      ]
     },
     "execution_count": 14,
     "metadata": {},
     "output_type": "execute_result"
    }
   ],
   "source": [
    "house"
   ]
  },
  {
   "cell_type": "code",
   "execution_count": 15,
   "metadata": {},
   "outputs": [],
   "source": [
    "container = soup.find('dl', attrs={'class':'sold-property__price-stats'})"
   ]
  },
  {
   "cell_type": "code",
   "execution_count": 16,
   "metadata": {},
   "outputs": [],
   "source": [
    "dts = container.find_all('dt')"
   ]
  },
  {
   "cell_type": "code",
   "execution_count": 17,
   "metadata": {},
   "outputs": [],
   "source": [
    "dds = container.find_all('dd')"
   ]
  },
  {
   "cell_type": "code",
   "execution_count": 18,
   "metadata": {},
   "outputs": [
    {
     "data": {
      "text/plain": [
       "[<dt class=\"sold-property__attribute\">Pris per kvadratmeter</dt>,\n",
       " <dt class=\"sold-property__attribute\">Begärt pris</dt>,\n",
       " <dt class=\"sold-property__attribute\">Prisutveckling</dt>]"
      ]
     },
     "execution_count": 18,
     "metadata": {},
     "output_type": "execute_result"
    }
   ],
   "source": [
    "dts"
   ]
  },
  {
   "cell_type": "code",
   "execution_count": 19,
   "metadata": {},
   "outputs": [
    {
     "data": {
      "text/plain": [
       "[<dd class=\"sold-property__attribute-value\">81 461 kr/m²</dd>,\n",
       " <dd class=\"sold-property__attribute-value\">3 295 000 kr</dd>,\n",
       " <dd class=\"sold-property__attribute-value\">\n",
       " <i class=\"fa fa-arrow-circle-o-up fa-lg price-icon--up\"></i>\n",
       "         +330 000 kr (+10 %)\n",
       "       </dd>]"
      ]
     },
     "execution_count": 19,
     "metadata": {},
     "output_type": "execute_result"
    }
   ],
   "source": [
    "dds"
   ]
  },
  {
   "cell_type": "code",
   "execution_count": 20,
   "metadata": {},
   "outputs": [],
   "source": [
    "house['price_per_squaremeter'] = int(dds[0].text.replace(u'\\xa0', u'')[:-5])"
   ]
  },
  {
   "cell_type": "code",
   "execution_count": 21,
   "metadata": {},
   "outputs": [],
   "source": [
    "house['demanded_price'] = int(dds[1].text.replace(u'\\xa0', u'')[:-3])"
   ]
  },
  {
   "cell_type": "code",
   "execution_count": 22,
   "metadata": {},
   "outputs": [
    {
     "data": {
      "text/plain": [
       "{'title': 'Primusgatan 53, 6tr - Såld bostadsrättslägenhet - Lilla Essingen, Stockholm - Hemnet',\n",
       " 'address': 'Primusgatan 53, 6tr',\n",
       " 'final_price': 3625000,\n",
       " 'price_per_squaremeter': 81461,\n",
       " 'demanded_price': 3295000}"
      ]
     },
     "execution_count": 22,
     "metadata": {},
     "output_type": "execute_result"
    }
   ],
   "source": [
    "house"
   ]
  },
  {
   "cell_type": "code",
   "execution_count": 23,
   "metadata": {},
   "outputs": [],
   "source": [
    "container = soup.find('dl', attrs={'class':'sold-property__attributes'})"
   ]
  },
  {
   "cell_type": "code",
   "execution_count": 24,
   "metadata": {},
   "outputs": [
    {
     "data": {
      "text/plain": [
       "<dl class=\"sold-property__attributes\">\n",
       "<dt class=\"sold-property__attribute\">Antal rum</dt>\n",
       "<dd class=\"sold-property__attribute-value\">2 rum</dd>\n",
       "<dt class=\"sold-property__attribute\">Boarea</dt>\n",
       "<dd class=\"sold-property__attribute-value\">44,5 m²</dd>\n",
       "<dt class=\"sold-property__attribute\">Avgift/månad</dt>\n",
       "<dd class=\"sold-property__attribute-value\">2 865 kr/mån</dd>\n",
       "<dt class=\"sold-property__attribute\">Driftskostnad</dt>\n",
       "<dd class=\"sold-property__attribute-value\">5 500 kr/år</dd>\n",
       "<dt class=\"sold-property__attribute\">Byggår</dt>\n",
       "<dd class=\"sold-property__attribute-value\">2006</dd>\n",
       "</dl>"
      ]
     },
     "execution_count": 24,
     "metadata": {},
     "output_type": "execute_result"
    }
   ],
   "source": [
    "container"
   ]
  },
  {
   "cell_type": "code",
   "execution_count": 25,
   "metadata": {},
   "outputs": [],
   "source": [
    "dds = container.find_all('dd')"
   ]
  },
  {
   "cell_type": "code",
   "execution_count": 26,
   "metadata": {},
   "outputs": [
    {
     "data": {
      "text/plain": [
       "[<dd class=\"sold-property__attribute-value\">2 rum</dd>,\n",
       " <dd class=\"sold-property__attribute-value\">44,5 m²</dd>,\n",
       " <dd class=\"sold-property__attribute-value\">2 865 kr/mån</dd>,\n",
       " <dd class=\"sold-property__attribute-value\">5 500 kr/år</dd>,\n",
       " <dd class=\"sold-property__attribute-value\">2006</dd>]"
      ]
     },
     "execution_count": 26,
     "metadata": {},
     "output_type": "execute_result"
    }
   ],
   "source": [
    "dds"
   ]
  },
  {
   "cell_type": "code",
   "execution_count": 27,
   "metadata": {},
   "outputs": [
    {
     "data": {
      "text/plain": [
       "'2 rum'"
      ]
     },
     "execution_count": 27,
     "metadata": {},
     "output_type": "execute_result"
    }
   ],
   "source": [
    "dds[0].text"
   ]
  },
  {
   "cell_type": "code",
   "execution_count": 28,
   "metadata": {},
   "outputs": [],
   "source": [
    "house['room_number'] = dds[0].text"
   ]
  },
  {
   "cell_type": "code",
   "execution_count": 29,
   "metadata": {},
   "outputs": [
    {
     "data": {
      "text/plain": [
       "'44,5 '"
      ]
     },
     "execution_count": 29,
     "metadata": {},
     "output_type": "execute_result"
    }
   ],
   "source": [
    "dds[1].text[:-2]"
   ]
  },
  {
   "cell_type": "code",
   "execution_count": 30,
   "metadata": {},
   "outputs": [],
   "source": [
    "house['area'] = float(dds[1].text[:2])"
   ]
  },
  {
   "cell_type": "code",
   "execution_count": 31,
   "metadata": {},
   "outputs": [
    {
     "data": {
      "text/plain": [
       "44.0"
      ]
     },
     "execution_count": 31,
     "metadata": {},
     "output_type": "execute_result"
    }
   ],
   "source": [
    "house['area']"
   ]
  },
  {
   "cell_type": "code",
   "execution_count": 32,
   "metadata": {},
   "outputs": [],
   "source": [
    "house['monthly_fee'] = int(dds[2].text.replace(u'\\xa0', u'')[:-6])"
   ]
  },
  {
   "cell_type": "code",
   "execution_count": null,
   "metadata": {},
   "outputs": [],
   "source": []
  },
  {
   "cell_type": "code",
   "execution_count": 33,
   "metadata": {},
   "outputs": [],
   "source": [
    "if dds[3].text.replace(u'\\xa0', u'')[:-5] == '':\n",
    "    house['year_of_construction'] = int(dds[3].text)\n",
    "    house['operating_cost'] = 0\n",
    "else:\n",
    "    house['operating_cost'] = int(dds[3].text.replace(u'\\xa0', u'')[:-5])\n",
    "    house['year_of_construction'] = int(dds[4].text)\n",
    "    "
   ]
  },
  {
   "cell_type": "code",
   "execution_count": null,
   "metadata": {},
   "outputs": [],
   "source": []
  },
  {
   "cell_type": "code",
   "execution_count": 34,
   "metadata": {},
   "outputs": [
    {
     "data": {
      "text/plain": [
       "{'title': 'Primusgatan 53, 6tr - Såld bostadsrättslägenhet - Lilla Essingen, Stockholm - Hemnet',\n",
       " 'address': 'Primusgatan 53, 6tr',\n",
       " 'final_price': 3625000,\n",
       " 'price_per_squaremeter': 81461,\n",
       " 'demanded_price': 3295000,\n",
       " 'room_number': '2 rum',\n",
       " 'area': 44.0,\n",
       " 'monthly_fee': 2865,\n",
       " 'operating_cost': 5500,\n",
       " 'year_of_construction': 2006}"
      ]
     },
     "execution_count": 34,
     "metadata": {},
     "output_type": "execute_result"
    }
   ],
   "source": [
    "house"
   ]
  },
  {
   "cell_type": "code",
   "execution_count": 35,
   "metadata": {},
   "outputs": [],
   "source": [
    "container = soup.find('time')"
   ]
  },
  {
   "cell_type": "code",
   "execution_count": 36,
   "metadata": {},
   "outputs": [
    {
     "data": {
      "text/plain": [
       "<time datetime=\"2020-01-22\">\n",
       "      22 januari 2020\n",
       "    </time>"
      ]
     },
     "execution_count": 36,
     "metadata": {},
     "output_type": "execute_result"
    }
   ],
   "source": [
    "container"
   ]
  },
  {
   "cell_type": "code",
   "execution_count": 38,
   "metadata": {},
   "outputs": [
    {
     "data": {
      "text/plain": [
       "'2020-01-22'"
      ]
     },
     "execution_count": 38,
     "metadata": {},
     "output_type": "execute_result"
    }
   ],
   "source": [
    "container.attrs[\"datetime\"]"
   ]
  },
  {
   "cell_type": "code",
   "execution_count": null,
   "metadata": {},
   "outputs": [],
   "source": []
  }
 ],
 "metadata": {
  "kernelspec": {
   "display_name": "Python 3",
   "language": "python",
   "name": "python3"
  },
  "language_info": {
   "codemirror_mode": {
    "name": "ipython",
    "version": 3
   },
   "file_extension": ".py",
   "mimetype": "text/x-python",
   "name": "python",
   "nbconvert_exporter": "python",
   "pygments_lexer": "ipython3",
   "version": "3.7.7"
  }
 },
 "nbformat": 4,
 "nbformat_minor": 4
}

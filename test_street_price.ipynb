{
 "cells": [
  {
   "cell_type": "markdown",
   "metadata": {},
   "source": [
    "### Street and price of squaremeter\n",
    "\n",
    "## H0\n",
    "Street and price of squaremeter are independent\n",
    "\n",
    "## H1\n",
    "Street and price of squaremeter are dependent"
   ]
  },
  {
   "cell_type": "code",
   "execution_count": 2,
   "metadata": {},
   "outputs": [],
   "source": [
    "import pandas as pd\n",
    "import seaborn as sns\n",
    "import matplotlib.pyplot as plt\n",
    "from scipy.stats import chi2_contingency\n",
    "from scipy.stats import chi2"
   ]
  },
  {
   "cell_type": "code",
   "execution_count": 3,
   "metadata": {},
   "outputs": [],
   "source": [
    "data = pd.read_csv('house_prices_fixed.csv',decimal=',')"
   ]
  },
  {
   "cell_type": "code",
   "execution_count": 4,
   "metadata": {},
   "outputs": [],
   "source": [
    "data['price_category'] = list(map(lambda x: 'expensive' if x > 83405 else 'cheap',data['price_per_squaremeter']))"
   ]
  },
  {
   "cell_type": "code",
   "execution_count": 6,
   "metadata": {},
   "outputs": [
    {
     "data": {
      "text/html": [
       "<div>\n",
       "<style scoped>\n",
       "    .dataframe tbody tr th:only-of-type {\n",
       "        vertical-align: middle;\n",
       "    }\n",
       "\n",
       "    .dataframe tbody tr th {\n",
       "        vertical-align: top;\n",
       "    }\n",
       "\n",
       "    .dataframe thead th {\n",
       "        text-align: right;\n",
       "    }\n",
       "</style>\n",
       "<table border=\"1\" class=\"dataframe\">\n",
       "  <thead>\n",
       "    <tr style=\"text-align: right;\">\n",
       "      <th></th>\n",
       "      <th>address</th>\n",
       "      <th>area</th>\n",
       "      <th>date</th>\n",
       "      <th>demanded_price</th>\n",
       "      <th>final_price</th>\n",
       "      <th>monthly_fee</th>\n",
       "      <th>operating_cost</th>\n",
       "      <th>price_per_squaremeter</th>\n",
       "      <th>room_number</th>\n",
       "      <th>title</th>\n",
       "      <th>url</th>\n",
       "      <th>year_of_construction</th>\n",
       "      <th>price_category</th>\n",
       "    </tr>\n",
       "  </thead>\n",
       "  <tbody>\n",
       "    <tr>\n",
       "      <th>0</th>\n",
       "      <td>Luxgatan 7</td>\n",
       "      <td>30.0</td>\n",
       "      <td>13/01/21</td>\n",
       "      <td>2350000</td>\n",
       "      <td>2550000</td>\n",
       "      <td>1733</td>\n",
       "      <td>6096.0</td>\n",
       "      <td>85000</td>\n",
       "      <td>1 rum</td>\n",
       "      <td>Luxgatan 7 - Sald  - Lilla Essingen \\\\\\\\ Kungs...</td>\n",
       "      <td>https://www.hemnet.se/salda/lagenhet-1rum-lill...</td>\n",
       "      <td>1937</td>\n",
       "      <td>expensive</td>\n",
       "    </tr>\n",
       "    <tr>\n",
       "      <th>1</th>\n",
       "      <td>Primusgatan 108, 6/6 tr</td>\n",
       "      <td>101.0</td>\n",
       "      <td>10/01/21</td>\n",
       "      <td>11400000</td>\n",
       "      <td>11400000</td>\n",
       "      <td>5887</td>\n",
       "      <td>5540.0</td>\n",
       "      <td>112871</td>\n",
       "      <td>4 rum</td>\n",
       "      <td>Primusgatan 108, 6/6 tr - Sald  - Kungsholmen ...</td>\n",
       "      <td>https://www.hemnet.se/salda/lagenhet-4rum-kung...</td>\n",
       "      <td>1935</td>\n",
       "      <td>expensive</td>\n",
       "    </tr>\n",
       "    <tr>\n",
       "      <th>2</th>\n",
       "      <td>Stralgatan 47, 3 tr</td>\n",
       "      <td>31.0</td>\n",
       "      <td>08/01/21</td>\n",
       "      <td>2595000</td>\n",
       "      <td>2875000</td>\n",
       "      <td>2471</td>\n",
       "      <td>3200.0</td>\n",
       "      <td>92742</td>\n",
       "      <td>2 rum</td>\n",
       "      <td>Stralgatan 47, 3 tr  - Sald  - Lilla Essingen ...</td>\n",
       "      <td>https://www.hemnet.se/salda/lagenhet-2rum-lill...</td>\n",
       "      <td>1939</td>\n",
       "      <td>expensive</td>\n",
       "    </tr>\n",
       "    <tr>\n",
       "      <th>3</th>\n",
       "      <td>Disponentgatan 1</td>\n",
       "      <td>46.0</td>\n",
       "      <td>08/01/21</td>\n",
       "      <td>3550000</td>\n",
       "      <td>3550000</td>\n",
       "      <td>3003</td>\n",
       "      <td>12979.0</td>\n",
       "      <td>77174</td>\n",
       "      <td>2,5 rum</td>\n",
       "      <td>Disponentgatan 1 - Sald  - Lilla Essingen, STO...</td>\n",
       "      <td>https://www.hemnet.se/salda/lagenhet-2,5rum-li...</td>\n",
       "      <td>1935</td>\n",
       "      <td>cheap</td>\n",
       "    </tr>\n",
       "    <tr>\n",
       "      <th>4</th>\n",
       "      <td>Essinge Brogata 12</td>\n",
       "      <td>34.5</td>\n",
       "      <td>08/01/21</td>\n",
       "      <td>2495000</td>\n",
       "      <td>2900000</td>\n",
       "      <td>2162</td>\n",
       "      <td>4200.0</td>\n",
       "      <td>84058</td>\n",
       "      <td>2 rum</td>\n",
       "      <td>Essinge Brogata 12 - Sald  - Kungsholmen - Lil...</td>\n",
       "      <td>https://www.hemnet.se/salda/lagenhet-2rum-kung...</td>\n",
       "      <td>1934</td>\n",
       "      <td>expensive</td>\n",
       "    </tr>\n",
       "    <tr>\n",
       "      <th>5</th>\n",
       "      <td>Essinge Brogata 39, 2 tr</td>\n",
       "      <td>23.0</td>\n",
       "      <td>14/12/20</td>\n",
       "      <td>1895000</td>\n",
       "      <td>2205000</td>\n",
       "      <td>1787</td>\n",
       "      <td>3600.0</td>\n",
       "      <td>95870</td>\n",
       "      <td>1 rum</td>\n",
       "      <td>Essinge Brogata 39, 2 tr  - Sald  - Lilla Essi...</td>\n",
       "      <td>https://www.hemnet.se/salda/lagenhet-1rum-lill...</td>\n",
       "      <td>1938</td>\n",
       "      <td>expensive</td>\n",
       "    </tr>\n",
       "    <tr>\n",
       "      <th>6</th>\n",
       "      <td>Stralgatan 47</td>\n",
       "      <td>40.0</td>\n",
       "      <td>11/12/20</td>\n",
       "      <td>2595000</td>\n",
       "      <td>2850000</td>\n",
       "      <td>2957</td>\n",
       "      <td>4860.0</td>\n",
       "      <td>71250</td>\n",
       "      <td>2 rum</td>\n",
       "      <td>Stralgatan 47 - Sald  - Lilla Essingen \\\\\\\\ Ku...</td>\n",
       "      <td>https://www.hemnet.se/salda/lagenhet-2rum-lill...</td>\n",
       "      <td>1939</td>\n",
       "      <td>cheap</td>\n",
       "    </tr>\n",
       "    <tr>\n",
       "      <th>7</th>\n",
       "      <td>Patentgatan 1, 3tr</td>\n",
       "      <td>69.0</td>\n",
       "      <td>04/12/20</td>\n",
       "      <td>5995000</td>\n",
       "      <td>6400000</td>\n",
       "      <td>3778</td>\n",
       "      <td>7200.0</td>\n",
       "      <td>92754</td>\n",
       "      <td>3 rum</td>\n",
       "      <td>Patentgatan 1, 3tr - Sald  - Lilla Essingen, S...</td>\n",
       "      <td>https://www.hemnet.se/salda/lagenhet-3rum-lill...</td>\n",
       "      <td>2006</td>\n",
       "      <td>expensive</td>\n",
       "    </tr>\n",
       "    <tr>\n",
       "      <th>8</th>\n",
       "      <td>Primusgatan 82, 6tr</td>\n",
       "      <td>84.5</td>\n",
       "      <td>03/12/20</td>\n",
       "      <td>8495000</td>\n",
       "      <td>8495000</td>\n",
       "      <td>4828</td>\n",
       "      <td>7800.0</td>\n",
       "      <td>100533</td>\n",
       "      <td>3 rum</td>\n",
       "      <td>Primusgatan 82, 6tr - Sald  - Lilla Essingen, ...</td>\n",
       "      <td>https://www.hemnet.se/salda/lagenhet-3rum-lill...</td>\n",
       "      <td>2004</td>\n",
       "      <td>expensive</td>\n",
       "    </tr>\n",
       "    <tr>\n",
       "      <th>9</th>\n",
       "      <td>Primusgatan 81, van 4</td>\n",
       "      <td>96.0</td>\n",
       "      <td>01/12/20</td>\n",
       "      <td>8495000</td>\n",
       "      <td>9250000</td>\n",
       "      <td>4793</td>\n",
       "      <td>6860.0</td>\n",
       "      <td>96354</td>\n",
       "      <td>4 rum</td>\n",
       "      <td>Primusgatan 81, van 4 - Sald  - Lilla Essingen...</td>\n",
       "      <td>https://www.hemnet.se/salda/lagenhet-4rum-lill...</td>\n",
       "      <td>2004</td>\n",
       "      <td>expensive</td>\n",
       "    </tr>\n",
       "  </tbody>\n",
       "</table>\n",
       "</div>"
      ],
      "text/plain": [
       "                    address   area      date  demanded_price  final_price  \\\n",
       "0                Luxgatan 7   30.0  13/01/21         2350000      2550000   \n",
       "1   Primusgatan 108, 6/6 tr  101.0  10/01/21        11400000     11400000   \n",
       "2       Stralgatan 47, 3 tr   31.0  08/01/21         2595000      2875000   \n",
       "3          Disponentgatan 1   46.0  08/01/21         3550000      3550000   \n",
       "4        Essinge Brogata 12   34.5  08/01/21         2495000      2900000   \n",
       "5  Essinge Brogata 39, 2 tr   23.0  14/12/20         1895000      2205000   \n",
       "6             Stralgatan 47   40.0  11/12/20         2595000      2850000   \n",
       "7        Patentgatan 1, 3tr   69.0  04/12/20         5995000      6400000   \n",
       "8       Primusgatan 82, 6tr   84.5  03/12/20         8495000      8495000   \n",
       "9     Primusgatan 81, van 4   96.0  01/12/20         8495000      9250000   \n",
       "\n",
       "   monthly_fee  operating_cost  price_per_squaremeter room_number  \\\n",
       "0         1733          6096.0                  85000       1 rum   \n",
       "1         5887          5540.0                 112871       4 rum   \n",
       "2         2471          3200.0                  92742       2 rum   \n",
       "3         3003         12979.0                  77174     2,5 rum   \n",
       "4         2162          4200.0                  84058       2 rum   \n",
       "5         1787          3600.0                  95870       1 rum   \n",
       "6         2957          4860.0                  71250       2 rum   \n",
       "7         3778          7200.0                  92754       3 rum   \n",
       "8         4828          7800.0                 100533       3 rum   \n",
       "9         4793          6860.0                  96354       4 rum   \n",
       "\n",
       "                                               title  \\\n",
       "0  Luxgatan 7 - Sald  - Lilla Essingen \\\\\\\\ Kungs...   \n",
       "1  Primusgatan 108, 6/6 tr - Sald  - Kungsholmen ...   \n",
       "2  Stralgatan 47, 3 tr  - Sald  - Lilla Essingen ...   \n",
       "3  Disponentgatan 1 - Sald  - Lilla Essingen, STO...   \n",
       "4  Essinge Brogata 12 - Sald  - Kungsholmen - Lil...   \n",
       "5  Essinge Brogata 39, 2 tr  - Sald  - Lilla Essi...   \n",
       "6  Stralgatan 47 - Sald  - Lilla Essingen \\\\\\\\ Ku...   \n",
       "7  Patentgatan 1, 3tr - Sald  - Lilla Essingen, S...   \n",
       "8  Primusgatan 82, 6tr - Sald  - Lilla Essingen, ...   \n",
       "9  Primusgatan 81, van 4 - Sald  - Lilla Essingen...   \n",
       "\n",
       "                                                 url  year_of_construction  \\\n",
       "0  https://www.hemnet.se/salda/lagenhet-1rum-lill...                  1937   \n",
       "1  https://www.hemnet.se/salda/lagenhet-4rum-kung...                  1935   \n",
       "2  https://www.hemnet.se/salda/lagenhet-2rum-lill...                  1939   \n",
       "3  https://www.hemnet.se/salda/lagenhet-2,5rum-li...                  1935   \n",
       "4  https://www.hemnet.se/salda/lagenhet-2rum-kung...                  1934   \n",
       "5  https://www.hemnet.se/salda/lagenhet-1rum-lill...                  1938   \n",
       "6  https://www.hemnet.se/salda/lagenhet-2rum-lill...                  1939   \n",
       "7  https://www.hemnet.se/salda/lagenhet-3rum-lill...                  2006   \n",
       "8  https://www.hemnet.se/salda/lagenhet-3rum-lill...                  2004   \n",
       "9  https://www.hemnet.se/salda/lagenhet-4rum-lill...                  2004   \n",
       "\n",
       "  price_category  \n",
       "0      expensive  \n",
       "1      expensive  \n",
       "2      expensive  \n",
       "3          cheap  \n",
       "4      expensive  \n",
       "5      expensive  \n",
       "6          cheap  \n",
       "7      expensive  \n",
       "8      expensive  \n",
       "9      expensive  "
      ]
     },
     "execution_count": 6,
     "metadata": {},
     "output_type": "execute_result"
    }
   ],
   "source": [
    "data.head(10)"
   ]
  },
  {
   "cell_type": "code",
   "execution_count": 13,
   "metadata": {},
   "outputs": [],
   "source": [
    "data['street'] = list(map(lambda x: x.split()[0],data['address']))"
   ]
  },
  {
   "cell_type": "code",
   "execution_count": 14,
   "metadata": {},
   "outputs": [],
   "source": [
    "data['street'] = list(map(lambda x: 'Essinge Brogata' if x == 'Essinge' else x,data['street']))"
   ]
  },
  {
   "cell_type": "code",
   "execution_count": 15,
   "metadata": {},
   "outputs": [
    {
     "data": {
      "text/plain": [
       "0             Luxgatan\n",
       "1          Primusgatan\n",
       "2           Stralgatan\n",
       "3       Disponentgatan\n",
       "4      Essinge Brogata\n",
       "            ...       \n",
       "231        Primusgatan\n",
       "232           Luxgatan\n",
       "233        Primusgatan\n",
       "234         Stralgatan\n",
       "235    Essinge Brogata\n",
       "Name: street, Length: 236, dtype: object"
      ]
     },
     "execution_count": 15,
     "metadata": {},
     "output_type": "execute_result"
    }
   ],
   "source": [
    "data['street']"
   ]
  },
  {
   "cell_type": "code",
   "execution_count": 16,
   "metadata": {},
   "outputs": [],
   "source": [
    "data_crosstab = pd.crosstab(data['street'],  data['price_category'], margins = False)"
   ]
  },
  {
   "cell_type": "code",
   "execution_count": 17,
   "metadata": {},
   "outputs": [
    {
     "data": {
      "text/html": [
       "<div>\n",
       "<style scoped>\n",
       "    .dataframe tbody tr th:only-of-type {\n",
       "        vertical-align: middle;\n",
       "    }\n",
       "\n",
       "    .dataframe tbody tr th {\n",
       "        vertical-align: top;\n",
       "    }\n",
       "\n",
       "    .dataframe thead th {\n",
       "        text-align: right;\n",
       "    }\n",
       "</style>\n",
       "<table border=\"1\" class=\"dataframe\">\n",
       "  <thead>\n",
       "    <tr style=\"text-align: right;\">\n",
       "      <th>price_category</th>\n",
       "      <th>cheap</th>\n",
       "      <th>expensive</th>\n",
       "    </tr>\n",
       "    <tr>\n",
       "      <th>street</th>\n",
       "      <th></th>\n",
       "      <th></th>\n",
       "    </tr>\n",
       "  </thead>\n",
       "  <tbody>\n",
       "    <tr>\n",
       "      <th>Disponentgatan</th>\n",
       "      <td>7</td>\n",
       "      <td>5</td>\n",
       "    </tr>\n",
       "    <tr>\n",
       "      <th>Essinge Brogata</th>\n",
       "      <td>41</td>\n",
       "      <td>24</td>\n",
       "    </tr>\n",
       "    <tr>\n",
       "      <th>Luxgatan</th>\n",
       "      <td>15</td>\n",
       "      <td>17</td>\n",
       "    </tr>\n",
       "    <tr>\n",
       "      <th>Patentgatan</th>\n",
       "      <td>1</td>\n",
       "      <td>2</td>\n",
       "    </tr>\n",
       "    <tr>\n",
       "      <th>Primusgatan</th>\n",
       "      <td>37</td>\n",
       "      <td>29</td>\n",
       "    </tr>\n",
       "    <tr>\n",
       "      <th>Stralgatan</th>\n",
       "      <td>32</td>\n",
       "      <td>26</td>\n",
       "    </tr>\n",
       "  </tbody>\n",
       "</table>\n",
       "</div>"
      ],
      "text/plain": [
       "price_category   cheap  expensive\n",
       "street                           \n",
       "Disponentgatan       7          5\n",
       "Essinge Brogata     41         24\n",
       "Luxgatan            15         17\n",
       "Patentgatan          1          2\n",
       "Primusgatan         37         29\n",
       "Stralgatan          32         26"
      ]
     },
     "execution_count": 17,
     "metadata": {},
     "output_type": "execute_result"
    }
   ],
   "source": [
    "data_crosstab"
   ]
  },
  {
   "cell_type": "code",
   "execution_count": 18,
   "metadata": {},
   "outputs": [],
   "source": [
    "contigency_pct = pd.crosstab(data['street'],  data['price_category'], normalize='index')"
   ]
  },
  {
   "cell_type": "code",
   "execution_count": 19,
   "metadata": {},
   "outputs": [
    {
     "data": {
      "text/html": [
       "<div>\n",
       "<style scoped>\n",
       "    .dataframe tbody tr th:only-of-type {\n",
       "        vertical-align: middle;\n",
       "    }\n",
       "\n",
       "    .dataframe tbody tr th {\n",
       "        vertical-align: top;\n",
       "    }\n",
       "\n",
       "    .dataframe thead th {\n",
       "        text-align: right;\n",
       "    }\n",
       "</style>\n",
       "<table border=\"1\" class=\"dataframe\">\n",
       "  <thead>\n",
       "    <tr style=\"text-align: right;\">\n",
       "      <th>price_category</th>\n",
       "      <th>cheap</th>\n",
       "      <th>expensive</th>\n",
       "    </tr>\n",
       "    <tr>\n",
       "      <th>street</th>\n",
       "      <th></th>\n",
       "      <th></th>\n",
       "    </tr>\n",
       "  </thead>\n",
       "  <tbody>\n",
       "    <tr>\n",
       "      <th>Disponentgatan</th>\n",
       "      <td>0.583333</td>\n",
       "      <td>0.416667</td>\n",
       "    </tr>\n",
       "    <tr>\n",
       "      <th>Essinge Brogata</th>\n",
       "      <td>0.630769</td>\n",
       "      <td>0.369231</td>\n",
       "    </tr>\n",
       "    <tr>\n",
       "      <th>Luxgatan</th>\n",
       "      <td>0.468750</td>\n",
       "      <td>0.531250</td>\n",
       "    </tr>\n",
       "    <tr>\n",
       "      <th>Patentgatan</th>\n",
       "      <td>0.333333</td>\n",
       "      <td>0.666667</td>\n",
       "    </tr>\n",
       "    <tr>\n",
       "      <th>Primusgatan</th>\n",
       "      <td>0.560606</td>\n",
       "      <td>0.439394</td>\n",
       "    </tr>\n",
       "    <tr>\n",
       "      <th>Stralgatan</th>\n",
       "      <td>0.551724</td>\n",
       "      <td>0.448276</td>\n",
       "    </tr>\n",
       "  </tbody>\n",
       "</table>\n",
       "</div>"
      ],
      "text/plain": [
       "price_category      cheap  expensive\n",
       "street                              \n",
       "Disponentgatan   0.583333   0.416667\n",
       "Essinge Brogata  0.630769   0.369231\n",
       "Luxgatan         0.468750   0.531250\n",
       "Patentgatan      0.333333   0.666667\n",
       "Primusgatan      0.560606   0.439394\n",
       "Stralgatan       0.551724   0.448276"
      ]
     },
     "execution_count": 19,
     "metadata": {},
     "output_type": "execute_result"
    }
   ],
   "source": [
    "contigency_pct"
   ]
  },
  {
   "cell_type": "code",
   "execution_count": 20,
   "metadata": {},
   "outputs": [
    {
     "data": {
      "text/plain": [
       "<AxesSubplot:xlabel='price_category', ylabel='street'>"
      ]
     },
     "execution_count": 20,
     "metadata": {},
     "output_type": "execute_result"
    },
    {
     "data": {
      "image/png": "[encoded data removed]",
      "text/plain": [
       "<Figure size 864x576 with 2 Axes>"
      ]
     },
     "metadata": {
      "needs_background": "light"
     },
     "output_type": "display_data"
    }
   ],
   "source": [
    "plt.figure(figsize=(12,8))\n",
    "sns.heatmap(data_crosstab, annot=True, cmap=\"YlGnBu\")"
   ]
  },
  {
   "cell_type": "code",
   "execution_count": 21,
   "metadata": {},
   "outputs": [],
   "source": [
    "stat, p, dof, expected = chi2_contingency(data_crosstab)"
   ]
  },
  {
   "cell_type": "code",
   "execution_count": 22,
   "metadata": {},
   "outputs": [
    {
     "name": "stdout",
     "output_type": "stream",
     "text": [
      "Independent (fail to reject H0)\n"
     ]
    }
   ],
   "source": [
    "# interpret test-statistic\n",
    "prob = 0.95\n",
    "critical = chi2.ppf(prob, dof)\n",
    "if abs(stat) >= critical:\n",
    "    print('Dependent (reject H0)')\n",
    "else:\n",
    "    print('Independent (fail to reject H0)')\n"
   ]
  },
  {
   "cell_type": "code",
   "execution_count": 23,
   "metadata": {},
   "outputs": [
    {
     "data": {
      "text/plain": [
       "0.6900944260969768"
      ]
     },
     "execution_count": 23,
     "metadata": {},
     "output_type": "execute_result"
    }
   ],
   "source": [
    "p"
   ]
  },
  {
   "cell_type": "code",
   "execution_count": null,
   "metadata": {},
   "outputs": [],
   "source": []
  }
 ],
 "metadata": {
  "kernelspec": {
   "display_name": "Python 3",
   "language": "python",
   "name": "python3"
  },
  "language_info": {
   "codemirror_mode": {
    "name": "ipython",
    "version": 3
   },
   "file_extension": ".py",
   "mimetype": "text/x-python",
   "name": "python",
   "nbconvert_exporter": "python",
   "pygments_lexer": "ipython3",
   "version": "3.7.7"
  }
 },
 "nbformat": 4,
 "nbformat_minor": 4
}

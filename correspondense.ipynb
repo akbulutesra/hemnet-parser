{
 "cells": [
  {
   "cell_type": "code",
   "execution_count": 3,
   "metadata": {},
   "outputs": [],
   "source": [
    "import matplotlib.pyplot as plt\n",
    "import numpy as np\n",
    "from numpy.linalg import svd\n",
    "\n",
    "\n",
    "class CA(object):\n",
    "    \"\"\"Simple corresondence analysis.\n",
    "    \n",
    "    Inputs\n",
    "    ------\n",
    "    ct : array_like\n",
    "      Two-way contingency table. If `ct` is a pandas DataFrame object,\n",
    "      the index and column values are used for plotting.\n",
    "    Notes\n",
    "    -----\n",
    "    The implementation follows that presented in 'Correspondence\n",
    "    Analysis in R, with Two- and Three-dimensional Graphics: The ca\n",
    "    Package,' Journal of Statistical Software, May 2007, Volume 20,\n",
    "    Issue 3.\n",
    "    \"\"\"\n",
    "\n",
    "    def __init__(self, ct):\n",
    "        self.rows = ct.index.values if hasattr(ct, 'index') else None\n",
    "        self.cols = ct.columns.values if hasattr(ct, 'columns') else None\n",
    "        \n",
    "        # contingency table\n",
    "        N = np.matrix(ct, dtype=float)\n",
    "\n",
    "        # correspondence matrix from contingency table\n",
    "        P = N / N.sum()\n",
    "\n",
    "        # row and column marginal totals of P as vectors\n",
    "        r = P.sum(axis=1)\n",
    "        c = P.sum(axis=0).T\n",
    "\n",
    "        # diagonal matrices of row/column sums\n",
    "        D_r_rsq = np.diag(1. / np.sqrt(r.A1))\n",
    "        D_c_rsq = np.diag(1. / np.sqrt(c.A1))\n",
    "\n",
    "        # the matrix of standarized residuals\n",
    "        S = D_r_rsq * (P - r * c.T) * D_c_rsq\n",
    "\n",
    "        # compute the SVD\n",
    "        U, D_a, V = svd(S, full_matrices=False)\n",
    "        D_a = np.asmatrix(np.diag(D_a))\n",
    "        V = V.T\n",
    "\n",
    "        # principal coordinates of rows\n",
    "        F = D_r_rsq * U * D_a\n",
    "\n",
    "        # principal coordinates of columns\n",
    "        G = D_c_rsq * V * D_a\n",
    "\n",
    "        # standard coordinates of rows\n",
    "        X = D_r_rsq * U\n",
    "\n",
    "        # standard coordinates of columns\n",
    "        Y = D_c_rsq * V\n",
    "\n",
    "        # the total variance of the data matrix\n",
    "        inertia = sum([(P[i,j] - r[i,0] * c[j,0])**2 / (r[i,0] * c[j,0])\n",
    "                       for i in range(N.shape[0])\n",
    "                       for j in range(N.shape[1])])\n",
    "\n",
    "        self.F = F.A\n",
    "        self.G = G.A\n",
    "        self.X = X.A\n",
    "        self.Y = Y.A\n",
    "        self.inertia = inertia\n",
    "        self.eigenvals = np.diag(D_a)**2\n",
    "\n",
    "    def plot(self):\n",
    "        \"\"\"Plot the first and second dimensions.\"\"\"\n",
    "        xmin, xmax = None, None\n",
    "        ymin, ymax = None, None\n",
    "        if self.rows is not None:\n",
    "            for i, t in enumerate(self.rows):\n",
    "                x, y = self.F[i,0], self.F[i,1]\n",
    "                plt.text(x, y, t, va='center', ha='center', color='r')\n",
    "                xmin = min(x, xmin if xmin else x)\n",
    "                xmax = max(x, xmax if xmax else x)\n",
    "                ymin = min(y, ymin if ymin else y)\n",
    "                ymax = max(y, ymax if ymax else y)\n",
    "        else:\n",
    "            plt.plot(self.F[:, 0], self.F[:, 1], 'ro')\n",
    "\n",
    "        if self.cols is not None:\n",
    "            for i, t in enumerate(self.cols):\n",
    "                x, y = self.G[i,0], self.G[i,1]\n",
    "                plt.text(x, y, t, va='center', ha='center', color='b')\n",
    "                xmin = min(x, xmin if xmin else x)\n",
    "                xmax = max(x, xmax if xmax else x)\n",
    "                ymin = min(y, ymin if ymin else y)\n",
    "                ymax = max(y, ymax if ymax else y)\n",
    "        else:\n",
    "            plt.plot(self.G[:, 0], self.G[:, 1], 'bs')\n",
    "\n",
    "        if xmin and xmax:\n",
    "            pad = (xmax - xmin) * 0.1\n",
    "            plt.xlim(xmin - pad, xmax + pad)\n",
    "        if ymin and ymax:\n",
    "            pad = (ymax - ymin) * 0.1\n",
    "            plt.ylim(ymin - pad, ymax + pad)\n",
    "\n",
    "        plt.grid()\n",
    "        plt.xlabel('Dim 1')\n",
    "        plt.ylabel('Dim 2')\n",
    "\n",
    "    def scree_diagram(self, perc=True, *args, **kwargs):\n",
    "        \"\"\"Plot the scree diagram.\"\"\"\n",
    "        eigenvals = self.eigenvals\n",
    "        xs = np.arange(1, eigenvals.size + 1, 1)\n",
    "        ys = 100. * eigenvals / eigenvals.sum() if perc else eigenvals\n",
    "        plt.plot(xs, ys, *args, **kwargs)\n",
    "        plt.xlabel('Dimension')\n",
    "        plt.ylabel('Eigenvalue' + (' [%]' if perc else ''))\n",
    "\n"
   ]
  },
  {
   "cell_type": "code",
   "execution_count": 4,
   "metadata": {},
   "outputs": [],
   "source": [
    "import pandas as pd"
   ]
  },
  {
   "cell_type": "code",
   "execution_count": 6,
   "metadata": {},
   "outputs": [],
   "source": [
    "df = pd.read_csv('house_prices_fixed.csv',decimal=',')"
   ]
  },
  {
   "cell_type": "code",
   "execution_count": 7,
   "metadata": {},
   "outputs": [
    {
     "data": {
      "text/html": [
       "<div>\n",
       "<style scoped>\n",
       "    .dataframe tbody tr th:only-of-type {\n",
       "        vertical-align: middle;\n",
       "    }\n",
       "\n",
       "    .dataframe tbody tr th {\n",
       "        vertical-align: top;\n",
       "    }\n",
       "\n",
       "    .dataframe thead th {\n",
       "        text-align: right;\n",
       "    }\n",
       "</style>\n",
       "<table border=\"1\" class=\"dataframe\">\n",
       "  <thead>\n",
       "    <tr style=\"text-align: right;\">\n",
       "      <th></th>\n",
       "      <th>area</th>\n",
       "      <th>demanded_price</th>\n",
       "      <th>final_price</th>\n",
       "      <th>monthly_fee</th>\n",
       "      <th>operating_cost</th>\n",
       "      <th>price_per_squaremeter</th>\n",
       "      <th>year_of_construction</th>\n",
       "    </tr>\n",
       "  </thead>\n",
       "  <tbody>\n",
       "    <tr>\n",
       "      <th>count</th>\n",
       "      <td>236.000000</td>\n",
       "      <td>2.360000e+02</td>\n",
       "      <td>2.360000e+02</td>\n",
       "      <td>236.000000</td>\n",
       "      <td>205.000000</td>\n",
       "      <td>236.000000</td>\n",
       "      <td>236.000000</td>\n",
       "    </tr>\n",
       "    <tr>\n",
       "      <th>mean</th>\n",
       "      <td>51.313559</td>\n",
       "      <td>3.918665e+06</td>\n",
       "      <td>4.255023e+06</td>\n",
       "      <td>3031.029661</td>\n",
       "      <td>5364.853659</td>\n",
       "      <td>83405.406780</td>\n",
       "      <td>1959.559322</td>\n",
       "    </tr>\n",
       "    <tr>\n",
       "      <th>std</th>\n",
       "      <td>21.914320</td>\n",
       "      <td>1.990376e+06</td>\n",
       "      <td>2.020610e+06</td>\n",
       "      <td>1143.708769</td>\n",
       "      <td>1763.301268</td>\n",
       "      <td>11409.892666</td>\n",
       "      <td>32.012376</td>\n",
       "    </tr>\n",
       "    <tr>\n",
       "      <th>min</th>\n",
       "      <td>19.000000</td>\n",
       "      <td>1.795000e+06</td>\n",
       "      <td>2.000000e+06</td>\n",
       "      <td>1217.000000</td>\n",
       "      <td>1100.000000</td>\n",
       "      <td>56875.000000</td>\n",
       "      <td>1909.000000</td>\n",
       "    </tr>\n",
       "    <tr>\n",
       "      <th>25%</th>\n",
       "      <td>35.000000</td>\n",
       "      <td>2.595000e+06</td>\n",
       "      <td>2.875000e+06</td>\n",
       "      <td>2123.500000</td>\n",
       "      <td>4056.000000</td>\n",
       "      <td>75826.000000</td>\n",
       "      <td>1938.000000</td>\n",
       "    </tr>\n",
       "    <tr>\n",
       "      <th>50%</th>\n",
       "      <td>44.500000</td>\n",
       "      <td>3.075000e+06</td>\n",
       "      <td>3.425000e+06</td>\n",
       "      <td>2797.000000</td>\n",
       "      <td>5200.000000</td>\n",
       "      <td>81936.500000</td>\n",
       "      <td>1939.000000</td>\n",
       "    </tr>\n",
       "    <tr>\n",
       "      <th>75%</th>\n",
       "      <td>64.125000</td>\n",
       "      <td>4.708750e+06</td>\n",
       "      <td>5.162500e+06</td>\n",
       "      <td>3727.000000</td>\n",
       "      <td>6144.000000</td>\n",
       "      <td>90828.000000</td>\n",
       "      <td>2004.000000</td>\n",
       "    </tr>\n",
       "    <tr>\n",
       "      <th>max</th>\n",
       "      <td>135.000000</td>\n",
       "      <td>1.395000e+07</td>\n",
       "      <td>1.500000e+07</td>\n",
       "      <td>7368.000000</td>\n",
       "      <td>12979.000000</td>\n",
       "      <td>127727.000000</td>\n",
       "      <td>2007.000000</td>\n",
       "    </tr>\n",
       "  </tbody>\n",
       "</table>\n",
       "</div>"
      ],
      "text/plain": [
       "             area  demanded_price   final_price  monthly_fee  operating_cost  \\\n",
       "count  236.000000    2.360000e+02  2.360000e+02   236.000000      205.000000   \n",
       "mean    51.313559    3.918665e+06  4.255023e+06  3031.029661     5364.853659   \n",
       "std     21.914320    1.990376e+06  2.020610e+06  1143.708769     1763.301268   \n",
       "min     19.000000    1.795000e+06  2.000000e+06  1217.000000     1100.000000   \n",
       "25%     35.000000    2.595000e+06  2.875000e+06  2123.500000     4056.000000   \n",
       "50%     44.500000    3.075000e+06  3.425000e+06  2797.000000     5200.000000   \n",
       "75%     64.125000    4.708750e+06  5.162500e+06  3727.000000     6144.000000   \n",
       "max    135.000000    1.395000e+07  1.500000e+07  7368.000000    12979.000000   \n",
       "\n",
       "       price_per_squaremeter  year_of_construction  \n",
       "count             236.000000            236.000000  \n",
       "mean            83405.406780           1959.559322  \n",
       "std             11409.892666             32.012376  \n",
       "min             56875.000000           1909.000000  \n",
       "25%             75826.000000           1938.000000  \n",
       "50%             81936.500000           1939.000000  \n",
       "75%             90828.000000           2004.000000  \n",
       "max            127727.000000           2007.000000  "
      ]
     },
     "execution_count": 7,
     "metadata": {},
     "output_type": "execute_result"
    }
   ],
   "source": [
    "df.describe()"
   ]
  },
  {
   "cell_type": "code",
   "execution_count": 8,
   "metadata": {},
   "outputs": [
    {
     "data": {
      "text/html": [
       "<div>\n",
       "<style scoped>\n",
       "    .dataframe tbody tr th:only-of-type {\n",
       "        vertical-align: middle;\n",
       "    }\n",
       "\n",
       "    .dataframe tbody tr th {\n",
       "        vertical-align: top;\n",
       "    }\n",
       "\n",
       "    .dataframe thead th {\n",
       "        text-align: right;\n",
       "    }\n",
       "</style>\n",
       "<table border=\"1\" class=\"dataframe\">\n",
       "  <thead>\n",
       "    <tr style=\"text-align: right;\">\n",
       "      <th></th>\n",
       "      <th>address</th>\n",
       "      <th>area</th>\n",
       "      <th>date</th>\n",
       "      <th>demanded_price</th>\n",
       "      <th>final_price</th>\n",
       "      <th>monthly_fee</th>\n",
       "      <th>operating_cost</th>\n",
       "      <th>price_per_squaremeter</th>\n",
       "      <th>room_number</th>\n",
       "      <th>title</th>\n",
       "      <th>url</th>\n",
       "      <th>year_of_construction</th>\n",
       "    </tr>\n",
       "  </thead>\n",
       "  <tbody>\n",
       "    <tr>\n",
       "      <th>0</th>\n",
       "      <td>Luxgatan 7</td>\n",
       "      <td>30.0</td>\n",
       "      <td>13/01/21</td>\n",
       "      <td>2350000</td>\n",
       "      <td>2550000</td>\n",
       "      <td>1733</td>\n",
       "      <td>6096.0</td>\n",
       "      <td>85000</td>\n",
       "      <td>1 rum</td>\n",
       "      <td>Luxgatan 7 - Sald  - Lilla Essingen \\\\\\\\ Kungs...</td>\n",
       "      <td>https://www.hemnet.se/salda/lagenhet-1rum-lill...</td>\n",
       "      <td>1937</td>\n",
       "    </tr>\n",
       "    <tr>\n",
       "      <th>1</th>\n",
       "      <td>Primusgatan 108, 6/6 tr</td>\n",
       "      <td>101.0</td>\n",
       "      <td>10/01/21</td>\n",
       "      <td>11400000</td>\n",
       "      <td>11400000</td>\n",
       "      <td>5887</td>\n",
       "      <td>5540.0</td>\n",
       "      <td>112871</td>\n",
       "      <td>4 rum</td>\n",
       "      <td>Primusgatan 108, 6/6 tr - Sald  - Kungsholmen ...</td>\n",
       "      <td>https://www.hemnet.se/salda/lagenhet-4rum-kung...</td>\n",
       "      <td>1935</td>\n",
       "    </tr>\n",
       "    <tr>\n",
       "      <th>2</th>\n",
       "      <td>Stralgatan 47, 3 tr</td>\n",
       "      <td>31.0</td>\n",
       "      <td>08/01/21</td>\n",
       "      <td>2595000</td>\n",
       "      <td>2875000</td>\n",
       "      <td>2471</td>\n",
       "      <td>3200.0</td>\n",
       "      <td>92742</td>\n",
       "      <td>2 rum</td>\n",
       "      <td>Stralgatan 47, 3 tr  - Sald  - Lilla Essingen ...</td>\n",
       "      <td>https://www.hemnet.se/salda/lagenhet-2rum-lill...</td>\n",
       "      <td>1939</td>\n",
       "    </tr>\n",
       "    <tr>\n",
       "      <th>3</th>\n",
       "      <td>Disponentgatan 1</td>\n",
       "      <td>46.0</td>\n",
       "      <td>08/01/21</td>\n",
       "      <td>3550000</td>\n",
       "      <td>3550000</td>\n",
       "      <td>3003</td>\n",
       "      <td>12979.0</td>\n",
       "      <td>77174</td>\n",
       "      <td>2,5 rum</td>\n",
       "      <td>Disponentgatan 1 - Sald  - Lilla Essingen, STO...</td>\n",
       "      <td>https://www.hemnet.se/salda/lagenhet-2,5rum-li...</td>\n",
       "      <td>1935</td>\n",
       "    </tr>\n",
       "    <tr>\n",
       "      <th>4</th>\n",
       "      <td>Essinge Brogata 12</td>\n",
       "      <td>34.5</td>\n",
       "      <td>08/01/21</td>\n",
       "      <td>2495000</td>\n",
       "      <td>2900000</td>\n",
       "      <td>2162</td>\n",
       "      <td>4200.0</td>\n",
       "      <td>84058</td>\n",
       "      <td>2 rum</td>\n",
       "      <td>Essinge Brogata 12 - Sald  - Kungsholmen - Lil...</td>\n",
       "      <td>https://www.hemnet.se/salda/lagenhet-2rum-kung...</td>\n",
       "      <td>1934</td>\n",
       "    </tr>\n",
       "  </tbody>\n",
       "</table>\n",
       "</div>"
      ],
      "text/plain": [
       "                   address   area      date  demanded_price  final_price  \\\n",
       "0               Luxgatan 7   30.0  13/01/21         2350000      2550000   \n",
       "1  Primusgatan 108, 6/6 tr  101.0  10/01/21        11400000     11400000   \n",
       "2      Stralgatan 47, 3 tr   31.0  08/01/21         2595000      2875000   \n",
       "3         Disponentgatan 1   46.0  08/01/21         3550000      3550000   \n",
       "4       Essinge Brogata 12   34.5  08/01/21         2495000      2900000   \n",
       "\n",
       "   monthly_fee  operating_cost  price_per_squaremeter room_number  \\\n",
       "0         1733          6096.0                  85000       1 rum   \n",
       "1         5887          5540.0                 112871       4 rum   \n",
       "2         2471          3200.0                  92742       2 rum   \n",
       "3         3003         12979.0                  77174     2,5 rum   \n",
       "4         2162          4200.0                  84058       2 rum   \n",
       "\n",
       "                                               title  \\\n",
       "0  Luxgatan 7 - Sald  - Lilla Essingen \\\\\\\\ Kungs...   \n",
       "1  Primusgatan 108, 6/6 tr - Sald  - Kungsholmen ...   \n",
       "2  Stralgatan 47, 3 tr  - Sald  - Lilla Essingen ...   \n",
       "3  Disponentgatan 1 - Sald  - Lilla Essingen, STO...   \n",
       "4  Essinge Brogata 12 - Sald  - Kungsholmen - Lil...   \n",
       "\n",
       "                                                 url  year_of_construction  \n",
       "0  https://www.hemnet.se/salda/lagenhet-1rum-lill...                  1937  \n",
       "1  https://www.hemnet.se/salda/lagenhet-4rum-kung...                  1935  \n",
       "2  https://www.hemnet.se/salda/lagenhet-2rum-lill...                  1939  \n",
       "3  https://www.hemnet.se/salda/lagenhet-2,5rum-li...                  1935  \n",
       "4  https://www.hemnet.se/salda/lagenhet-2rum-kung...                  1934  "
      ]
     },
     "execution_count": 8,
     "metadata": {},
     "output_type": "execute_result"
    }
   ],
   "source": [
    "df.head()"
   ]
  },
  {
   "cell_type": "markdown",
   "metadata": {},
   "source": [
    "## Room number - Price Category"
   ]
  },
  {
   "cell_type": "code",
   "execution_count": 14,
   "metadata": {},
   "outputs": [],
   "source": [
    "data['price_category'] = list(map(lambda x: 'expensive' if x > 83405 else 'cheap',data['price_per_squaremeter']))"
   ]
  },
  {
   "cell_type": "code",
   "execution_count": 20,
   "metadata": {},
   "outputs": [],
   "source": [
    "contigency_pct = pd.crosstab(data['room_number'],  data['price_category'])"
   ]
  },
  {
   "cell_type": "code",
   "execution_count": 21,
   "metadata": {},
   "outputs": [
    {
     "data": {
      "text/html": [
       "<div>\n",
       "<style scoped>\n",
       "    .dataframe tbody tr th:only-of-type {\n",
       "        vertical-align: middle;\n",
       "    }\n",
       "\n",
       "    .dataframe tbody tr th {\n",
       "        vertical-align: top;\n",
       "    }\n",
       "\n",
       "    .dataframe thead th {\n",
       "        text-align: right;\n",
       "    }\n",
       "</style>\n",
       "<table border=\"1\" class=\"dataframe\">\n",
       "  <thead>\n",
       "    <tr style=\"text-align: right;\">\n",
       "      <th>price_category</th>\n",
       "      <th>cheap</th>\n",
       "      <th>expensive</th>\n",
       "    </tr>\n",
       "    <tr>\n",
       "      <th>room_number</th>\n",
       "      <th></th>\n",
       "      <th></th>\n",
       "    </tr>\n",
       "  </thead>\n",
       "  <tbody>\n",
       "    <tr>\n",
       "      <th>1 rum</th>\n",
       "      <td>4</td>\n",
       "      <td>25</td>\n",
       "    </tr>\n",
       "    <tr>\n",
       "      <th>1,5 rum</th>\n",
       "      <td>5</td>\n",
       "      <td>11</td>\n",
       "    </tr>\n",
       "    <tr>\n",
       "      <th>2 rum</th>\n",
       "      <td>85</td>\n",
       "      <td>43</td>\n",
       "    </tr>\n",
       "    <tr>\n",
       "      <th>2,5 rum</th>\n",
       "      <td>5</td>\n",
       "      <td>1</td>\n",
       "    </tr>\n",
       "    <tr>\n",
       "      <th>3 rum</th>\n",
       "      <td>28</td>\n",
       "      <td>15</td>\n",
       "    </tr>\n",
       "    <tr>\n",
       "      <th>3,5 rum</th>\n",
       "      <td>3</td>\n",
       "      <td>0</td>\n",
       "    </tr>\n",
       "    <tr>\n",
       "      <th>4 rum</th>\n",
       "      <td>3</td>\n",
       "      <td>8</td>\n",
       "    </tr>\n",
       "  </tbody>\n",
       "</table>\n",
       "</div>"
      ],
      "text/plain": [
       "price_category  cheap  expensive\n",
       "room_number                     \n",
       "1 rum               4         25\n",
       "1,5 rum             5         11\n",
       "2 rum              85         43\n",
       "2,5 rum             5          1\n",
       "3 rum              28         15\n",
       "3,5 rum             3          0\n",
       "4 rum               3          8"
      ]
     },
     "execution_count": 21,
     "metadata": {},
     "output_type": "execute_result"
    }
   ],
   "source": [
    "contigency_pct"
   ]
  },
  {
   "cell_type": "code",
   "execution_count": 22,
   "metadata": {},
   "outputs": [],
   "source": [
    "ca = CA(contigency_pct)"
   ]
  },
  {
   "cell_type": "code",
   "execution_count": 23,
   "metadata": {},
   "outputs": [
    {
     "data": {
      "image/png": "[encoded data removed]",
      "text/plain": [
       "<Figure size 432x288 with 1 Axes>"
      ]
     },
     "metadata": {
      "needs_background": "light"
     },
     "output_type": "display_data"
    },
    {
     "data": {
      "image/png": "[encoded data removed]",
      "text/plain": [
       "<Figure size 432x288 with 1 Axes>"
      ]
     },
     "metadata": {
      "needs_background": "light"
     },
     "output_type": "display_data"
    }
   ],
   "source": [
    "plt.figure(100)\n",
    "ca.plot()\n",
    "\n",
    "plt.figure(101)\n",
    "ca.scree_diagram()\n",
    "\n",
    "plt.show()"
   ]
  },
  {
   "cell_type": "markdown",
   "metadata": {},
   "source": [
    "Since 1, 1.5 and 4 rooms apartment are rare, their price is closer "
   ]
  },
  {
   "cell_type": "markdown",
   "metadata": {},
   "source": [
    "## Test - Build year - Price "
   ]
  },
  {
   "cell_type": "code",
   "execution_count": 25,
   "metadata": {},
   "outputs": [],
   "source": [
    "data['years_category'] = list(map(lambda x: 'new' if x > 1960 else 'old',data['year_of_construction']))"
   ]
  },
  {
   "cell_type": "code",
   "execution_count": 27,
   "metadata": {},
   "outputs": [],
   "source": [
    "data_crosstab = pd.crosstab(data['years_category'], data['price_category'])"
   ]
  },
  {
   "cell_type": "code",
   "execution_count": 28,
   "metadata": {},
   "outputs": [
    {
     "data": {
      "text/html": [
       "<div>\n",
       "<style scoped>\n",
       "    .dataframe tbody tr th:only-of-type {\n",
       "        vertical-align: middle;\n",
       "    }\n",
       "\n",
       "    .dataframe tbody tr th {\n",
       "        vertical-align: top;\n",
       "    }\n",
       "\n",
       "    .dataframe thead th {\n",
       "        text-align: right;\n",
       "    }\n",
       "</style>\n",
       "<table border=\"1\" class=\"dataframe\">\n",
       "  <thead>\n",
       "    <tr style=\"text-align: right;\">\n",
       "      <th>price_category</th>\n",
       "      <th>cheap</th>\n",
       "      <th>expensive</th>\n",
       "    </tr>\n",
       "    <tr>\n",
       "      <th>years_category</th>\n",
       "      <th></th>\n",
       "      <th></th>\n",
       "    </tr>\n",
       "  </thead>\n",
       "  <tbody>\n",
       "    <tr>\n",
       "      <th>new</th>\n",
       "      <td>50</td>\n",
       "      <td>28</td>\n",
       "    </tr>\n",
       "    <tr>\n",
       "      <th>old</th>\n",
       "      <td>83</td>\n",
       "      <td>75</td>\n",
       "    </tr>\n",
       "  </tbody>\n",
       "</table>\n",
       "</div>"
      ],
      "text/plain": [
       "price_category  cheap  expensive\n",
       "years_category                  \n",
       "new                50         28\n",
       "old                83         75"
      ]
     },
     "execution_count": 28,
     "metadata": {},
     "output_type": "execute_result"
    }
   ],
   "source": [
    "data_crosstab"
   ]
  },
  {
   "cell_type": "code",
   "execution_count": 30,
   "metadata": {},
   "outputs": [
    {
     "data": {
      "image/png": "[encoded data removed]",
      "text/plain": [
       "<Figure size 432x288 with 1 Axes>"
      ]
     },
     "metadata": {
      "needs_background": "light"
     },
     "output_type": "display_data"
    },
    {
     "data": {
      "image/png": "[encoded data removed]",
      "text/plain": [
       "<Figure size 432x288 with 1 Axes>"
      ]
     },
     "metadata": {
      "needs_background": "light"
     },
     "output_type": "display_data"
    }
   ],
   "source": [
    "ca = CA(data_crosstab)\n",
    "plt.figure(100)\n",
    "ca.plot()\n",
    "\n",
    "plt.figure(101)\n",
    "ca.scree_diagram()\n",
    "\n",
    "plt.show()"
   ]
  },
  {
   "cell_type": "markdown",
   "metadata": {},
   "source": [
    "## Test -Area - Price"
   ]
  },
  {
   "cell_type": "code",
   "execution_count": 32,
   "metadata": {},
   "outputs": [],
   "source": [
    "data['area_category'] = list(map(lambda x: \n",
    "                                  'very big' if x > 64.125 else (\n",
    "                                  'big' if x > 44.50 else (\n",
    "                                  'average' if x > 35 else \n",
    "                                      'small'))\n",
    "                                  ,data['area']))"
   ]
  },
  {
   "cell_type": "code",
   "execution_count": 33,
   "metadata": {},
   "outputs": [],
   "source": [
    "data_crosstab = pd.crosstab(data['area_category'], data['price_category'])"
   ]
  },
  {
   "cell_type": "code",
   "execution_count": 34,
   "metadata": {},
   "outputs": [
    {
     "data": {
      "text/html": [
       "<div>\n",
       "<style scoped>\n",
       "    .dataframe tbody tr th:only-of-type {\n",
       "        vertical-align: middle;\n",
       "    }\n",
       "\n",
       "    .dataframe tbody tr th {\n",
       "        vertical-align: top;\n",
       "    }\n",
       "\n",
       "    .dataframe thead th {\n",
       "        text-align: right;\n",
       "    }\n",
       "</style>\n",
       "<table border=\"1\" class=\"dataframe\">\n",
       "  <thead>\n",
       "    <tr style=\"text-align: right;\">\n",
       "      <th>price_category</th>\n",
       "      <th>cheap</th>\n",
       "      <th>expensive</th>\n",
       "    </tr>\n",
       "    <tr>\n",
       "      <th>area_category</th>\n",
       "      <th></th>\n",
       "      <th></th>\n",
       "    </tr>\n",
       "  </thead>\n",
       "  <tbody>\n",
       "    <tr>\n",
       "      <th>average</th>\n",
       "      <td>42</td>\n",
       "      <td>15</td>\n",
       "    </tr>\n",
       "    <tr>\n",
       "      <th>big</th>\n",
       "      <td>42</td>\n",
       "      <td>16</td>\n",
       "    </tr>\n",
       "    <tr>\n",
       "      <th>small</th>\n",
       "      <td>14</td>\n",
       "      <td>48</td>\n",
       "    </tr>\n",
       "    <tr>\n",
       "      <th>very big</th>\n",
       "      <td>35</td>\n",
       "      <td>24</td>\n",
       "    </tr>\n",
       "  </tbody>\n",
       "</table>\n",
       "</div>"
      ],
      "text/plain": [
       "price_category  cheap  expensive\n",
       "area_category                   \n",
       "average            42         15\n",
       "big                42         16\n",
       "small              14         48\n",
       "very big           35         24"
      ]
     },
     "execution_count": 34,
     "metadata": {},
     "output_type": "execute_result"
    }
   ],
   "source": [
    "data_crosstab"
   ]
  },
  {
   "cell_type": "code",
   "execution_count": 35,
   "metadata": {},
   "outputs": [
    {
     "data": {
      "image/png": "[encoded data removed]",
      "text/plain": [
       "<Figure size 432x288 with 1 Axes>"
      ]
     },
     "metadata": {
      "needs_background": "light"
     },
     "output_type": "display_data"
    },
    {
     "data": {
      "image/png": "[encoded data removed]",
      "text/plain": [
       "<Figure size 432x288 with 1 Axes>"
      ]
     },
     "metadata": {
      "needs_background": "light"
     },
     "output_type": "display_data"
    }
   ],
   "source": [
    "ca = CA(data_crosstab)\n",
    "plt.figure(100)\n",
    "ca.plot()\n",
    "\n",
    "plt.figure(101)\n",
    "ca.scree_diagram()\n",
    "\n",
    "plt.show()"
   ]
  },
  {
   "cell_type": "markdown",
   "metadata": {},
   "source": [
    "## Test - Street - Price"
   ]
  },
  {
   "cell_type": "code",
   "execution_count": 36,
   "metadata": {},
   "outputs": [],
   "source": [
    "data['street'] = list(map(lambda x: x.split()[0],data['address']))"
   ]
  },
  {
   "cell_type": "code",
   "execution_count": 37,
   "metadata": {},
   "outputs": [],
   "source": [
    "data['street'] = list(map(lambda x: 'Essinge Brogata' if x == 'Essinge' else x,data['street']))"
   ]
  },
  {
   "cell_type": "code",
   "execution_count": 38,
   "metadata": {},
   "outputs": [],
   "source": [
    "data_crosstab = pd.crosstab(data['street'],  data['price_category'])"
   ]
  },
  {
   "cell_type": "code",
   "execution_count": 39,
   "metadata": {},
   "outputs": [
    {
     "data": {
      "text/html": [
       "<div>\n",
       "<style scoped>\n",
       "    .dataframe tbody tr th:only-of-type {\n",
       "        vertical-align: middle;\n",
       "    }\n",
       "\n",
       "    .dataframe tbody tr th {\n",
       "        vertical-align: top;\n",
       "    }\n",
       "\n",
       "    .dataframe thead th {\n",
       "        text-align: right;\n",
       "    }\n",
       "</style>\n",
       "<table border=\"1\" class=\"dataframe\">\n",
       "  <thead>\n",
       "    <tr style=\"text-align: right;\">\n",
       "      <th>price_category</th>\n",
       "      <th>cheap</th>\n",
       "      <th>expensive</th>\n",
       "    </tr>\n",
       "    <tr>\n",
       "      <th>street</th>\n",
       "      <th></th>\n",
       "      <th></th>\n",
       "    </tr>\n",
       "  </thead>\n",
       "  <tbody>\n",
       "    <tr>\n",
       "      <th>Disponentgatan</th>\n",
       "      <td>7</td>\n",
       "      <td>5</td>\n",
       "    </tr>\n",
       "    <tr>\n",
       "      <th>Essinge Brogata</th>\n",
       "      <td>41</td>\n",
       "      <td>24</td>\n",
       "    </tr>\n",
       "    <tr>\n",
       "      <th>Luxgatan</th>\n",
       "      <td>15</td>\n",
       "      <td>17</td>\n",
       "    </tr>\n",
       "    <tr>\n",
       "      <th>Patentgatan</th>\n",
       "      <td>1</td>\n",
       "      <td>2</td>\n",
       "    </tr>\n",
       "    <tr>\n",
       "      <th>Primusgatan</th>\n",
       "      <td>37</td>\n",
       "      <td>29</td>\n",
       "    </tr>\n",
       "    <tr>\n",
       "      <th>Stralgatan</th>\n",
       "      <td>32</td>\n",
       "      <td>26</td>\n",
       "    </tr>\n",
       "  </tbody>\n",
       "</table>\n",
       "</div>"
      ],
      "text/plain": [
       "price_category   cheap  expensive\n",
       "street                           \n",
       "Disponentgatan       7          5\n",
       "Essinge Brogata     41         24\n",
       "Luxgatan            15         17\n",
       "Patentgatan          1          2\n",
       "Primusgatan         37         29\n",
       "Stralgatan          32         26"
      ]
     },
     "execution_count": 39,
     "metadata": {},
     "output_type": "execute_result"
    }
   ],
   "source": [
    "data_crosstab"
   ]
  },
  {
   "cell_type": "code",
   "execution_count": 40,
   "metadata": {},
   "outputs": [
    {
     "data": {
      "image/png": "[encoded data removed]",
      "text/plain": [
       "<Figure size 432x288 with 1 Axes>"
      ]
     },
     "metadata": {
      "needs_background": "light"
     },
     "output_type": "display_data"
    },
    {
     "data": {
      "image/png": "[encoded data removed]",
      "text/plain": [
       "<Figure size 432x288 with 1 Axes>"
      ]
     },
     "metadata": {
      "needs_background": "light"
     },
     "output_type": "display_data"
    }
   ],
   "source": [
    "ca = CA(data_crosstab)\n",
    "plt.figure(100)\n",
    "ca.plot()\n",
    "\n",
    "plt.figure(101)\n",
    "ca.scree_diagram()\n",
    "\n",
    "plt.show()"
   ]
  },
  {
   "cell_type": "code",
   "execution_count": null,
   "metadata": {},
   "outputs": [],
   "source": []
  }
 ],
 "metadata": {
  "kernelspec": {
   "display_name": "Python 3",
   "language": "python",
   "name": "python3"
  },
  "language_info": {
   "codemirror_mode": {
    "name": "ipython",
    "version": 3
   },
   "file_extension": ".py",
   "mimetype": "text/x-python",
   "name": "python",
   "nbconvert_exporter": "python",
   "pygments_lexer": "ipython3",
   "version": "3.7.7"
  }
 },
 "nbformat": 4,
 "nbformat_minor": 4
}
